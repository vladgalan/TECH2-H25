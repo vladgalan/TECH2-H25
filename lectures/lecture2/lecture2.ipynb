{
 "cells": [
  {
   "attachments": {},
   "cell_type": "markdown",
   "metadata": {
    "collapsed": true,
    "pycharm": {
     "name": "#%% md\n"
    }
   },
   "source": [
    "# Introduction to pandas\n",
    "\n",
    "\n",
    "## Motivation\n",
    "\n",
    "So far, we have encountered built-in Python containers (`list`, `tuple`, `dict`) \n",
    "and NumPy arrays as the only way to store data.\n",
    "However, while NumPy arrays are great for storing *homogenous* data\n",
    "without any particular structure, they are somewhat limited when\n",
    "we want to use them for data analysis.\n",
    "\n",
    "For example, we usually want to process data sets with\n",
    "\n",
    "1.  several variables;\n",
    "2.  multiple observations, which need not be identical across\n",
    "    variables (some values may be missing);\n",
    "3.  non-homogenous data types: for examples,\n",
    "    names need to be stored as strings, birthdays as dates and income as\n",
    "    a floating-point number.\n",
    "\n",
    "While NumPy can in principle handle such situations, it puts all the\n",
    "burden on the user. Most users would prefer to not have to deal\n",
    "with such low-level details.\n",
    "\n",
    "Pandas was created to offer more versatile data structures that are\n",
    "straightforward to use for storing, manipulating and analyzing\n",
    "heterogeneous data:\n",
    "\n",
    "1.  Data is organized in *variables* and *observations*, similar\n",
    "    to econometrics programs such as Stata, or R using `data.frame` objects.\n",
    "\n",
    "2.  Each variable is permitted to have a *different* data type.\n",
    "\n",
    "3.  We can use *labels* to select observations instead of having to use\n",
    "    a linear numerical index as with NumPy.\n",
    "\n",
    "    We could, for example, index a data set using National Insurance Numbers\n",
    "    or time stamps for time series data.\n",
    "\n",
    "4.  Pandas offers many convenient data aggregation and reduction\n",
    "    routines that can be applied to subsets of data.\n",
    "\n",
    "    For example, we can easily group observations by city and compute average\n",
    "    incomes.\n",
    "\n",
    "5.  Pandas also offers many convenient data import / export functions that\n",
    "    go beyond what's in NumPy.\n",
    "\n",
    "Should we be using pandas at all times, then? No!\n",
    "\n",
    "-   For low-level tasks where performance is essential, use NumPy.\n",
    "-   For homogenous data without any particular data structure, use NumPy.\n",
    "-   On the other hand, if data is heterogeneous, needs to be imported from\n",
    "    an external data source and cleaned or transformed before\n",
    "    performing computations, use pandas.\n",
    "\n",
    "There are numerous tutorials on pandas on the internet.\n",
    "Useful additional material includes:\n",
    "\n",
    "-   The official [user guide](https://pandas.pydata.org/docs/user_guide/index.html).\n",
    "-   The official [pandas cheat sheet](https://pandas.pydata.org/Pandas_Cheat_Sheet.pdf)\n",
    "    which nicely illustrates the most frequently used operations.\n",
    "-   The official [API reference](https://pandas.pydata.org/docs/reference/index.html) with details on\n",
    "    every pandas object and function.\n",
    "-   There are numerous tutorials (including videos) available\n",
    "    on the internet. See [here](https://pandas.pydata.org/docs/getting_started/tutorials.html)\n",
    "    for a list."
   ]
  },
  {
   "attachments": {},
   "cell_type": "markdown",
   "metadata": {
    "collapsed": false,
    "pycharm": {
     "name": "#%% md\n"
    }
   },
   "source": [
    "***\n",
    "## Creating pandas data structures\n",
    "\n",
    "Pandas has two main data structures:\n",
    "\n",
    "1.  [`Series`](https://pandas.pydata.org/docs/reference/series.html) \n",
    "    represents observations of a *single* variable.\n",
    "2.  [`DataFrame`](https://pandas.pydata.org/docs/reference/frame.html) \n",
    "    is a container for *several* variables. You can think\n",
    "    of each individual column of a `DataFrame` as a `Series`,\n",
    "    and each row represents one observation.\n",
    "\n",
    "The easiest way to create a `Series` or `DataFrame` is to create\n",
    "them from pre-existing data.\n",
    "\n",
    "To access pandas data structures and routines, we need to import them first.\n",
    "The near-universal convention is to make pandas available using the name `pd`:\n",
    "```python\n",
    "import pandas as pd\n",
    "```"
   ]
  },
  {
   "attachments": {},
   "cell_type": "markdown",
   "metadata": {},
   "source": [
    "*Example: Create Series from 1-dimensional NumPy array*"
   ]
  },
  {
   "cell_type": "code",
   "execution_count": 1,
   "metadata": {},
   "outputs": [
    {
     "data": {
      "text/plain": [
       "0    5\n",
       "1    6\n",
       "2    7\n",
       "3    8\n",
       "4    9\n",
       "dtype: int64"
      ]
     },
     "execution_count": 1,
     "metadata": {},
     "output_type": "execute_result"
    }
   ],
   "source": [
    "import numpy as np\n",
    "import pandas as pd             # universal convention: import using pd\n",
    "\n",
    "# Create array of integers from 5 to 9\n",
    "data = np.arange(5, 10)\n",
    "\n",
    "# Create pandas Series from 1-dimensional NumPy array\n",
    "pd.Series(data)"
   ]
  },
  {
   "attachments": {},
   "cell_type": "markdown",
   "metadata": {
    "collapsed": false,
    "pycharm": {
     "name": "#%% md\n"
    }
   },
   "source": [
    "*Example: Create DataFrame from NumPy array*\n",
    "\n",
    "We can also create a `DataFrame` from a 2-dimensional NumPy array.\n",
    "To this end, we first create a 1-dimensional array of increasing integers from 0 to 14 and then \n",
    "use the [`reshape()`](https://numpy.org/doc/stable/reference/generated/numpy.reshape.html)\n",
    "method to reshape it to a 2-dimensional array."
   ]
  },
  {
   "cell_type": "code",
   "execution_count": 2,
   "metadata": {
    "collapsed": false,
    "pycharm": {
     "name": "#%%\n"
    }
   },
   "outputs": [
    {
     "data": {
      "text/html": [
       "<div>\n",
       "<style scoped>\n",
       "    .dataframe tbody tr th:only-of-type {\n",
       "        vertical-align: middle;\n",
       "    }\n",
       "\n",
       "    .dataframe tbody tr th {\n",
       "        vertical-align: top;\n",
       "    }\n",
       "\n",
       "    .dataframe thead th {\n",
       "        text-align: right;\n",
       "    }\n",
       "</style>\n",
       "<table border=\"1\" class=\"dataframe\">\n",
       "  <thead>\n",
       "    <tr style=\"text-align: right;\">\n",
       "      <th></th>\n",
       "      <th>A</th>\n",
       "      <th>B</th>\n",
       "      <th>C</th>\n",
       "    </tr>\n",
       "  </thead>\n",
       "  <tbody>\n",
       "    <tr>\n",
       "      <th>0</th>\n",
       "      <td>0</td>\n",
       "      <td>1</td>\n",
       "      <td>2</td>\n",
       "    </tr>\n",
       "    <tr>\n",
       "      <th>1</th>\n",
       "      <td>3</td>\n",
       "      <td>4</td>\n",
       "      <td>5</td>\n",
       "    </tr>\n",
       "    <tr>\n",
       "      <th>2</th>\n",
       "      <td>6</td>\n",
       "      <td>7</td>\n",
       "      <td>8</td>\n",
       "    </tr>\n",
       "    <tr>\n",
       "      <th>3</th>\n",
       "      <td>9</td>\n",
       "      <td>10</td>\n",
       "      <td>11</td>\n",
       "    </tr>\n",
       "    <tr>\n",
       "      <th>4</th>\n",
       "      <td>12</td>\n",
       "      <td>13</td>\n",
       "      <td>14</td>\n",
       "    </tr>\n",
       "  </tbody>\n",
       "</table>\n",
       "</div>"
      ],
      "text/plain": [
       "    A   B   C\n",
       "0   0   1   2\n",
       "1   3   4   5\n",
       "2   6   7   8\n",
       "3   9  10  11\n",
       "4  12  13  14"
      ]
     },
     "execution_count": 2,
     "metadata": {},
     "output_type": "execute_result"
    }
   ],
   "source": [
    "# Create 5-by-3 matrix of data\n",
    "data = np.arange(15).reshape((-1, 3))\n",
    "\n",
    "# Define variable (or column) names\n",
    "varnames = ['A', 'B', 'C']\n",
    "\n",
    "# Create pandas DataFrame from matrix (2-dimensional NumPy array)\n",
    "pd.DataFrame(data, columns=varnames)"
   ]
  },
  {
   "attachments": {},
   "cell_type": "markdown",
   "metadata": {
    "collapsed": false,
    "pycharm": {
     "name": "#%% md\n"
    }
   },
   "source": [
    "This code creates a `DataFrame` of three variables called `A`, `B` and `C`\n",
    "with 5 observations each."
   ]
  },
  {
   "attachments": {},
   "cell_type": "markdown",
   "metadata": {},
   "source": [
    "*Example: Create DataFrame from dictionary*\n",
    "\n",
    "Alternatively, we can create a `DataFrame` from non-homogenous data as follows:"
   ]
  },
  {
   "cell_type": "code",
   "execution_count": 3,
   "metadata": {
    "collapsed": false,
    "pycharm": {
     "name": "#%%\n"
    }
   },
   "outputs": [
    {
     "data": {
      "text/html": [
       "<div>\n",
       "<style scoped>\n",
       "    .dataframe tbody tr th:only-of-type {\n",
       "        vertical-align: middle;\n",
       "    }\n",
       "\n",
       "    .dataframe tbody tr th {\n",
       "        vertical-align: top;\n",
       "    }\n",
       "\n",
       "    .dataframe thead th {\n",
       "        text-align: right;\n",
       "    }\n",
       "</style>\n",
       "<table border=\"1\" class=\"dataframe\">\n",
       "  <thead>\n",
       "    <tr style=\"text-align: right;\">\n",
       "      <th></th>\n",
       "      <th>Name</th>\n",
       "      <th>Birthdate</th>\n",
       "      <th>Income</th>\n",
       "    </tr>\n",
       "  </thead>\n",
       "  <tbody>\n",
       "    <tr>\n",
       "      <th>0</th>\n",
       "      <td>Alice</td>\n",
       "      <td>1985-01-01</td>\n",
       "      <td>600000.0</td>\n",
       "    </tr>\n",
       "    <tr>\n",
       "      <th>1</th>\n",
       "      <td>Bob</td>\n",
       "      <td>1997-05-12</td>\n",
       "      <td>NaN</td>\n",
       "    </tr>\n",
       "  </tbody>\n",
       "</table>\n",
       "</div>"
      ],
      "text/plain": [
       "    Name  Birthdate    Income\n",
       "0  Alice 1985-01-01  600000.0\n",
       "1    Bob 1997-05-12       NaN"
      ]
     },
     "execution_count": 3,
     "metadata": {},
     "output_type": "execute_result"
    }
   ],
   "source": [
    "# Names (strings)\n",
    "names = ['Alice', 'Bob']\n",
    "\n",
    "# Birth dates (datetime objects)\n",
    "bdates = pd.to_datetime(['1985-01-01', '1997-05-12'])\n",
    "\n",
    "# Incomes (floats)\n",
    "incomes = np.array([600000, np.nan])         # code missing income as NaN\n",
    "\n",
    "# create DataFrame from dictionary\n",
    "pd.DataFrame({'Name': names, 'Birthdate': bdates, 'Income': incomes})"
   ]
  },
  {
   "attachments": {},
   "cell_type": "markdown",
   "metadata": {
    "collapsed": false,
    "pycharm": {
     "name": "#%% md\n"
    }
   },
   "source": [
    "If data types differ across columns, as in the above example,\n",
    "it is often convenient to create the `DataFrame` by passing\n",
    "a dictionary as an argument. Each key represents a column name\n",
    "and each corresponding value contains the data for that variable."
   ]
  },
  {
   "cell_type": "markdown",
   "metadata": {},
   "source": [
    "<div class=\"alert alert-info\">\n",
    "<h3> Your turn</h3>\n",
    "\n",
    "Create a pandas <tt>Series</tt> which contains the characters <tt>'a'</tt>, <tt>'b'</tt>, and <tt>'c'</tt>.\n",
    "\n",
    "</div>"
   ]
  },
  {
   "cell_type": "markdown",
   "metadata": {},
   "source": [
    "***\n",
    "## Importing data"
   ]
  },
  {
   "cell_type": "markdown",
   "metadata": {},
   "source": [
    "### Loading data with NumPy & its limitations (optional)"
   ]
  },
  {
   "cell_type": "markdown",
   "metadata": {},
   "source": [
    "Before turning to pandas, let's examine how one could import data using NumPy function. This also highlights the limitations of this approach.\n",
    "\n",
    "We often use files that store data\n",
    "as text files containing character-separated values (CSV) since virtually\n",
    "any application supports this data format.\n",
    "The most important NumPy functions to read text data are:\n",
    "\n",
    "-   [`np.loadtxt()`](https://numpy.org/doc/stable/reference/generated/numpy.loadtxt.html):     load data from a text file.\n",
    "-   [`np.genfromtxt()`](https://numpy.org/doc/stable/reference/generated/numpy.genfromtxt.html): \n",
    "    load data from a text file and handle missing data.\n",
    "\n",
    "There are a few other input/output functions in NumPy, for example to\n",
    "write arrays as raw binary data.\n",
    "We won't cover them here, but you can find them in the\n",
    "[official documentation](https://numpy.org/doc/stable/reference/routines.io.html)."
   ]
  },
  {
   "cell_type": "markdown",
   "metadata": {},
   "source": [
    "*Example: Load character-separated text data*\n",
    "\n",
    "Consider the following tabular data from [FRED](https://fred.stlouisfed.org/) stored in the file \n",
    "[FRED_annual.csv](../../data/FRED/FRED_annual.csv) where the first two rows\n",
    "look as follows:\n",
    "\n",
    "| Year |  GDP   |  CPI | UNRATE | FEDFUNDS | INFLATION |\n",
    "| ---- | ------ | ---- | ------ | -------- | --------- |\n",
    "| 1954 | 2877.7 | 26.9 | 5.6    | 1.0      |           |\n",
    "| 1955 | 3083.0 | 26.8 | 4.4    | 1.8      | -0.4      |\n",
    "\n",
    "Note that the inflation column has a missing value for the year 1954.\n",
    "\n",
    "These data are stored as character-separated values (CSV).\n",
    "To load this CSV file as a NumPy array, we use [`loadtxt()`]((https://numpy.org/doc/stable/reference/generated/numpy.loadtxt.html)). \n",
    "It is advantageous to globally set the path to the `data/` directory that can point either to the local directory or to the `data/` directory on GitHub."
   ]
  },
  {
   "cell_type": "code",
   "execution_count": 4,
   "metadata": {},
   "outputs": [],
   "source": [
    "# Uncomment this to use files in the local data/ directory\n",
    "DATA_PATH = '../../data'\n",
    "\n",
    "# Alternatively, load data directly from GitHub\n",
    "# DATA_PATH = 'https://raw.githubusercontent.com/richardfoltyn/TECH2-H25/main/data'"
   ]
  },
  {
   "cell_type": "code",
   "execution_count": 5,
   "metadata": {},
   "outputs": [
    {
     "data": {
      "text/plain": [
       "array([[ 1.9550e+03,  3.0830e+03,  2.6800e+01,  4.4000e+00,  1.8000e+00,\n",
       "        -4.0000e-01],\n",
       "       [ 1.9560e+03,  3.1488e+03,  2.7200e+01,  4.1000e+00,  2.7000e+00,\n",
       "         1.5000e+00]])"
      ]
     },
     "execution_count": 5,
     "metadata": {},
     "output_type": "execute_result"
    }
   ],
   "source": [
    "import numpy as np\n",
    "\n",
    "# Path to CSV file\n",
    "file = f'{DATA_PATH}/FRED/FRED_annual.csv'\n",
    "\n",
    "# load CSV, skip header row and first row with missing data\n",
    "data = np.loadtxt(file, skiprows=2, delimiter=',')\n",
    "\n",
    "data[:2]        # Display first two rows"
   ]
  },
  {
   "cell_type": "markdown",
   "metadata": {},
   "source": [
    "The default settings will in many cases be appropriate to load\n",
    "whatever CSV file we might have. However, we'll occasionally\n",
    "want to specify the following arguments to override the defaults:\n",
    "\n",
    "-   `delimiter`: Character used to separate individual fields (default: space).\n",
    "-   `skiprows=n`: Skip the first `n` rows. For example, if the CSV file\n",
    "    contains a header with variable names, `skiprows=1` needs to be\n",
    "    specified as NumPy by default cannot process these names.\n",
    "-   `encoding`: Set the character encoding of the input data. This\n",
    "    is usually not needed, but can be required to import data\n",
    "    with non-latin characters that are not encoded using Unicode.\n",
    "\n",
    "While `loadtxt()` is simple to use, it quickly reaches its limits\n",
    "with more complex data sets.\n",
    "For example, when we try to load the FRED data set including the first data row, we get the following error:"
   ]
  },
  {
   "cell_type": "code",
   "execution_count": 6,
   "metadata": {},
   "outputs": [
    {
     "ename": "ValueError",
     "evalue": "could not convert string '' to float64 at row 0, column 6.",
     "output_type": "error",
     "traceback": [
      "\u001b[31mValueError\u001b[39m\u001b[31m:\u001b[39m could not convert string '' to float64 at row 0, column 6.\n"
     ]
    }
   ],
   "source": [
    "# Attempt to load CSV\n",
    "data = np.loadtxt(file, skiprows=1, delimiter=',')"
   ]
  },
  {
   "cell_type": "markdown",
   "metadata": {},
   "source": [
    "This code fails because `loadtxt()` does not support files with missing values. One can use the more flexible function [`np.genfromtxt()`](https://numpy.org/doc/stable/reference/generated/numpy.genfromtxt.html) which allows us to parse files with missing values:"
   ]
  },
  {
   "cell_type": "code",
   "execution_count": 7,
   "metadata": {},
   "outputs": [
    {
     "data": {
      "text/plain": [
       "array([[1.9540e+03, 2.8777e+03, 2.6900e+01, 5.6000e+00, 1.0000e+00,\n",
       "               nan]])"
      ]
     },
     "execution_count": 7,
     "metadata": {},
     "output_type": "execute_result"
    }
   ],
   "source": [
    "# Load CSV file using genfromtxt() instead of loadtxt()\n",
    "data = np.genfromtxt(file, skip_header=True, delimiter=',')\n",
    "\n",
    "# Display first rows\n",
    "data[:1]"
   ]
  },
  {
   "cell_type": "markdown",
   "metadata": {},
   "source": [
    "However, it is usually not worthwhile to figure out how to load complex data with NumPy as this is much easier with pandas."
   ]
  },
  {
   "cell_type": "markdown",
   "metadata": {},
   "source": [
    "***\n",
    "### Loading data with Pandas\n",
    "\n",
    "Pandas's input/output routines are more powerful than those implemented in NumPy:\n",
    "\n",
    "-   They support reading and writing numerous file formats.\n",
    "-   They support heterogeneous data without having to specify\n",
    "    the data type in advance.\n",
    "-   They gracefully handle missing values.\n",
    "\n",
    "For these reasons, it is often preferable to directly use pandas to\n",
    "process data instead of NumPy.\n",
    "\n",
    "The most important functions are:\n",
    "\n",
    "-   [`read_csv()`](https://pandas.pydata.org/pandas-docs/stable/reference/api/pandas.read_csv.html), \n",
    "    [`to_csv()`](https://pandas.pydata.org/pandas-docs/stable/reference/api/pandas.DataFrame.to_csv.html): \n",
    "    Read or write CSV text files.\n",
    "-   [`read_fwf()`](https://pandas.pydata.org/pandas-docs/stable/reference/api/pandas.read_fwf.html): \n",
    "    Read data with fixed field widths, i.e., text data\n",
    "    that does not use delimiters to separate fields.\n",
    "-   [`read_excel()`](https://pandas.pydata.org/pandas-docs/stable/reference/api/pandas.read_excel.html), \n",
    "    [`to_excel()`](https://pandas.pydata.org/pandas-docs/stable/reference/api/pandas.DataFrame.to_excel.html): \n",
    "    Read or write Excel spreadsheets.\n",
    "-   [`read_stata()`](https://pandas.pydata.org/pandas-docs/stable/reference/api/pandas.read_stata.html), \n",
    "    [`to_stata()`](https://pandas.pydata.org/pandas-docs/stable/reference/api/pandas.DataFrame.to_stata.html): \n",
    "    Read or write Stata's `.dta` files.\n",
    "\n",
    "For a complete list of I/O routines, see the [official documentation](https://pandas.pydata.org/pandas-docs/stable/user_guide/io.html).\n",
    "\n",
    "To illustrate, we repeat the above examples using pandas's\n",
    "[`read_csv()`](https://pandas.pydata.org/pandas-docs/stable/reference/api/pandas.read_csv.html):"
   ]
  },
  {
   "cell_type": "code",
   "execution_count": 8,
   "metadata": {},
   "outputs": [
    {
     "data": {
      "text/html": [
       "<div>\n",
       "<style scoped>\n",
       "    .dataframe tbody tr th:only-of-type {\n",
       "        vertical-align: middle;\n",
       "    }\n",
       "\n",
       "    .dataframe tbody tr th {\n",
       "        vertical-align: top;\n",
       "    }\n",
       "\n",
       "    .dataframe thead th {\n",
       "        text-align: right;\n",
       "    }\n",
       "</style>\n",
       "<table border=\"1\" class=\"dataframe\">\n",
       "  <thead>\n",
       "    <tr style=\"text-align: right;\">\n",
       "      <th></th>\n",
       "      <th>Year</th>\n",
       "      <th>GDP</th>\n",
       "      <th>CPI</th>\n",
       "      <th>UNRATE</th>\n",
       "      <th>FEDFUNDS</th>\n",
       "      <th>INFLATION</th>\n",
       "    </tr>\n",
       "  </thead>\n",
       "  <tbody>\n",
       "    <tr>\n",
       "      <th>0</th>\n",
       "      <td>1954</td>\n",
       "      <td>2877.7</td>\n",
       "      <td>26.9</td>\n",
       "      <td>5.6</td>\n",
       "      <td>1.0</td>\n",
       "      <td>NaN</td>\n",
       "    </tr>\n",
       "    <tr>\n",
       "      <th>1</th>\n",
       "      <td>1955</td>\n",
       "      <td>3083.0</td>\n",
       "      <td>26.8</td>\n",
       "      <td>4.4</td>\n",
       "      <td>1.8</td>\n",
       "      <td>-0.4</td>\n",
       "    </tr>\n",
       "  </tbody>\n",
       "</table>\n",
       "</div>"
      ],
      "text/plain": [
       "   Year     GDP   CPI  UNRATE  FEDFUNDS  INFLATION\n",
       "0  1954  2877.7  26.9     5.6       1.0        NaN\n",
       "1  1955  3083.0  26.8     4.4       1.8       -0.4"
      ]
     },
     "execution_count": 8,
     "metadata": {},
     "output_type": "execute_result"
    }
   ],
   "source": [
    "import pandas as pd\n",
    "\n",
    "# Path to CSV file\n",
    "file = f'{DATA_PATH}/FRED/FRED_annual.csv'\n",
    "\n",
    "df = pd.read_csv(file, sep=',')\n",
    "df.head(2)          # Display the first 2 rows of data"
   ]
  },
  {
   "cell_type": "markdown",
   "metadata": {},
   "source": [
    "<div class=\"alert alert-info\">\n",
    "<h3> Your turn</h3>\n",
    "Use the pandas functions listed above to import data from the following files located in the <TT>data</TT> folder:\n",
    "<ol>\n",
    "    <li>titanic.csv</li>\n",
    "    <li>FRED/FRED_annual.xlsx</li>\n",
    "</ol>\n",
    "\n",
    "To load Excel files, you need to have the package <TT>openpyxl</TT> installed.\n",
    "</div>"
   ]
  },
  {
   "attachments": {},
   "cell_type": "markdown",
   "metadata": {
    "collapsed": false,
    "pycharm": {
     "name": "#%% md\n"
    }
   },
   "source": [
    "***\n",
    "## Viewing data\n",
    "\n",
    "With large data sets, you hardly ever want to print the entire `DataFrame`.\n",
    "Pandas by default limits the amount of data shown. You can\n",
    "use the [`head()`](https://pandas.pydata.org/docs/reference/api/pandas.DataFrame.head.html) \n",
    "and [`tail()`](https://pandas.pydata.org/docs/reference/api/pandas.DataFrame.tail.html) \n",
    "methods to explicitly display a specific\n",
    "number of rows from the top or the end of a `DataFrame`.\n",
    "\n",
    "To illustrate, we use a data set of passengers on board of the Titanic's\n",
    "maiden voyage stored in `titanic.csv` which contains the following columns:\n",
    "\n",
    "1.  `PassengerId`\n",
    "2.  `Survived`: indicator whether the person survived\n",
    "3.  `Pclass`: accommodation class (first, second, third)\n",
    "4.  `Name`: Name of passenger (last name, first name)\n",
    "5.  `Sex`: `male` or `female`\n",
    "6.  `Age`\n",
    "7.  `Ticket`: Ticket number\n",
    "8.  `Fare`: Fare in pounds\n",
    "9.  `Cabin`: Deck + cabin number\n",
    "10. `Embarked`: Port at which passenger embarked:\n",
    "    `C` - Cherbourg, `Q` - Queenstown, `S` - Southampton"
   ]
  },
  {
   "attachments": {},
   "cell_type": "markdown",
   "metadata": {},
   "source": [
    "We can read in the data stored in the file `titanic.csv` like this:"
   ]
  },
  {
   "cell_type": "code",
   "execution_count": 9,
   "metadata": {
    "collapsed": false,
    "pycharm": {
     "name": "#%%\n"
    }
   },
   "outputs": [],
   "source": [
    "import pandas as pd\n",
    "\n",
    "# URL to CSV file in GitHub repository\n",
    "file = f'{DATA_PATH}/titanic.csv'\n",
    "\n",
    "# Load sample data set of Titanic passengers. Individual fields are separated\n",
    "# using a comma, which is the default.\n",
    "df = pd.read_csv(file, sep=',')"
   ]
  },
  {
   "attachments": {},
   "cell_type": "markdown",
   "metadata": {
    "collapsed": false,
    "pycharm": {
     "name": "#%% md\n"
    }
   },
   "source": [
    "We can now display the first and last three rows:"
   ]
  },
  {
   "cell_type": "code",
   "execution_count": 10,
   "metadata": {
    "collapsed": false,
    "pycharm": {
     "name": "#%%\n"
    }
   },
   "outputs": [
    {
     "data": {
      "text/html": [
       "<div>\n",
       "<style scoped>\n",
       "    .dataframe tbody tr th:only-of-type {\n",
       "        vertical-align: middle;\n",
       "    }\n",
       "\n",
       "    .dataframe tbody tr th {\n",
       "        vertical-align: top;\n",
       "    }\n",
       "\n",
       "    .dataframe thead th {\n",
       "        text-align: right;\n",
       "    }\n",
       "</style>\n",
       "<table border=\"1\" class=\"dataframe\">\n",
       "  <thead>\n",
       "    <tr style=\"text-align: right;\">\n",
       "      <th></th>\n",
       "      <th>PassengerId</th>\n",
       "      <th>Survived</th>\n",
       "      <th>Pclass</th>\n",
       "      <th>Name</th>\n",
       "      <th>Sex</th>\n",
       "      <th>Age</th>\n",
       "      <th>Ticket</th>\n",
       "      <th>Fare</th>\n",
       "      <th>Cabin</th>\n",
       "      <th>Embarked</th>\n",
       "    </tr>\n",
       "  </thead>\n",
       "  <tbody>\n",
       "    <tr>\n",
       "      <th>0</th>\n",
       "      <td>1</td>\n",
       "      <td>0</td>\n",
       "      <td>3</td>\n",
       "      <td>Braund, Mr. Owen Harris</td>\n",
       "      <td>male</td>\n",
       "      <td>22.0</td>\n",
       "      <td>A/5 21171</td>\n",
       "      <td>7.2500</td>\n",
       "      <td>NaN</td>\n",
       "      <td>S</td>\n",
       "    </tr>\n",
       "    <tr>\n",
       "      <th>1</th>\n",
       "      <td>2</td>\n",
       "      <td>1</td>\n",
       "      <td>1</td>\n",
       "      <td>Cumings, Mrs. John Bradley (Florence Briggs Th...</td>\n",
       "      <td>female</td>\n",
       "      <td>38.0</td>\n",
       "      <td>PC 17599</td>\n",
       "      <td>71.2833</td>\n",
       "      <td>C85</td>\n",
       "      <td>C</td>\n",
       "    </tr>\n",
       "    <tr>\n",
       "      <th>2</th>\n",
       "      <td>3</td>\n",
       "      <td>1</td>\n",
       "      <td>3</td>\n",
       "      <td>Heikkinen, Miss Laina</td>\n",
       "      <td>female</td>\n",
       "      <td>26.0</td>\n",
       "      <td>STON/O2. 3101282</td>\n",
       "      <td>7.9250</td>\n",
       "      <td>NaN</td>\n",
       "      <td>S</td>\n",
       "    </tr>\n",
       "  </tbody>\n",
       "</table>\n",
       "</div>"
      ],
      "text/plain": [
       "   PassengerId  Survived  Pclass  \\\n",
       "0            1         0       3   \n",
       "1            2         1       1   \n",
       "2            3         1       3   \n",
       "\n",
       "                                                Name     Sex   Age  \\\n",
       "0                            Braund, Mr. Owen Harris    male  22.0   \n",
       "1  Cumings, Mrs. John Bradley (Florence Briggs Th...  female  38.0   \n",
       "2                              Heikkinen, Miss Laina  female  26.0   \n",
       "\n",
       "             Ticket     Fare Cabin Embarked  \n",
       "0         A/5 21171   7.2500   NaN        S  \n",
       "1          PC 17599  71.2833   C85        C  \n",
       "2  STON/O2. 3101282   7.9250   NaN        S  "
      ]
     },
     "execution_count": 10,
     "metadata": {},
     "output_type": "execute_result"
    }
   ],
   "source": [
    "df.head(3)      # show first three rows"
   ]
  },
  {
   "cell_type": "code",
   "execution_count": 11,
   "metadata": {
    "collapsed": false,
    "pycharm": {
     "name": "#%%\n"
    }
   },
   "outputs": [
    {
     "data": {
      "text/html": [
       "<div>\n",
       "<style scoped>\n",
       "    .dataframe tbody tr th:only-of-type {\n",
       "        vertical-align: middle;\n",
       "    }\n",
       "\n",
       "    .dataframe tbody tr th {\n",
       "        vertical-align: top;\n",
       "    }\n",
       "\n",
       "    .dataframe thead th {\n",
       "        text-align: right;\n",
       "    }\n",
       "</style>\n",
       "<table border=\"1\" class=\"dataframe\">\n",
       "  <thead>\n",
       "    <tr style=\"text-align: right;\">\n",
       "      <th></th>\n",
       "      <th>PassengerId</th>\n",
       "      <th>Survived</th>\n",
       "      <th>Pclass</th>\n",
       "      <th>Name</th>\n",
       "      <th>Sex</th>\n",
       "      <th>Age</th>\n",
       "      <th>Ticket</th>\n",
       "      <th>Fare</th>\n",
       "      <th>Cabin</th>\n",
       "      <th>Embarked</th>\n",
       "    </tr>\n",
       "  </thead>\n",
       "  <tbody>\n",
       "    <tr>\n",
       "      <th>888</th>\n",
       "      <td>889</td>\n",
       "      <td>0</td>\n",
       "      <td>3</td>\n",
       "      <td>Johnston, Miss Catherine Helen \"Carrie\"</td>\n",
       "      <td>female</td>\n",
       "      <td>NaN</td>\n",
       "      <td>W./C. 6607</td>\n",
       "      <td>23.45</td>\n",
       "      <td>NaN</td>\n",
       "      <td>S</td>\n",
       "    </tr>\n",
       "    <tr>\n",
       "      <th>889</th>\n",
       "      <td>890</td>\n",
       "      <td>1</td>\n",
       "      <td>1</td>\n",
       "      <td>Behr, Mr. Karl Howell</td>\n",
       "      <td>male</td>\n",
       "      <td>26.0</td>\n",
       "      <td>111369</td>\n",
       "      <td>30.00</td>\n",
       "      <td>C148</td>\n",
       "      <td>C</td>\n",
       "    </tr>\n",
       "    <tr>\n",
       "      <th>890</th>\n",
       "      <td>891</td>\n",
       "      <td>0</td>\n",
       "      <td>3</td>\n",
       "      <td>Dooley, Mr. Patrick</td>\n",
       "      <td>male</td>\n",
       "      <td>32.0</td>\n",
       "      <td>370376</td>\n",
       "      <td>7.75</td>\n",
       "      <td>NaN</td>\n",
       "      <td>Q</td>\n",
       "    </tr>\n",
       "  </tbody>\n",
       "</table>\n",
       "</div>"
      ],
      "text/plain": [
       "     PassengerId  Survived  Pclass                                     Name  \\\n",
       "888          889         0       3  Johnston, Miss Catherine Helen \"Carrie\"   \n",
       "889          890         1       1                    Behr, Mr. Karl Howell   \n",
       "890          891         0       3                      Dooley, Mr. Patrick   \n",
       "\n",
       "        Sex   Age      Ticket   Fare Cabin Embarked  \n",
       "888  female   NaN  W./C. 6607  23.45   NaN        S  \n",
       "889    male  26.0      111369  30.00  C148        C  \n",
       "890    male  32.0      370376   7.75   NaN        Q  "
      ]
     },
     "execution_count": 11,
     "metadata": {},
     "output_type": "execute_result"
    }
   ],
   "source": [
    "df.tail(3)      # show last three rows"
   ]
  },
  {
   "attachments": {},
   "cell_type": "markdown",
   "metadata": {
    "collapsed": false,
    "pycharm": {
     "name": "#%% md\n"
    }
   },
   "source": [
    "To quickly compute some descriptive statistics for the\n",
    "*numerical* variables in the `DataFrame`, we use \n",
    "[`describe()`](https://pandas.pydata.org/docs/reference/api/pandas.DataFrame.describe.html):"
   ]
  },
  {
   "cell_type": "code",
   "execution_count": 12,
   "metadata": {
    "collapsed": false,
    "pycharm": {
     "name": "#%%\n"
    }
   },
   "outputs": [
    {
     "data": {
      "text/html": [
       "<div>\n",
       "<style scoped>\n",
       "    .dataframe tbody tr th:only-of-type {\n",
       "        vertical-align: middle;\n",
       "    }\n",
       "\n",
       "    .dataframe tbody tr th {\n",
       "        vertical-align: top;\n",
       "    }\n",
       "\n",
       "    .dataframe thead th {\n",
       "        text-align: right;\n",
       "    }\n",
       "</style>\n",
       "<table border=\"1\" class=\"dataframe\">\n",
       "  <thead>\n",
       "    <tr style=\"text-align: right;\">\n",
       "      <th></th>\n",
       "      <th>PassengerId</th>\n",
       "      <th>Survived</th>\n",
       "      <th>Pclass</th>\n",
       "      <th>Age</th>\n",
       "      <th>Fare</th>\n",
       "    </tr>\n",
       "  </thead>\n",
       "  <tbody>\n",
       "    <tr>\n",
       "      <th>count</th>\n",
       "      <td>891.000000</td>\n",
       "      <td>891.000000</td>\n",
       "      <td>891.000000</td>\n",
       "      <td>714.000000</td>\n",
       "      <td>891.000000</td>\n",
       "    </tr>\n",
       "    <tr>\n",
       "      <th>mean</th>\n",
       "      <td>446.000000</td>\n",
       "      <td>0.383838</td>\n",
       "      <td>2.308642</td>\n",
       "      <td>29.699118</td>\n",
       "      <td>32.204208</td>\n",
       "    </tr>\n",
       "    <tr>\n",
       "      <th>std</th>\n",
       "      <td>257.353842</td>\n",
       "      <td>0.486592</td>\n",
       "      <td>0.836071</td>\n",
       "      <td>14.526497</td>\n",
       "      <td>49.693429</td>\n",
       "    </tr>\n",
       "    <tr>\n",
       "      <th>min</th>\n",
       "      <td>1.000000</td>\n",
       "      <td>0.000000</td>\n",
       "      <td>1.000000</td>\n",
       "      <td>0.420000</td>\n",
       "      <td>0.000000</td>\n",
       "    </tr>\n",
       "    <tr>\n",
       "      <th>25%</th>\n",
       "      <td>223.500000</td>\n",
       "      <td>0.000000</td>\n",
       "      <td>2.000000</td>\n",
       "      <td>20.125000</td>\n",
       "      <td>7.910400</td>\n",
       "    </tr>\n",
       "    <tr>\n",
       "      <th>50%</th>\n",
       "      <td>446.000000</td>\n",
       "      <td>0.000000</td>\n",
       "      <td>3.000000</td>\n",
       "      <td>28.000000</td>\n",
       "      <td>14.454200</td>\n",
       "    </tr>\n",
       "    <tr>\n",
       "      <th>75%</th>\n",
       "      <td>668.500000</td>\n",
       "      <td>1.000000</td>\n",
       "      <td>3.000000</td>\n",
       "      <td>38.000000</td>\n",
       "      <td>31.000000</td>\n",
       "    </tr>\n",
       "    <tr>\n",
       "      <th>max</th>\n",
       "      <td>891.000000</td>\n",
       "      <td>1.000000</td>\n",
       "      <td>3.000000</td>\n",
       "      <td>80.000000</td>\n",
       "      <td>512.329200</td>\n",
       "    </tr>\n",
       "  </tbody>\n",
       "</table>\n",
       "</div>"
      ],
      "text/plain": [
       "       PassengerId    Survived      Pclass         Age        Fare\n",
       "count   891.000000  891.000000  891.000000  714.000000  891.000000\n",
       "mean    446.000000    0.383838    2.308642   29.699118   32.204208\n",
       "std     257.353842    0.486592    0.836071   14.526497   49.693429\n",
       "min       1.000000    0.000000    1.000000    0.420000    0.000000\n",
       "25%     223.500000    0.000000    2.000000   20.125000    7.910400\n",
       "50%     446.000000    0.000000    3.000000   28.000000   14.454200\n",
       "75%     668.500000    1.000000    3.000000   38.000000   31.000000\n",
       "max     891.000000    1.000000    3.000000   80.000000  512.329200"
      ]
     },
     "execution_count": 12,
     "metadata": {},
     "output_type": "execute_result"
    }
   ],
   "source": [
    "df.describe()"
   ]
  },
  {
   "attachments": {},
   "cell_type": "markdown",
   "metadata": {
    "collapsed": false,
    "pycharm": {
     "name": "#%% md\n"
    }
   },
   "source": [
    "Note that this automatically ignores the columns `Name`, `Sex`, `Ticket`\n",
    "and `Cabin` as they contain strings, and computing the mean, standard deviation, etc.\n",
    "of a string variable does not make sense.\n",
    "\n",
    "For categorical data, we can use \n",
    "[`value_counts()`](https://pandas.pydata.org/docs/reference/api/pandas.DataFrame.value_counts.html)\n",
    "to tabulate the number of unique values of a variable. For example, the following code tabulates passengers by sex:"
   ]
  },
  {
   "cell_type": "code",
   "execution_count": 13,
   "metadata": {},
   "outputs": [
    {
     "data": {
      "text/plain": [
       "Sex\n",
       "male      577\n",
       "female    314\n",
       "Name: count, dtype: int64"
      ]
     },
     "execution_count": 13,
     "metadata": {},
     "output_type": "execute_result"
    }
   ],
   "source": [
    "df['Sex'].value_counts()"
   ]
  },
  {
   "attachments": {},
   "cell_type": "markdown",
   "metadata": {},
   "source": [
    "Lastly, to see low-level information about the data type\n",
    "used in each column and the number of non-missing observations, we call \n",
    "[`info()`](https://pandas.pydata.org/docs/reference/api/pandas.DataFrame.info.html):"
   ]
  },
  {
   "cell_type": "code",
   "execution_count": 14,
   "metadata": {
    "collapsed": false,
    "pycharm": {
     "name": "#%%\n"
    }
   },
   "outputs": [
    {
     "name": "stdout",
     "output_type": "stream",
     "text": [
      "<class 'pandas.core.frame.DataFrame'>\n",
      "RangeIndex: 891 entries, 0 to 890\n",
      "Data columns (total 10 columns):\n",
      " #   Column       Non-Null Count  Dtype  \n",
      "---  ------       --------------  -----  \n",
      " 0   PassengerId  891 non-null    int64  \n",
      " 1   Survived     891 non-null    int64  \n",
      " 2   Pclass       891 non-null    int64  \n",
      " 3   Name         891 non-null    object \n",
      " 4   Sex          891 non-null    object \n",
      " 5   Age          714 non-null    float64\n",
      " 6   Ticket       891 non-null    object \n",
      " 7   Fare         891 non-null    float64\n",
      " 8   Cabin        204 non-null    object \n",
      " 9   Embarked     889 non-null    object \n",
      "dtypes: float64(2), int64(3), object(5)\n",
      "memory usage: 69.7+ KB\n"
     ]
    }
   ],
   "source": [
    "df.info(show_counts=True)"
   ]
  },
  {
   "cell_type": "markdown",
   "metadata": {},
   "source": [
    "Pandas automatically discards missing information\n",
    "in computations. For example, the age column has several missing values, \n",
    "so the number of reported `Non-Null` values is lower than for the other columns."
   ]
  },
  {
   "cell_type": "markdown",
   "metadata": {},
   "source": [
    "<div class=\"alert alert-info\">\n",
    "<h3> Your turn</h3>\n",
    "Using the Titanic data set, tabulate the number of passengers by the port in which they boarded the ship\n",
    "(variable <tt>Embarked</tt>). How many observations have missing values for this variable?\n",
    "</div>"
   ]
  },
  {
   "attachments": {},
   "cell_type": "markdown",
   "metadata": {
    "collapsed": false,
    "pycharm": {
     "name": "#%% md\n"
    }
   },
   "source": [
    "***\n",
    "## Indexing\n",
    "\n",
    "Pandas supports two types of indexing:\n",
    "\n",
    "1.  Indexing by position. This is basically identical to the\n",
    "    indexing of other Python and NumPy containers.\n",
    "2.  Indexing by label, i.e., by the values assigned to the row or column index.\n",
    "    These labels need not be integers in increasing order, as is the case\n",
    "    for NumPy.\n",
    "    We will see how to assign labels below.\n",
    "\n",
    "Pandas indexing is performed either by using brackets `[]`, or by using\n",
    "`.loc[]` for label indexing, or `.iloc[]` for positional indexing.\n",
    "\n",
    "Indexing via `[]` can be somewhat confusing:\n",
    "\n",
    "-   specifying `df['name']` returns the column `name` as a `Series` object.\n",
    "-   On the other hand, specifying a range such as `df[5:10]` returns the *rows*\n",
    "    associated with the *positions* 5,...,9."
   ]
  },
  {
   "attachments": {},
   "cell_type": "markdown",
   "metadata": {},
   "source": [
    "*Example: Selecting columns*"
   ]
  },
  {
   "cell_type": "code",
   "execution_count": 15,
   "metadata": {
    "collapsed": false,
    "pycharm": {
     "name": "#%%\n"
    }
   },
   "outputs": [
    {
     "data": {
      "text/plain": [
       "0                                Braund, Mr. Owen Harris\n",
       "1      Cumings, Mrs. John Bradley (Florence Briggs Th...\n",
       "2                                  Heikkinen, Miss Laina\n",
       "3           Futrelle, Mrs. Jacques Heath (Lily May Peel)\n",
       "4                               Allen, Mr. William Henry\n",
       "                             ...                        \n",
       "886                                Montvila, Rev. Juozas\n",
       "887                          Graham, Miss Margaret Edith\n",
       "888              Johnston, Miss Catherine Helen \"Carrie\"\n",
       "889                                Behr, Mr. Karl Howell\n",
       "890                                  Dooley, Mr. Patrick\n",
       "Name: Name, Length: 891, dtype: object"
      ]
     },
     "execution_count": 15,
     "metadata": {},
     "output_type": "execute_result"
    }
   ],
   "source": [
    "import pandas as pd\n",
    "\n",
    "# Set option to limit the number of rows displayed\n",
    "pd.set_option('display.max_rows', 10)\n",
    "\n",
    "# Load sample data of Titanic passengers\n",
    "df = pd.read_csv(f'{DATA_PATH}/titanic.csv')\n",
    "df['Name']               # select a single column"
   ]
  },
  {
   "cell_type": "code",
   "execution_count": 16,
   "metadata": {
    "collapsed": false,
    "pycharm": {
     "name": "#%%\n"
    }
   },
   "outputs": [
    {
     "data": {
      "text/html": [
       "<div>\n",
       "<style scoped>\n",
       "    .dataframe tbody tr th:only-of-type {\n",
       "        vertical-align: middle;\n",
       "    }\n",
       "\n",
       "    .dataframe tbody tr th {\n",
       "        vertical-align: top;\n",
       "    }\n",
       "\n",
       "    .dataframe thead th {\n",
       "        text-align: right;\n",
       "    }\n",
       "</style>\n",
       "<table border=\"1\" class=\"dataframe\">\n",
       "  <thead>\n",
       "    <tr style=\"text-align: right;\">\n",
       "      <th></th>\n",
       "      <th>Name</th>\n",
       "      <th>Sex</th>\n",
       "    </tr>\n",
       "  </thead>\n",
       "  <tbody>\n",
       "    <tr>\n",
       "      <th>0</th>\n",
       "      <td>Braund, Mr. Owen Harris</td>\n",
       "      <td>male</td>\n",
       "    </tr>\n",
       "    <tr>\n",
       "      <th>1</th>\n",
       "      <td>Cumings, Mrs. John Bradley (Florence Briggs Th...</td>\n",
       "      <td>female</td>\n",
       "    </tr>\n",
       "    <tr>\n",
       "      <th>2</th>\n",
       "      <td>Heikkinen, Miss Laina</td>\n",
       "      <td>female</td>\n",
       "    </tr>\n",
       "    <tr>\n",
       "      <th>3</th>\n",
       "      <td>Futrelle, Mrs. Jacques Heath (Lily May Peel)</td>\n",
       "      <td>female</td>\n",
       "    </tr>\n",
       "    <tr>\n",
       "      <th>4</th>\n",
       "      <td>Allen, Mr. William Henry</td>\n",
       "      <td>male</td>\n",
       "    </tr>\n",
       "    <tr>\n",
       "      <th>...</th>\n",
       "      <td>...</td>\n",
       "      <td>...</td>\n",
       "    </tr>\n",
       "    <tr>\n",
       "      <th>886</th>\n",
       "      <td>Montvila, Rev. Juozas</td>\n",
       "      <td>male</td>\n",
       "    </tr>\n",
       "    <tr>\n",
       "      <th>887</th>\n",
       "      <td>Graham, Miss Margaret Edith</td>\n",
       "      <td>female</td>\n",
       "    </tr>\n",
       "    <tr>\n",
       "      <th>888</th>\n",
       "      <td>Johnston, Miss Catherine Helen \"Carrie\"</td>\n",
       "      <td>female</td>\n",
       "    </tr>\n",
       "    <tr>\n",
       "      <th>889</th>\n",
       "      <td>Behr, Mr. Karl Howell</td>\n",
       "      <td>male</td>\n",
       "    </tr>\n",
       "    <tr>\n",
       "      <th>890</th>\n",
       "      <td>Dooley, Mr. Patrick</td>\n",
       "      <td>male</td>\n",
       "    </tr>\n",
       "  </tbody>\n",
       "</table>\n",
       "<p>891 rows × 2 columns</p>\n",
       "</div>"
      ],
      "text/plain": [
       "                                                  Name     Sex\n",
       "0                              Braund, Mr. Owen Harris    male\n",
       "1    Cumings, Mrs. John Bradley (Florence Briggs Th...  female\n",
       "2                                Heikkinen, Miss Laina  female\n",
       "3         Futrelle, Mrs. Jacques Heath (Lily May Peel)  female\n",
       "4                             Allen, Mr. William Henry    male\n",
       "..                                                 ...     ...\n",
       "886                              Montvila, Rev. Juozas    male\n",
       "887                        Graham, Miss Margaret Edith  female\n",
       "888            Johnston, Miss Catherine Helen \"Carrie\"  female\n",
       "889                              Behr, Mr. Karl Howell    male\n",
       "890                                Dooley, Mr. Patrick    male\n",
       "\n",
       "[891 rows x 2 columns]"
      ]
     },
     "execution_count": 16,
     "metadata": {},
     "output_type": "execute_result"
    }
   ],
   "source": [
    "df[['Name', 'Sex']]     # select multiple columns using a list"
   ]
  },
  {
   "cell_type": "markdown",
   "metadata": {},
   "source": [
    "Note: In order to select multiple columns you *must* specify these as a `list`, not a `tuple`."
   ]
  },
  {
   "attachments": {},
   "cell_type": "markdown",
   "metadata": {},
   "source": [
    "*Example: Selecting rows by position*\n",
    "\n",
    "To return the rows at positions 1, 2 and 3 we use"
   ]
  },
  {
   "cell_type": "code",
   "execution_count": 17,
   "metadata": {},
   "outputs": [
    {
     "data": {
      "text/html": [
       "<div>\n",
       "<style scoped>\n",
       "    .dataframe tbody tr th:only-of-type {\n",
       "        vertical-align: middle;\n",
       "    }\n",
       "\n",
       "    .dataframe tbody tr th {\n",
       "        vertical-align: top;\n",
       "    }\n",
       "\n",
       "    .dataframe thead th {\n",
       "        text-align: right;\n",
       "    }\n",
       "</style>\n",
       "<table border=\"1\" class=\"dataframe\">\n",
       "  <thead>\n",
       "    <tr style=\"text-align: right;\">\n",
       "      <th></th>\n",
       "      <th>PassengerId</th>\n",
       "      <th>Survived</th>\n",
       "      <th>Pclass</th>\n",
       "      <th>Name</th>\n",
       "      <th>Sex</th>\n",
       "      <th>Age</th>\n",
       "      <th>Ticket</th>\n",
       "      <th>Fare</th>\n",
       "      <th>Cabin</th>\n",
       "      <th>Embarked</th>\n",
       "    </tr>\n",
       "  </thead>\n",
       "  <tbody>\n",
       "    <tr>\n",
       "      <th>1</th>\n",
       "      <td>2</td>\n",
       "      <td>1</td>\n",
       "      <td>1</td>\n",
       "      <td>Cumings, Mrs. John Bradley (Florence Briggs Th...</td>\n",
       "      <td>female</td>\n",
       "      <td>38.0</td>\n",
       "      <td>PC 17599</td>\n",
       "      <td>71.2833</td>\n",
       "      <td>C85</td>\n",
       "      <td>C</td>\n",
       "    </tr>\n",
       "    <tr>\n",
       "      <th>2</th>\n",
       "      <td>3</td>\n",
       "      <td>1</td>\n",
       "      <td>3</td>\n",
       "      <td>Heikkinen, Miss Laina</td>\n",
       "      <td>female</td>\n",
       "      <td>26.0</td>\n",
       "      <td>STON/O2. 3101282</td>\n",
       "      <td>7.9250</td>\n",
       "      <td>NaN</td>\n",
       "      <td>S</td>\n",
       "    </tr>\n",
       "    <tr>\n",
       "      <th>3</th>\n",
       "      <td>4</td>\n",
       "      <td>1</td>\n",
       "      <td>1</td>\n",
       "      <td>Futrelle, Mrs. Jacques Heath (Lily May Peel)</td>\n",
       "      <td>female</td>\n",
       "      <td>35.0</td>\n",
       "      <td>113803</td>\n",
       "      <td>53.1000</td>\n",
       "      <td>C123</td>\n",
       "      <td>S</td>\n",
       "    </tr>\n",
       "  </tbody>\n",
       "</table>\n",
       "</div>"
      ],
      "text/plain": [
       "   PassengerId  Survived  Pclass  \\\n",
       "1            2         1       1   \n",
       "2            3         1       3   \n",
       "3            4         1       1   \n",
       "\n",
       "                                                Name     Sex   Age  \\\n",
       "1  Cumings, Mrs. John Bradley (Florence Briggs Th...  female  38.0   \n",
       "2                              Heikkinen, Miss Laina  female  26.0   \n",
       "3       Futrelle, Mrs. Jacques Heath (Lily May Peel)  female  35.0   \n",
       "\n",
       "             Ticket     Fare Cabin Embarked  \n",
       "1          PC 17599  71.2833   C85        C  \n",
       "2  STON/O2. 3101282   7.9250   NaN        S  \n",
       "3            113803  53.1000  C123        S  "
      ]
     },
     "execution_count": 17,
     "metadata": {},
     "output_type": "execute_result"
    }
   ],
   "source": [
    "df[1:4]"
   ]
  },
  {
   "attachments": {},
   "cell_type": "markdown",
   "metadata": {},
   "source": [
    "Pandas follows the Python convention that indices are 0-based, and the\n",
    "endpoint of a slice is not included."
   ]
  },
  {
   "attachments": {},
   "cell_type": "markdown",
   "metadata": {
    "collapsed": false,
    "pycharm": {
     "name": "#%% md\n"
    }
   },
   "source": [
    "### Creating and manipulating indices\n",
    "\n",
    "Pandas uses *labels* to index and align\n",
    "data. These can be integer values starting at 0 with increments of 1\n",
    "for each additional element, which is the default, but they need not be.\n",
    "The three main methods to create/manipulate indices are:\n",
    "\n",
    "1.   Create a new `Series` or `DataFrame` object with a custom index\n",
    "    using the `index` argument.\n",
    "2.   [`set_index(keys=['column1', ...])`](https://pandas.pydata.org/docs/reference/api/pandas.DataFrame.set_index.html)\n",
    "    uses the values of `column1`\n",
    "    and optionally additional columns as indices, discarding the current index.\n",
    "3.   [`reset_index()`](https://pandas.pydata.org/docs/reference/api/pandas.DataFrame.reset_index.html) \n",
    "    resets the index to its default value, a sequence\n",
    "    of increasing integers starting at 0."
   ]
  },
  {
   "attachments": {},
   "cell_type": "markdown",
   "metadata": {},
   "source": [
    "#### Creating custom indices\n",
    "\n",
    "First, consider the following code which creates a `Series` with \n",
    "three elements `[10, 20, 30]` using the default index `[0, 1, 2]`:"
   ]
  },
  {
   "cell_type": "code",
   "execution_count": 18,
   "metadata": {},
   "outputs": [
    {
     "data": {
      "text/plain": [
       "0    10\n",
       "1    20\n",
       "2    30\n",
       "dtype: int64"
      ]
     },
     "execution_count": 18,
     "metadata": {},
     "output_type": "execute_result"
    }
   ],
   "source": [
    "import pandas as pd\n",
    "\n",
    "# Create Series with default integer index\n",
    "pd.Series([10, 20, 30])"
   ]
  },
  {
   "attachments": {},
   "cell_type": "markdown",
   "metadata": {},
   "source": [
    "We can use the `index` argument to specify a custom index, for example\n",
    "one containing the lower-case characters `a`, `b`, `c` as follows:"
   ]
  },
  {
   "cell_type": "code",
   "execution_count": 19,
   "metadata": {},
   "outputs": [
    {
     "data": {
      "text/plain": [
       "a    10\n",
       "b    20\n",
       "c    30\n",
       "dtype: int64"
      ]
     },
     "execution_count": 19,
     "metadata": {},
     "output_type": "execute_result"
    }
   ],
   "source": [
    "# Create Series with custom index [a, b, c]\n",
    "pd.Series([10, 20, 30], index=['a', 'b', 'c'])"
   ]
  },
  {
   "attachments": {},
   "cell_type": "markdown",
   "metadata": {},
   "source": [
    "#### Manipulating indices\n",
    "\n",
    "To modify the index of an *existing* `Series` or `DataFrame` object, \n",
    "we use the methods\n",
    "[`set_index()`](https://pandas.pydata.org/docs/reference/api/pandas.DataFrame.set_index.html)\n",
    "and\n",
    "[`reset_index()`](https://pandas.pydata.org/docs/reference/api/pandas.DataFrame.reset_index.html).\n",
    "Note that these return a new object and leave the original `Series` or `DataFrame`\n",
    "unchanged. If we want to change the existing object, we need\n",
    "to pass the argument `inplace=True`.\n",
    "\n",
    "For example, we can replace the row index and use the Roman lower-case\n",
    " characters `a`, `b`, `c`, ... as labels\n",
    "instead of integers:"
   ]
  },
  {
   "cell_type": "code",
   "execution_count": 20,
   "metadata": {},
   "outputs": [
    {
     "data": {
      "text/html": [
       "<div>\n",
       "<style scoped>\n",
       "    .dataframe tbody tr th:only-of-type {\n",
       "        vertical-align: middle;\n",
       "    }\n",
       "\n",
       "    .dataframe tbody tr th {\n",
       "        vertical-align: top;\n",
       "    }\n",
       "\n",
       "    .dataframe thead th {\n",
       "        text-align: right;\n",
       "    }\n",
       "</style>\n",
       "<table border=\"1\" class=\"dataframe\">\n",
       "  <thead>\n",
       "    <tr style=\"text-align: right;\">\n",
       "      <th></th>\n",
       "      <th>A</th>\n",
       "      <th>B</th>\n",
       "    </tr>\n",
       "  </thead>\n",
       "  <tbody>\n",
       "    <tr>\n",
       "      <th>0</th>\n",
       "      <td>10</td>\n",
       "      <td>a</td>\n",
       "    </tr>\n",
       "    <tr>\n",
       "      <th>1</th>\n",
       "      <td>20</td>\n",
       "      <td>b</td>\n",
       "    </tr>\n",
       "    <tr>\n",
       "      <th>2</th>\n",
       "      <td>30</td>\n",
       "      <td>c</td>\n",
       "    </tr>\n",
       "  </tbody>\n",
       "</table>\n",
       "</div>"
      ],
      "text/plain": [
       "    A  B\n",
       "0  10  a\n",
       "1  20  b\n",
       "2  30  c"
      ]
     },
     "execution_count": 20,
     "metadata": {},
     "output_type": "execute_result"
    }
   ],
   "source": [
    "# Create DataFrame with 2 columns\n",
    "df = pd.DataFrame({'A': [10, 20, 30], 'B': ['a', 'b', 'c']})\n",
    "\n",
    "df"
   ]
  },
  {
   "cell_type": "markdown",
   "metadata": {},
   "source": [
    "Since we did not specify any index, the default index $[0, 1, ...]$ is used. \n",
    "We can use [`set_index()`](https://pandas.pydata.org/docs/reference/api/pandas.DataFrame.set_index.html)\n",
    "set the index to the values from a column, for example column `B`:"
   ]
  },
  {
   "cell_type": "code",
   "execution_count": 21,
   "metadata": {
    "collapsed": false,
    "pycharm": {
     "name": "#%%\n"
    }
   },
   "outputs": [
    {
     "data": {
      "text/html": [
       "<div>\n",
       "<style scoped>\n",
       "    .dataframe tbody tr th:only-of-type {\n",
       "        vertical-align: middle;\n",
       "    }\n",
       "\n",
       "    .dataframe tbody tr th {\n",
       "        vertical-align: top;\n",
       "    }\n",
       "\n",
       "    .dataframe thead th {\n",
       "        text-align: right;\n",
       "    }\n",
       "</style>\n",
       "<table border=\"1\" class=\"dataframe\">\n",
       "  <thead>\n",
       "    <tr style=\"text-align: right;\">\n",
       "      <th></th>\n",
       "      <th>A</th>\n",
       "    </tr>\n",
       "    <tr>\n",
       "      <th>B</th>\n",
       "      <th></th>\n",
       "    </tr>\n",
       "  </thead>\n",
       "  <tbody>\n",
       "    <tr>\n",
       "      <th>a</th>\n",
       "      <td>10</td>\n",
       "    </tr>\n",
       "    <tr>\n",
       "      <th>b</th>\n",
       "      <td>20</td>\n",
       "    </tr>\n",
       "    <tr>\n",
       "      <th>c</th>\n",
       "      <td>30</td>\n",
       "    </tr>\n",
       "  </tbody>\n",
       "</table>\n",
       "</div>"
      ],
      "text/plain": [
       "    A\n",
       "B    \n",
       "a  10\n",
       "b  20\n",
       "c  30"
      ]
     },
     "execution_count": 21,
     "metadata": {},
     "output_type": "execute_result"
    }
   ],
   "source": [
    "# Use column 'B' as index, store result in new DataFrame\n",
    "df2 = df.set_index('B')\n",
    "\n",
    "# Display updated DataFrame\n",
    "df2"
   ]
  },
  {
   "cell_type": "markdown",
   "metadata": {},
   "source": [
    "Note that pandas operations often return a copy with the operation applied to that copy, leaving the original object unmodified. In the previous example, only `df2` uses column `B` as the index, whereas the original `df` remains unchanged:"
   ]
  },
  {
   "cell_type": "code",
   "execution_count": 22,
   "metadata": {},
   "outputs": [
    {
     "data": {
      "text/html": [
       "<div>\n",
       "<style scoped>\n",
       "    .dataframe tbody tr th:only-of-type {\n",
       "        vertical-align: middle;\n",
       "    }\n",
       "\n",
       "    .dataframe tbody tr th {\n",
       "        vertical-align: top;\n",
       "    }\n",
       "\n",
       "    .dataframe thead th {\n",
       "        text-align: right;\n",
       "    }\n",
       "</style>\n",
       "<table border=\"1\" class=\"dataframe\">\n",
       "  <thead>\n",
       "    <tr style=\"text-align: right;\">\n",
       "      <th></th>\n",
       "      <th>A</th>\n",
       "      <th>B</th>\n",
       "    </tr>\n",
       "  </thead>\n",
       "  <tbody>\n",
       "    <tr>\n",
       "      <th>0</th>\n",
       "      <td>10</td>\n",
       "      <td>a</td>\n",
       "    </tr>\n",
       "    <tr>\n",
       "      <th>1</th>\n",
       "      <td>20</td>\n",
       "      <td>b</td>\n",
       "    </tr>\n",
       "    <tr>\n",
       "      <th>2</th>\n",
       "      <td>30</td>\n",
       "      <td>c</td>\n",
       "    </tr>\n",
       "  </tbody>\n",
       "</table>\n",
       "</div>"
      ],
      "text/plain": [
       "    A  B\n",
       "0  10  a\n",
       "1  20  b\n",
       "2  30  c"
      ]
     },
     "execution_count": 22,
     "metadata": {},
     "output_type": "execute_result"
    }
   ],
   "source": [
    "df"
   ]
  },
  {
   "cell_type": "markdown",
   "metadata": {},
   "source": [
    "We can use the `inplace=True` argument to `set_index()` to update the index in-place, even though the pandas project usually does not encourage users to change things in place:"
   ]
  },
  {
   "cell_type": "code",
   "execution_count": 23,
   "metadata": {},
   "outputs": [
    {
     "data": {
      "text/html": [
       "<div>\n",
       "<style scoped>\n",
       "    .dataframe tbody tr th:only-of-type {\n",
       "        vertical-align: middle;\n",
       "    }\n",
       "\n",
       "    .dataframe tbody tr th {\n",
       "        vertical-align: top;\n",
       "    }\n",
       "\n",
       "    .dataframe thead th {\n",
       "        text-align: right;\n",
       "    }\n",
       "</style>\n",
       "<table border=\"1\" class=\"dataframe\">\n",
       "  <thead>\n",
       "    <tr style=\"text-align: right;\">\n",
       "      <th></th>\n",
       "      <th>A</th>\n",
       "    </tr>\n",
       "    <tr>\n",
       "      <th>B</th>\n",
       "      <th></th>\n",
       "    </tr>\n",
       "  </thead>\n",
       "  <tbody>\n",
       "    <tr>\n",
       "      <th>a</th>\n",
       "      <td>10</td>\n",
       "    </tr>\n",
       "    <tr>\n",
       "      <th>b</th>\n",
       "      <td>20</td>\n",
       "    </tr>\n",
       "    <tr>\n",
       "      <th>c</th>\n",
       "      <td>30</td>\n",
       "    </tr>\n",
       "  </tbody>\n",
       "</table>\n",
       "</div>"
      ],
      "text/plain": [
       "    A\n",
       "B    \n",
       "a  10\n",
       "b  20\n",
       "c  30"
      ]
     },
     "execution_count": 23,
     "metadata": {},
     "output_type": "execute_result"
    }
   ],
   "source": [
    "# Set index in-place, i.e., df is modified\n",
    "df.set_index('B', inplace=True)\n",
    "\n",
    "df"
   ]
  },
  {
   "cell_type": "markdown",
   "metadata": {},
   "source": [
    "Importantly, when changing things in-place, pandas functions usually don't return anything (the return value is `None`), so it is a mistake to attempt to assign the return value to a variable."
   ]
  },
  {
   "cell_type": "markdown",
   "metadata": {},
   "source": [
    "We can now use these new labels to select records in the `DataFrame`:"
   ]
  },
  {
   "cell_type": "code",
   "execution_count": 24,
   "metadata": {},
   "outputs": [
    {
     "data": {
      "text/html": [
       "<div>\n",
       "<style scoped>\n",
       "    .dataframe tbody tr th:only-of-type {\n",
       "        vertical-align: middle;\n",
       "    }\n",
       "\n",
       "    .dataframe tbody tr th {\n",
       "        vertical-align: top;\n",
       "    }\n",
       "\n",
       "    .dataframe thead th {\n",
       "        text-align: right;\n",
       "    }\n",
       "</style>\n",
       "<table border=\"1\" class=\"dataframe\">\n",
       "  <thead>\n",
       "    <tr style=\"text-align: right;\">\n",
       "      <th></th>\n",
       "      <th>A</th>\n",
       "    </tr>\n",
       "    <tr>\n",
       "      <th>B</th>\n",
       "      <th></th>\n",
       "    </tr>\n",
       "  </thead>\n",
       "  <tbody>\n",
       "    <tr>\n",
       "      <th>a</th>\n",
       "      <td>10</td>\n",
       "    </tr>\n",
       "    <tr>\n",
       "      <th>b</th>\n",
       "      <td>20</td>\n",
       "    </tr>\n",
       "  </tbody>\n",
       "</table>\n",
       "</div>"
      ],
      "text/plain": [
       "    A\n",
       "B    \n",
       "a  10\n",
       "b  20"
      ]
     },
     "execution_count": 24,
     "metadata": {},
     "output_type": "execute_result"
    }
   ],
   "source": [
    "# print first 2 rows using labels\n",
    "df['a':'b']             # This is the same as df[:2]"
   ]
  },
  {
   "attachments": {},
   "cell_type": "markdown",
   "metadata": {
    "collapsed": false,
    "pycharm": {
     "name": "#%% md\n"
    }
   },
   "source": [
    "Note that when specifying a range in terms of\n",
    "labels, the last element *is* included! Hence the row with index `c`\n",
    "in the above example is shown.\n",
    "\n",
    "We can reset the index to its default integer values using\n",
    "the `reset_index()` method:"
   ]
  },
  {
   "cell_type": "code",
   "execution_count": 25,
   "metadata": {
    "collapsed": false,
    "pycharm": {
     "name": "#%%\n"
    }
   },
   "outputs": [
    {
     "data": {
      "text/html": [
       "<div>\n",
       "<style scoped>\n",
       "    .dataframe tbody tr th:only-of-type {\n",
       "        vertical-align: middle;\n",
       "    }\n",
       "\n",
       "    .dataframe tbody tr th {\n",
       "        vertical-align: top;\n",
       "    }\n",
       "\n",
       "    .dataframe thead th {\n",
       "        text-align: right;\n",
       "    }\n",
       "</style>\n",
       "<table border=\"1\" class=\"dataframe\">\n",
       "  <thead>\n",
       "    <tr style=\"text-align: right;\">\n",
       "      <th></th>\n",
       "      <th>A</th>\n",
       "    </tr>\n",
       "  </thead>\n",
       "  <tbody>\n",
       "    <tr>\n",
       "      <th>0</th>\n",
       "      <td>10</td>\n",
       "    </tr>\n",
       "    <tr>\n",
       "      <th>1</th>\n",
       "      <td>20</td>\n",
       "    </tr>\n",
       "    <tr>\n",
       "      <th>2</th>\n",
       "      <td>30</td>\n",
       "    </tr>\n",
       "  </tbody>\n",
       "</table>\n",
       "</div>"
      ],
      "text/plain": [
       "    A\n",
       "0  10\n",
       "1  20\n",
       "2  30"
      ]
     },
     "execution_count": 25,
     "metadata": {},
     "output_type": "execute_result"
    }
   ],
   "source": [
    "# Reset index labels to default value (integers 0, 1, 2, ...) and print \n",
    "# first three rows\n",
    "df.reset_index(drop=True).head(3)"
   ]
  },
  {
   "attachments": {},
   "cell_type": "markdown",
   "metadata": {
    "collapsed": false,
    "pycharm": {
     "name": "#%% md\n"
    }
   },
   "source": [
    "The `drop=True` argument tells pandas to throw away the old index\n",
    "values instead of storing them as a column of the resulting `DataFrame`."
   ]
  },
  {
   "cell_type": "markdown",
   "metadata": {},
   "source": [
    "<div class=\"alert alert-info\">\n",
    "<h3> Your turn</h3>\n",
    "Read in the following data files from the <TT>data/FRED</TT> folder and manipulate the dataframe index:\n",
    "<ol>\n",
    "    <li>Read in the file <TT>FRED_annual.csv</TT> and set the column <TT>Year</TT> as the index.</li>\n",
    "    <li>Read in the file <TT>FRED_monthly.csv</TT> and set the columns <TT>Year</TT> and <TT>Month</TT> as the index</li>\n",
    "</ol>\n",
    "Perform the tasks using <TT>inplace=False</TT> and <TT>inplace=True</TT>. What's the difference?\n",
    "\n",
    "Restore the original (default) index after you are done.\n",
    "</div>"
   ]
  },
  {
   "cell_type": "markdown",
   "metadata": {},
   "source": [
    "***\n",
    "### Selecting elements\n",
    "\n",
    "To more clearly distinguish between selection by label and by position,\n",
    "pandas provides the [`.loc[]`](https://pandas.pydata.org/docs/reference/api/pandas.DataFrame.loc.html) and \n",
    "[`.iloc[]`](https://pandas.pydata.org/docs/reference/api/pandas.DataFrame.iloc.html) methods of indexing.\n",
    "To make your intention obvious, you should therefore adhere to the following\n",
    "rules:\n",
    "\n",
    "1.  Use `df['name']` only to select *columns* and nothing else.\n",
    "2.  Use `.loc[]` to select by label.\n",
    "3.  Use `.iloc[]` to select by position."
   ]
  },
  {
   "attachments": {},
   "cell_type": "markdown",
   "metadata": {},
   "source": [
    "#### Selection by label ####\n",
    "\n",
    "To illustrate, using `.loc[]` unambiguously indexes by label. First we create a demo data set with 3 columns and 5 rows:"
   ]
  },
  {
   "cell_type": "code",
   "execution_count": 26,
   "metadata": {
    "collapsed": false,
    "pycharm": {
     "name": "#%%\n"
    }
   },
   "outputs": [],
   "source": [
    "# Create demo data with 3 columns and 5 rows\n",
    "\n",
    "# Column labels\n",
    "columns = ['X', 'Y', 'Z']\n",
    "# Row labels\n",
    "rows = ['a', 'b', 'c', 'd', 'e']\n",
    "\n",
    "values = np.arange(len(rows))\n",
    "\n",
    "# Create data dictionary using a list comprehension\n",
    "data = {col: [f'{col}{val}' for val in values] for col in columns}\n",
    "\n",
    "# Create DataFrame from dictionary\n",
    "df = pd.DataFrame(data, index=rows)"
   ]
  },
  {
   "cell_type": "markdown",
   "metadata": {},
   "source": [
    "We now use `.loc[]` to select rows and columns by label. For example, to select the single row corresponding to the label `'b'` we specify:"
   ]
  },
  {
   "cell_type": "code",
   "execution_count": 27,
   "metadata": {},
   "outputs": [
    {
     "data": {
      "text/plain": [
       "X    X1\n",
       "Y    Y1\n",
       "Z    Z1\n",
       "Name: b, dtype: object"
      ]
     },
     "execution_count": 27,
     "metadata": {},
     "output_type": "execute_result"
    }
   ],
   "source": [
    "df.loc['b']"
   ]
  },
  {
   "cell_type": "markdown",
   "metadata": {},
   "source": [
    "To select a specific element by row and column labels, we proceed as follows:"
   ]
  },
  {
   "cell_type": "code",
   "execution_count": 28,
   "metadata": {},
   "outputs": [
    {
     "data": {
      "text/plain": [
       "'X1'"
      ]
     },
     "execution_count": 28,
     "metadata": {},
     "output_type": "execute_result"
    }
   ],
   "source": [
    "df.loc['b', 'X']"
   ]
  },
  {
   "cell_type": "markdown",
   "metadata": {},
   "source": [
    "If you want to select multiple rows or columns, you can also pass lists as arguments to `.loc[]`:"
   ]
  },
  {
   "cell_type": "code",
   "execution_count": 29,
   "metadata": {},
   "outputs": [
    {
     "data": {
      "text/html": [
       "<div>\n",
       "<style scoped>\n",
       "    .dataframe tbody tr th:only-of-type {\n",
       "        vertical-align: middle;\n",
       "    }\n",
       "\n",
       "    .dataframe tbody tr th {\n",
       "        vertical-align: top;\n",
       "    }\n",
       "\n",
       "    .dataframe thead th {\n",
       "        text-align: right;\n",
       "    }\n",
       "</style>\n",
       "<table border=\"1\" class=\"dataframe\">\n",
       "  <thead>\n",
       "    <tr style=\"text-align: right;\">\n",
       "      <th></th>\n",
       "      <th>X</th>\n",
       "      <th>Z</th>\n",
       "    </tr>\n",
       "  </thead>\n",
       "  <tbody>\n",
       "    <tr>\n",
       "      <th>b</th>\n",
       "      <td>X1</td>\n",
       "      <td>Z1</td>\n",
       "    </tr>\n",
       "    <tr>\n",
       "      <th>d</th>\n",
       "      <td>X3</td>\n",
       "      <td>Z3</td>\n",
       "    </tr>\n",
       "  </tbody>\n",
       "</table>\n",
       "</div>"
      ],
      "text/plain": [
       "    X   Z\n",
       "b  X1  Z1\n",
       "d  X3  Z3"
      ]
     },
     "execution_count": 29,
     "metadata": {},
     "output_type": "execute_result"
    }
   ],
   "source": [
    "# Select rows 'b' and 'd', and columns 'X' and 'Z'\n",
    "df.loc[['b', 'd'], ['X', 'Z']]"
   ]
  },
  {
   "cell_type": "markdown",
   "metadata": {},
   "source": [
    "Finally, it is possible to perform slicing on rows or columns using the `:` notation which you might have encountered when slicing lists, tuples or NumPy arrays:"
   ]
  },
  {
   "cell_type": "code",
   "execution_count": 30,
   "metadata": {},
   "outputs": [
    {
     "data": {
      "text/html": [
       "<div>\n",
       "<style scoped>\n",
       "    .dataframe tbody tr th:only-of-type {\n",
       "        vertical-align: middle;\n",
       "    }\n",
       "\n",
       "    .dataframe tbody tr th {\n",
       "        vertical-align: top;\n",
       "    }\n",
       "\n",
       "    .dataframe thead th {\n",
       "        text-align: right;\n",
       "    }\n",
       "</style>\n",
       "<table border=\"1\" class=\"dataframe\">\n",
       "  <thead>\n",
       "    <tr style=\"text-align: right;\">\n",
       "      <th></th>\n",
       "      <th>X</th>\n",
       "      <th>Y</th>\n",
       "      <th>Z</th>\n",
       "    </tr>\n",
       "  </thead>\n",
       "  <tbody>\n",
       "    <tr>\n",
       "      <th>b</th>\n",
       "      <td>X1</td>\n",
       "      <td>Y1</td>\n",
       "      <td>Z1</td>\n",
       "    </tr>\n",
       "    <tr>\n",
       "      <th>c</th>\n",
       "      <td>X2</td>\n",
       "      <td>Y2</td>\n",
       "      <td>Z2</td>\n",
       "    </tr>\n",
       "    <tr>\n",
       "      <th>d</th>\n",
       "      <td>X3</td>\n",
       "      <td>Y3</td>\n",
       "      <td>Z3</td>\n",
       "    </tr>\n",
       "    <tr>\n",
       "      <th>e</th>\n",
       "      <td>X4</td>\n",
       "      <td>Y4</td>\n",
       "      <td>Z4</td>\n",
       "    </tr>\n",
       "  </tbody>\n",
       "</table>\n",
       "</div>"
      ],
      "text/plain": [
       "    X   Y   Z\n",
       "b  X1  Y1  Z1\n",
       "c  X2  Y2  Z2\n",
       "d  X3  Y3  Z3\n",
       "e  X4  Y4  Z4"
      ]
     },
     "execution_count": 30,
     "metadata": {},
     "output_type": "execute_result"
    }
   ],
   "source": [
    "# Select rows 'b' to 'e'\n",
    "df.loc['b':'e']"
   ]
  },
  {
   "attachments": {},
   "cell_type": "markdown",
   "metadata": {
    "collapsed": false,
    "pycharm": {
     "name": "#%% md\n"
    }
   },
   "source": [
    "With `.loc[]` we can even perform slicing on column names, which\n",
    "is not possible with the simpler `df[]` syntax:"
   ]
  },
  {
   "cell_type": "code",
   "execution_count": 31,
   "metadata": {
    "collapsed": false,
    "pycharm": {
     "name": "#%%\n"
    }
   },
   "outputs": [
    {
     "data": {
      "text/html": [
       "<div>\n",
       "<style scoped>\n",
       "    .dataframe tbody tr th:only-of-type {\n",
       "        vertical-align: middle;\n",
       "    }\n",
       "\n",
       "    .dataframe tbody tr th {\n",
       "        vertical-align: top;\n",
       "    }\n",
       "\n",
       "    .dataframe thead th {\n",
       "        text-align: right;\n",
       "    }\n",
       "</style>\n",
       "<table border=\"1\" class=\"dataframe\">\n",
       "  <thead>\n",
       "    <tr style=\"text-align: right;\">\n",
       "      <th></th>\n",
       "      <th>X</th>\n",
       "      <th>Y</th>\n",
       "      <th>Z</th>\n",
       "    </tr>\n",
       "  </thead>\n",
       "  <tbody>\n",
       "    <tr>\n",
       "      <th>b</th>\n",
       "      <td>X1</td>\n",
       "      <td>Y1</td>\n",
       "      <td>Z1</td>\n",
       "    </tr>\n",
       "    <tr>\n",
       "      <th>c</th>\n",
       "      <td>X2</td>\n",
       "      <td>Y2</td>\n",
       "      <td>Z2</td>\n",
       "    </tr>\n",
       "    <tr>\n",
       "      <th>d</th>\n",
       "      <td>X3</td>\n",
       "      <td>Y3</td>\n",
       "      <td>Z3</td>\n",
       "    </tr>\n",
       "    <tr>\n",
       "      <th>e</th>\n",
       "      <td>X4</td>\n",
       "      <td>Y4</td>\n",
       "      <td>Z4</td>\n",
       "    </tr>\n",
       "  </tbody>\n",
       "</table>\n",
       "</div>"
      ],
      "text/plain": [
       "    X   Y   Z\n",
       "b  X1  Y1  Z1\n",
       "c  X2  Y2  Z2\n",
       "d  X3  Y3  Z3\n",
       "e  X4  Y4  Z4"
      ]
     },
     "execution_count": 31,
     "metadata": {},
     "output_type": "execute_result"
    }
   ],
   "source": [
    "# Select rows 'b' to 'e', and columns 'X' to 'Z'\n",
    "df.loc['b':'e', 'X':'Z']"
   ]
  },
  {
   "attachments": {},
   "cell_type": "markdown",
   "metadata": {
    "collapsed": false,
    "pycharm": {
     "name": "#%% md\n"
    }
   },
   "source": [
    "This includes all the columns between `X` and `Z`,\n",
    "where the latter is included since we are slicing by label."
   ]
  },
  {
   "cell_type": "markdown",
   "metadata": {},
   "source": [
    "\n",
    "Trying to pass in positional arguments will return an error for\n",
    "the given `DataFrame` since the index labels are `a`, `b`, `c`,...\n",
    "and not 0, 1, 2..."
   ]
  },
  {
   "cell_type": "code",
   "execution_count": 32,
   "metadata": {
    "collapsed": false,
    "pycharm": {
     "name": "#%%\n"
    }
   },
   "outputs": [
    {
     "ename": "TypeError",
     "evalue": "cannot do slice indexing on Index with these indexers [0] of type int",
     "output_type": "error",
     "traceback": [
      "\u001b[31mTypeError\u001b[39m\u001b[31m:\u001b[39m cannot do slice indexing on Index with these indexers [0] of type int\n"
     ]
    }
   ],
   "source": [
    "df.loc[0:4]"
   ]
  },
  {
   "attachments": {},
   "cell_type": "markdown",
   "metadata": {
    "collapsed": false,
    "pycharm": {
     "name": "#%% md\n"
    }
   },
   "source": [
    "However, we can reset the index to its default value. Then\n",
    "the index labels are integers and coincide with their position,\n",
    "so that `.loc[]` works:"
   ]
  },
  {
   "cell_type": "code",
   "execution_count": 33,
   "metadata": {
    "collapsed": false,
    "pycharm": {
     "name": "#%%\n"
    }
   },
   "outputs": [
    {
     "data": {
      "text/html": [
       "<div>\n",
       "<style scoped>\n",
       "    .dataframe tbody tr th:only-of-type {\n",
       "        vertical-align: middle;\n",
       "    }\n",
       "\n",
       "    .dataframe tbody tr th {\n",
       "        vertical-align: top;\n",
       "    }\n",
       "\n",
       "    .dataframe thead th {\n",
       "        text-align: right;\n",
       "    }\n",
       "</style>\n",
       "<table border=\"1\" class=\"dataframe\">\n",
       "  <thead>\n",
       "    <tr style=\"text-align: right;\">\n",
       "      <th></th>\n",
       "      <th>X</th>\n",
       "      <th>Y</th>\n",
       "      <th>Z</th>\n",
       "    </tr>\n",
       "  </thead>\n",
       "  <tbody>\n",
       "    <tr>\n",
       "      <th>0</th>\n",
       "      <td>X0</td>\n",
       "      <td>Y0</td>\n",
       "      <td>Z0</td>\n",
       "    </tr>\n",
       "    <tr>\n",
       "      <th>1</th>\n",
       "      <td>X1</td>\n",
       "      <td>Y1</td>\n",
       "      <td>Z1</td>\n",
       "    </tr>\n",
       "    <tr>\n",
       "      <th>2</th>\n",
       "      <td>X2</td>\n",
       "      <td>Y2</td>\n",
       "      <td>Z2</td>\n",
       "    </tr>\n",
       "    <tr>\n",
       "      <th>3</th>\n",
       "      <td>X3</td>\n",
       "      <td>Y3</td>\n",
       "      <td>Z3</td>\n",
       "    </tr>\n",
       "    <tr>\n",
       "      <th>4</th>\n",
       "      <td>X4</td>\n",
       "      <td>Y4</td>\n",
       "      <td>Z4</td>\n",
       "    </tr>\n",
       "  </tbody>\n",
       "</table>\n",
       "</div>"
      ],
      "text/plain": [
       "    X   Y   Z\n",
       "0  X0  Y0  Z0\n",
       "1  X1  Y1  Z1\n",
       "2  X2  Y2  Z2\n",
       "3  X3  Y3  Z3\n",
       "4  X4  Y4  Z4"
      ]
     },
     "execution_count": 33,
     "metadata": {},
     "output_type": "execute_result"
    }
   ],
   "source": [
    "df = df.reset_index(drop=True)      # reset index labels to integers,\n",
    "                                    # drop original index\n",
    "df.loc[0:4]"
   ]
  },
  {
   "attachments": {},
   "cell_type": "markdown",
   "metadata": {
    "collapsed": false,
    "pycharm": {
     "name": "#%% md\n"
    }
   },
   "source": [
    "Again, the end point with label `4` is included because we\n",
    "are selecting by label.\n",
    "\n",
    "Indexing via `.loc[]` supports a few more types of arguments,\n",
    "see the [official documentation](https://pandas.pydata.org/docs/user_guide/indexing.html#selection-by-label)\n",
    "for details."
   ]
  },
  {
   "attachments": {},
   "cell_type": "markdown",
   "metadata": {
    "collapsed": false,
    "pycharm": {
     "name": "#%% md\n"
    }
   },
   "source": [
    "#### Selection by position ####\n",
    "\n",
    "Conversely, if we want to select items exclusively by their position\n",
    "and ignore their labels, we use `.iloc[]`:"
   ]
  },
  {
   "cell_type": "code",
   "execution_count": 34,
   "metadata": {
    "collapsed": false,
    "pycharm": {
     "name": "#%%\n"
    }
   },
   "outputs": [
    {
     "data": {
      "text/html": [
       "<div>\n",
       "<style scoped>\n",
       "    .dataframe tbody tr th:only-of-type {\n",
       "        vertical-align: middle;\n",
       "    }\n",
       "\n",
       "    .dataframe tbody tr th {\n",
       "        vertical-align: top;\n",
       "    }\n",
       "\n",
       "    .dataframe thead th {\n",
       "        text-align: right;\n",
       "    }\n",
       "</style>\n",
       "<table border=\"1\" class=\"dataframe\">\n",
       "  <thead>\n",
       "    <tr style=\"text-align: right;\">\n",
       "      <th></th>\n",
       "      <th>X</th>\n",
       "      <th>Y</th>\n",
       "    </tr>\n",
       "  </thead>\n",
       "  <tbody>\n",
       "    <tr>\n",
       "      <th>0</th>\n",
       "      <td>X0</td>\n",
       "      <td>Y0</td>\n",
       "    </tr>\n",
       "    <tr>\n",
       "      <th>1</th>\n",
       "      <td>X1</td>\n",
       "      <td>Y1</td>\n",
       "    </tr>\n",
       "    <tr>\n",
       "      <th>2</th>\n",
       "      <td>X2</td>\n",
       "      <td>Y2</td>\n",
       "    </tr>\n",
       "    <tr>\n",
       "      <th>3</th>\n",
       "      <td>X3</td>\n",
       "      <td>Y3</td>\n",
       "    </tr>\n",
       "  </tbody>\n",
       "</table>\n",
       "</div>"
      ],
      "text/plain": [
       "    X   Y\n",
       "0  X0  Y0\n",
       "1  X1  Y1\n",
       "2  X2  Y2\n",
       "3  X3  Y3"
      ]
     },
     "execution_count": 34,
     "metadata": {},
     "output_type": "execute_result"
    }
   ],
   "source": [
    "df.iloc[0:4, 0:2]           # select first 4 rows, first 2 columns"
   ]
  },
  {
   "attachments": {},
   "cell_type": "markdown",
   "metadata": {
    "collapsed": false,
    "pycharm": {
     "name": "#%% md\n"
    }
   },
   "source": [
    "Again, `.iloc[]` supports a multitude of other arguments, see the [official documentation](https://pandas.pydata.org/docs/user_guide/indexing.html#selection-by-position)\n",
    "for details."
   ]
  },
  {
   "attachments": {},
   "cell_type": "markdown",
   "metadata": {},
   "source": [
    "#### Boolean indexing ####\n",
    "\n",
    "Similar to NumPy, pandas allows us to select a subset of rows in a `Series` or `DataFrame`\n",
    "if they satisfy some condition. The simplest use case is to create a \n",
    "column of boolean values (`True` or `False`) as a result of some logical operation:\n",
    "\n",
    "\n",
    " This even works without\n",
    "explicitly using the `.loc[]` attribute:"
   ]
  },
  {
   "cell_type": "code",
   "execution_count": 35,
   "metadata": {},
   "outputs": [
    {
     "data": {
      "text/plain": [
       "0       True\n",
       "1      False\n",
       "2       True\n",
       "3       True\n",
       "4       True\n",
       "       ...  \n",
       "886     True\n",
       "887     True\n",
       "888     True\n",
       "889    False\n",
       "890    False\n",
       "Name: Embarked, Length: 891, dtype: bool"
      ]
     },
     "execution_count": 35,
     "metadata": {},
     "output_type": "execute_result"
    }
   ],
   "source": [
    "import pandas as pd\n",
    "\n",
    "# Read in Titanic passenger data\n",
    "df = pd.read_csv(f'{DATA_PATH}/titanic.csv')\n",
    "\n",
    "# Check whether passenger embarked in Southampton \n",
    "df['Embarked'] == \"S\""
   ]
  },
  {
   "cell_type": "markdown",
   "metadata": {},
   "source": [
    "Such boolean arrays can be used to select a subset of entries:"
   ]
  },
  {
   "cell_type": "code",
   "execution_count": 36,
   "metadata": {},
   "outputs": [
    {
     "data": {
      "text/html": [
       "<div>\n",
       "<style scoped>\n",
       "    .dataframe tbody tr th:only-of-type {\n",
       "        vertical-align: middle;\n",
       "    }\n",
       "\n",
       "    .dataframe tbody tr th {\n",
       "        vertical-align: top;\n",
       "    }\n",
       "\n",
       "    .dataframe thead th {\n",
       "        text-align: right;\n",
       "    }\n",
       "</style>\n",
       "<table border=\"1\" class=\"dataframe\">\n",
       "  <thead>\n",
       "    <tr style=\"text-align: right;\">\n",
       "      <th></th>\n",
       "      <th>Name</th>\n",
       "      <th>Sex</th>\n",
       "      <th>Age</th>\n",
       "    </tr>\n",
       "  </thead>\n",
       "  <tbody>\n",
       "    <tr>\n",
       "      <th>0</th>\n",
       "      <td>Braund, Mr. Owen Harris</td>\n",
       "      <td>male</td>\n",
       "      <td>22.0</td>\n",
       "    </tr>\n",
       "    <tr>\n",
       "      <th>2</th>\n",
       "      <td>Heikkinen, Miss Laina</td>\n",
       "      <td>female</td>\n",
       "      <td>26.0</td>\n",
       "    </tr>\n",
       "    <tr>\n",
       "      <th>3</th>\n",
       "      <td>Futrelle, Mrs. Jacques Heath (Lily May Peel)</td>\n",
       "      <td>female</td>\n",
       "      <td>35.0</td>\n",
       "    </tr>\n",
       "    <tr>\n",
       "      <th>4</th>\n",
       "      <td>Allen, Mr. William Henry</td>\n",
       "      <td>male</td>\n",
       "      <td>35.0</td>\n",
       "    </tr>\n",
       "    <tr>\n",
       "      <th>6</th>\n",
       "      <td>McCarthy, Mr. Timothy J</td>\n",
       "      <td>male</td>\n",
       "      <td>54.0</td>\n",
       "    </tr>\n",
       "    <tr>\n",
       "      <th>...</th>\n",
       "      <td>...</td>\n",
       "      <td>...</td>\n",
       "      <td>...</td>\n",
       "    </tr>\n",
       "    <tr>\n",
       "      <th>883</th>\n",
       "      <td>Banfield, Mr. Frederick James</td>\n",
       "      <td>male</td>\n",
       "      <td>28.0</td>\n",
       "    </tr>\n",
       "    <tr>\n",
       "      <th>884</th>\n",
       "      <td>Sutehall, Mr. Henry Jr</td>\n",
       "      <td>male</td>\n",
       "      <td>25.0</td>\n",
       "    </tr>\n",
       "    <tr>\n",
       "      <th>886</th>\n",
       "      <td>Montvila, Rev. Juozas</td>\n",
       "      <td>male</td>\n",
       "      <td>27.0</td>\n",
       "    </tr>\n",
       "    <tr>\n",
       "      <th>887</th>\n",
       "      <td>Graham, Miss Margaret Edith</td>\n",
       "      <td>female</td>\n",
       "      <td>19.0</td>\n",
       "    </tr>\n",
       "    <tr>\n",
       "      <th>888</th>\n",
       "      <td>Johnston, Miss Catherine Helen \"Carrie\"</td>\n",
       "      <td>female</td>\n",
       "      <td>NaN</td>\n",
       "    </tr>\n",
       "  </tbody>\n",
       "</table>\n",
       "<p>644 rows × 3 columns</p>\n",
       "</div>"
      ],
      "text/plain": [
       "                                             Name     Sex   Age\n",
       "0                         Braund, Mr. Owen Harris    male  22.0\n",
       "2                           Heikkinen, Miss Laina  female  26.0\n",
       "3    Futrelle, Mrs. Jacques Heath (Lily May Peel)  female  35.0\n",
       "4                        Allen, Mr. William Henry    male  35.0\n",
       "6                         McCarthy, Mr. Timothy J    male  54.0\n",
       "..                                            ...     ...   ...\n",
       "883                 Banfield, Mr. Frederick James    male  28.0\n",
       "884                        Sutehall, Mr. Henry Jr    male  25.0\n",
       "886                         Montvila, Rev. Juozas    male  27.0\n",
       "887                   Graham, Miss Margaret Edith  female  19.0\n",
       "888       Johnston, Miss Catherine Helen \"Carrie\"  female   NaN\n",
       "\n",
       "[644 rows x 3 columns]"
      ]
     },
     "execution_count": 36,
     "metadata": {},
     "output_type": "execute_result"
    }
   ],
   "source": [
    "df.loc[df['Embarked'] == 'S', 'Name':'Age']"
   ]
  },
  {
   "cell_type": "markdown",
   "metadata": {},
   "source": [
    "Boolean indexing also works directly with `[]` without having to specify `.loc[]`, but then it is not possible to also select a subset of columns at the same time:"
   ]
  },
  {
   "cell_type": "code",
   "execution_count": 37,
   "metadata": {},
   "outputs": [
    {
     "data": {
      "text/html": [
       "<div>\n",
       "<style scoped>\n",
       "    .dataframe tbody tr th:only-of-type {\n",
       "        vertical-align: middle;\n",
       "    }\n",
       "\n",
       "    .dataframe tbody tr th {\n",
       "        vertical-align: top;\n",
       "    }\n",
       "\n",
       "    .dataframe thead th {\n",
       "        text-align: right;\n",
       "    }\n",
       "</style>\n",
       "<table border=\"1\" class=\"dataframe\">\n",
       "  <thead>\n",
       "    <tr style=\"text-align: right;\">\n",
       "      <th></th>\n",
       "      <th>PassengerId</th>\n",
       "      <th>Survived</th>\n",
       "      <th>Pclass</th>\n",
       "      <th>Name</th>\n",
       "      <th>Sex</th>\n",
       "      <th>Age</th>\n",
       "      <th>Ticket</th>\n",
       "      <th>Fare</th>\n",
       "      <th>Cabin</th>\n",
       "      <th>Embarked</th>\n",
       "    </tr>\n",
       "  </thead>\n",
       "  <tbody>\n",
       "    <tr>\n",
       "      <th>0</th>\n",
       "      <td>1</td>\n",
       "      <td>0</td>\n",
       "      <td>3</td>\n",
       "      <td>Braund, Mr. Owen Harris</td>\n",
       "      <td>male</td>\n",
       "      <td>22.0</td>\n",
       "      <td>A/5 21171</td>\n",
       "      <td>7.2500</td>\n",
       "      <td>NaN</td>\n",
       "      <td>S</td>\n",
       "    </tr>\n",
       "    <tr>\n",
       "      <th>2</th>\n",
       "      <td>3</td>\n",
       "      <td>1</td>\n",
       "      <td>3</td>\n",
       "      <td>Heikkinen, Miss Laina</td>\n",
       "      <td>female</td>\n",
       "      <td>26.0</td>\n",
       "      <td>STON/O2. 3101282</td>\n",
       "      <td>7.9250</td>\n",
       "      <td>NaN</td>\n",
       "      <td>S</td>\n",
       "    </tr>\n",
       "    <tr>\n",
       "      <th>3</th>\n",
       "      <td>4</td>\n",
       "      <td>1</td>\n",
       "      <td>1</td>\n",
       "      <td>Futrelle, Mrs. Jacques Heath (Lily May Peel)</td>\n",
       "      <td>female</td>\n",
       "      <td>35.0</td>\n",
       "      <td>113803</td>\n",
       "      <td>53.1000</td>\n",
       "      <td>C123</td>\n",
       "      <td>S</td>\n",
       "    </tr>\n",
       "    <tr>\n",
       "      <th>4</th>\n",
       "      <td>5</td>\n",
       "      <td>0</td>\n",
       "      <td>3</td>\n",
       "      <td>Allen, Mr. William Henry</td>\n",
       "      <td>male</td>\n",
       "      <td>35.0</td>\n",
       "      <td>373450</td>\n",
       "      <td>8.0500</td>\n",
       "      <td>NaN</td>\n",
       "      <td>S</td>\n",
       "    </tr>\n",
       "    <tr>\n",
       "      <th>6</th>\n",
       "      <td>7</td>\n",
       "      <td>0</td>\n",
       "      <td>1</td>\n",
       "      <td>McCarthy, Mr. Timothy J</td>\n",
       "      <td>male</td>\n",
       "      <td>54.0</td>\n",
       "      <td>17463</td>\n",
       "      <td>51.8625</td>\n",
       "      <td>E46</td>\n",
       "      <td>S</td>\n",
       "    </tr>\n",
       "    <tr>\n",
       "      <th>...</th>\n",
       "      <td>...</td>\n",
       "      <td>...</td>\n",
       "      <td>...</td>\n",
       "      <td>...</td>\n",
       "      <td>...</td>\n",
       "      <td>...</td>\n",
       "      <td>...</td>\n",
       "      <td>...</td>\n",
       "      <td>...</td>\n",
       "      <td>...</td>\n",
       "    </tr>\n",
       "    <tr>\n",
       "      <th>883</th>\n",
       "      <td>884</td>\n",
       "      <td>0</td>\n",
       "      <td>2</td>\n",
       "      <td>Banfield, Mr. Frederick James</td>\n",
       "      <td>male</td>\n",
       "      <td>28.0</td>\n",
       "      <td>C.A./SOTON 34068</td>\n",
       "      <td>10.5000</td>\n",
       "      <td>NaN</td>\n",
       "      <td>S</td>\n",
       "    </tr>\n",
       "    <tr>\n",
       "      <th>884</th>\n",
       "      <td>885</td>\n",
       "      <td>0</td>\n",
       "      <td>3</td>\n",
       "      <td>Sutehall, Mr. Henry Jr</td>\n",
       "      <td>male</td>\n",
       "      <td>25.0</td>\n",
       "      <td>SOTON/OQ 392076</td>\n",
       "      <td>7.0500</td>\n",
       "      <td>NaN</td>\n",
       "      <td>S</td>\n",
       "    </tr>\n",
       "    <tr>\n",
       "      <th>886</th>\n",
       "      <td>887</td>\n",
       "      <td>0</td>\n",
       "      <td>2</td>\n",
       "      <td>Montvila, Rev. Juozas</td>\n",
       "      <td>male</td>\n",
       "      <td>27.0</td>\n",
       "      <td>211536</td>\n",
       "      <td>13.0000</td>\n",
       "      <td>NaN</td>\n",
       "      <td>S</td>\n",
       "    </tr>\n",
       "    <tr>\n",
       "      <th>887</th>\n",
       "      <td>888</td>\n",
       "      <td>1</td>\n",
       "      <td>1</td>\n",
       "      <td>Graham, Miss Margaret Edith</td>\n",
       "      <td>female</td>\n",
       "      <td>19.0</td>\n",
       "      <td>112053</td>\n",
       "      <td>30.0000</td>\n",
       "      <td>B42</td>\n",
       "      <td>S</td>\n",
       "    </tr>\n",
       "    <tr>\n",
       "      <th>888</th>\n",
       "      <td>889</td>\n",
       "      <td>0</td>\n",
       "      <td>3</td>\n",
       "      <td>Johnston, Miss Catherine Helen \"Carrie\"</td>\n",
       "      <td>female</td>\n",
       "      <td>NaN</td>\n",
       "      <td>W./C. 6607</td>\n",
       "      <td>23.4500</td>\n",
       "      <td>NaN</td>\n",
       "      <td>S</td>\n",
       "    </tr>\n",
       "  </tbody>\n",
       "</table>\n",
       "<p>644 rows × 10 columns</p>\n",
       "</div>"
      ],
      "text/plain": [
       "     PassengerId  Survived  Pclass  \\\n",
       "0              1         0       3   \n",
       "2              3         1       3   \n",
       "3              4         1       1   \n",
       "4              5         0       3   \n",
       "6              7         0       1   \n",
       "..           ...       ...     ...   \n",
       "883          884         0       2   \n",
       "884          885         0       3   \n",
       "886          887         0       2   \n",
       "887          888         1       1   \n",
       "888          889         0       3   \n",
       "\n",
       "                                             Name     Sex   Age  \\\n",
       "0                         Braund, Mr. Owen Harris    male  22.0   \n",
       "2                           Heikkinen, Miss Laina  female  26.0   \n",
       "3    Futrelle, Mrs. Jacques Heath (Lily May Peel)  female  35.0   \n",
       "4                        Allen, Mr. William Henry    male  35.0   \n",
       "6                         McCarthy, Mr. Timothy J    male  54.0   \n",
       "..                                            ...     ...   ...   \n",
       "883                 Banfield, Mr. Frederick James    male  28.0   \n",
       "884                        Sutehall, Mr. Henry Jr    male  25.0   \n",
       "886                         Montvila, Rev. Juozas    male  27.0   \n",
       "887                   Graham, Miss Margaret Edith  female  19.0   \n",
       "888       Johnston, Miss Catherine Helen \"Carrie\"  female   NaN   \n",
       "\n",
       "               Ticket     Fare Cabin Embarked  \n",
       "0           A/5 21171   7.2500   NaN        S  \n",
       "2    STON/O2. 3101282   7.9250   NaN        S  \n",
       "3              113803  53.1000  C123        S  \n",
       "4              373450   8.0500   NaN        S  \n",
       "6               17463  51.8625   E46        S  \n",
       "..                ...      ...   ...      ...  \n",
       "883  C.A./SOTON 34068  10.5000   NaN        S  \n",
       "884   SOTON/OQ 392076   7.0500   NaN        S  \n",
       "886            211536  13.0000   NaN        S  \n",
       "887            112053  30.0000   B42        S  \n",
       "888        W./C. 6607  23.4500   NaN        S  \n",
       "\n",
       "[644 rows x 10 columns]"
      ]
     },
     "execution_count": 37,
     "metadata": {},
     "output_type": "execute_result"
    }
   ],
   "source": [
    "df[df['Embarked'] == 'S']"
   ]
  },
  {
   "attachments": {},
   "cell_type": "markdown",
   "metadata": {},
   "source": [
    "Multiple conditions can be combined using the `&` (logical and) or `|` (logical or) operators:"
   ]
  },
  {
   "cell_type": "code",
   "execution_count": 38,
   "metadata": {},
   "outputs": [
    {
     "data": {
      "text/html": [
       "<div>\n",
       "<style scoped>\n",
       "    .dataframe tbody tr th:only-of-type {\n",
       "        vertical-align: middle;\n",
       "    }\n",
       "\n",
       "    .dataframe tbody tr th {\n",
       "        vertical-align: top;\n",
       "    }\n",
       "\n",
       "    .dataframe thead th {\n",
       "        text-align: right;\n",
       "    }\n",
       "</style>\n",
       "<table border=\"1\" class=\"dataframe\">\n",
       "  <thead>\n",
       "    <tr style=\"text-align: right;\">\n",
       "      <th></th>\n",
       "      <th>Name</th>\n",
       "      <th>Embarked</th>\n",
       "      <th>Sex</th>\n",
       "    </tr>\n",
       "  </thead>\n",
       "  <tbody>\n",
       "    <tr>\n",
       "      <th>0</th>\n",
       "      <td>Braund, Mr. Owen Harris</td>\n",
       "      <td>S</td>\n",
       "      <td>male</td>\n",
       "    </tr>\n",
       "    <tr>\n",
       "      <th>4</th>\n",
       "      <td>Allen, Mr. William Henry</td>\n",
       "      <td>S</td>\n",
       "      <td>male</td>\n",
       "    </tr>\n",
       "    <tr>\n",
       "      <th>6</th>\n",
       "      <td>McCarthy, Mr. Timothy J</td>\n",
       "      <td>S</td>\n",
       "      <td>male</td>\n",
       "    </tr>\n",
       "    <tr>\n",
       "      <th>7</th>\n",
       "      <td>Palsson, Master Gosta Leonard</td>\n",
       "      <td>S</td>\n",
       "      <td>male</td>\n",
       "    </tr>\n",
       "    <tr>\n",
       "      <th>12</th>\n",
       "      <td>Saundercock, Mr. William Henry</td>\n",
       "      <td>S</td>\n",
       "      <td>male</td>\n",
       "    </tr>\n",
       "    <tr>\n",
       "      <th>...</th>\n",
       "      <td>...</td>\n",
       "      <td>...</td>\n",
       "      <td>...</td>\n",
       "    </tr>\n",
       "    <tr>\n",
       "      <th>878</th>\n",
       "      <td>Laleff, Mr. Kristo</td>\n",
       "      <td>S</td>\n",
       "      <td>male</td>\n",
       "    </tr>\n",
       "    <tr>\n",
       "      <th>881</th>\n",
       "      <td>Markun, Mr. Johann</td>\n",
       "      <td>S</td>\n",
       "      <td>male</td>\n",
       "    </tr>\n",
       "    <tr>\n",
       "      <th>883</th>\n",
       "      <td>Banfield, Mr. Frederick James</td>\n",
       "      <td>S</td>\n",
       "      <td>male</td>\n",
       "    </tr>\n",
       "    <tr>\n",
       "      <th>884</th>\n",
       "      <td>Sutehall, Mr. Henry Jr</td>\n",
       "      <td>S</td>\n",
       "      <td>male</td>\n",
       "    </tr>\n",
       "    <tr>\n",
       "      <th>886</th>\n",
       "      <td>Montvila, Rev. Juozas</td>\n",
       "      <td>S</td>\n",
       "      <td>male</td>\n",
       "    </tr>\n",
       "  </tbody>\n",
       "</table>\n",
       "<p>441 rows × 3 columns</p>\n",
       "</div>"
      ],
      "text/plain": [
       "                               Name Embarked   Sex\n",
       "0           Braund, Mr. Owen Harris        S  male\n",
       "4          Allen, Mr. William Henry        S  male\n",
       "6           McCarthy, Mr. Timothy J        S  male\n",
       "7     Palsson, Master Gosta Leonard        S  male\n",
       "12   Saundercock, Mr. William Henry        S  male\n",
       "..                              ...      ...   ...\n",
       "878              Laleff, Mr. Kristo        S  male\n",
       "881              Markun, Mr. Johann        S  male\n",
       "883   Banfield, Mr. Frederick James        S  male\n",
       "884          Sutehall, Mr. Henry Jr        S  male\n",
       "886           Montvila, Rev. Juozas        S  male\n",
       "\n",
       "[441 rows x 3 columns]"
      ]
     },
     "execution_count": 38,
     "metadata": {},
     "output_type": "execute_result"
    }
   ],
   "source": [
    "# Select men who embarked in Southampton\n",
    "df.loc[(df['Embarked'] == 'S') & (df['Sex'] == 'male'), ['Name', 'Embarked', 'Sex']]"
   ]
  },
  {
   "attachments": {},
   "cell_type": "markdown",
   "metadata": {},
   "source": [
    "If we want to include rows where an observation takes on one of multiple values, the \n",
    "[`isin()`](https://pandas.pydata.org/docs/reference/api/pandas.DataFrame.isin.html)\n",
    "method can be used:"
   ]
  },
  {
   "cell_type": "code",
   "execution_count": 39,
   "metadata": {},
   "outputs": [
    {
     "data": {
      "text/html": [
       "<div>\n",
       "<style scoped>\n",
       "    .dataframe tbody tr th:only-of-type {\n",
       "        vertical-align: middle;\n",
       "    }\n",
       "\n",
       "    .dataframe tbody tr th {\n",
       "        vertical-align: top;\n",
       "    }\n",
       "\n",
       "    .dataframe thead th {\n",
       "        text-align: right;\n",
       "    }\n",
       "</style>\n",
       "<table border=\"1\" class=\"dataframe\">\n",
       "  <thead>\n",
       "    <tr style=\"text-align: right;\">\n",
       "      <th></th>\n",
       "      <th>Name</th>\n",
       "      <th>Embarked</th>\n",
       "    </tr>\n",
       "  </thead>\n",
       "  <tbody>\n",
       "    <tr>\n",
       "      <th>0</th>\n",
       "      <td>Braund, Mr. Owen Harris</td>\n",
       "      <td>S</td>\n",
       "    </tr>\n",
       "    <tr>\n",
       "      <th>2</th>\n",
       "      <td>Heikkinen, Miss Laina</td>\n",
       "      <td>S</td>\n",
       "    </tr>\n",
       "    <tr>\n",
       "      <th>3</th>\n",
       "      <td>Futrelle, Mrs. Jacques Heath (Lily May Peel)</td>\n",
       "      <td>S</td>\n",
       "    </tr>\n",
       "    <tr>\n",
       "      <th>4</th>\n",
       "      <td>Allen, Mr. William Henry</td>\n",
       "      <td>S</td>\n",
       "    </tr>\n",
       "    <tr>\n",
       "      <th>5</th>\n",
       "      <td>Moran, Mr. James</td>\n",
       "      <td>Q</td>\n",
       "    </tr>\n",
       "    <tr>\n",
       "      <th>...</th>\n",
       "      <td>...</td>\n",
       "      <td>...</td>\n",
       "    </tr>\n",
       "    <tr>\n",
       "      <th>885</th>\n",
       "      <td>Rice, Mrs. William (Margaret Norton)</td>\n",
       "      <td>Q</td>\n",
       "    </tr>\n",
       "    <tr>\n",
       "      <th>886</th>\n",
       "      <td>Montvila, Rev. Juozas</td>\n",
       "      <td>S</td>\n",
       "    </tr>\n",
       "    <tr>\n",
       "      <th>887</th>\n",
       "      <td>Graham, Miss Margaret Edith</td>\n",
       "      <td>S</td>\n",
       "    </tr>\n",
       "    <tr>\n",
       "      <th>888</th>\n",
       "      <td>Johnston, Miss Catherine Helen \"Carrie\"</td>\n",
       "      <td>S</td>\n",
       "    </tr>\n",
       "    <tr>\n",
       "      <th>890</th>\n",
       "      <td>Dooley, Mr. Patrick</td>\n",
       "      <td>Q</td>\n",
       "    </tr>\n",
       "  </tbody>\n",
       "</table>\n",
       "<p>721 rows × 2 columns</p>\n",
       "</div>"
      ],
      "text/plain": [
       "                                             Name Embarked\n",
       "0                         Braund, Mr. Owen Harris        S\n",
       "2                           Heikkinen, Miss Laina        S\n",
       "3    Futrelle, Mrs. Jacques Heath (Lily May Peel)        S\n",
       "4                        Allen, Mr. William Henry        S\n",
       "5                                Moran, Mr. James        Q\n",
       "..                                            ...      ...\n",
       "885          Rice, Mrs. William (Margaret Norton)        Q\n",
       "886                         Montvila, Rev. Juozas        S\n",
       "887                   Graham, Miss Margaret Edith        S\n",
       "888       Johnston, Miss Catherine Helen \"Carrie\"        S\n",
       "890                           Dooley, Mr. Patrick        Q\n",
       "\n",
       "[721 rows x 2 columns]"
      ]
     },
     "execution_count": 39,
     "metadata": {},
     "output_type": "execute_result"
    }
   ],
   "source": [
    "# Select passengers who embarked in Southampton or Queenstown\n",
    "df.loc[df['Embarked'].isin(('S', 'Q')), ['Name', 'Embarked']]"
   ]
  },
  {
   "attachments": {},
   "cell_type": "markdown",
   "metadata": {},
   "source": [
    "Finally, `DataFrame` implements a [`query()`](https://pandas.pydata.org/docs/reference/api/pandas.DataFrame.query.html)\n",
    "method which allows us to combine multiple conditions in a single string in an intuitive fashion. \n",
    "Column names can be used directly within this string to put restrictions on their values."
   ]
  },
  {
   "cell_type": "code",
   "execution_count": 40,
   "metadata": {},
   "outputs": [
    {
     "data": {
      "text/html": [
       "<div>\n",
       "<style scoped>\n",
       "    .dataframe tbody tr th:only-of-type {\n",
       "        vertical-align: middle;\n",
       "    }\n",
       "\n",
       "    .dataframe tbody tr th {\n",
       "        vertical-align: top;\n",
       "    }\n",
       "\n",
       "    .dataframe thead th {\n",
       "        text-align: right;\n",
       "    }\n",
       "</style>\n",
       "<table border=\"1\" class=\"dataframe\">\n",
       "  <thead>\n",
       "    <tr style=\"text-align: right;\">\n",
       "      <th></th>\n",
       "      <th>PassengerId</th>\n",
       "      <th>Survived</th>\n",
       "      <th>Pclass</th>\n",
       "      <th>Name</th>\n",
       "      <th>Sex</th>\n",
       "      <th>Age</th>\n",
       "      <th>Ticket</th>\n",
       "      <th>Fare</th>\n",
       "      <th>Cabin</th>\n",
       "      <th>Embarked</th>\n",
       "    </tr>\n",
       "  </thead>\n",
       "  <tbody>\n",
       "    <tr>\n",
       "      <th>630</th>\n",
       "      <td>631</td>\n",
       "      <td>1</td>\n",
       "      <td>1</td>\n",
       "      <td>Barkworth, Mr. Algernon Henry Wilson</td>\n",
       "      <td>male</td>\n",
       "      <td>80.0</td>\n",
       "      <td>27042</td>\n",
       "      <td>30.000</td>\n",
       "      <td>A23</td>\n",
       "      <td>S</td>\n",
       "    </tr>\n",
       "    <tr>\n",
       "      <th>851</th>\n",
       "      <td>852</td>\n",
       "      <td>0</td>\n",
       "      <td>3</td>\n",
       "      <td>Svensson, Mr. Johan</td>\n",
       "      <td>male</td>\n",
       "      <td>74.0</td>\n",
       "      <td>347060</td>\n",
       "      <td>7.775</td>\n",
       "      <td>NaN</td>\n",
       "      <td>S</td>\n",
       "    </tr>\n",
       "  </tbody>\n",
       "</table>\n",
       "</div>"
      ],
      "text/plain": [
       "     PassengerId  Survived  Pclass                                  Name  \\\n",
       "630          631         1       1  Barkworth, Mr. Algernon Henry Wilson   \n",
       "851          852         0       3                   Svensson, Mr. Johan   \n",
       "\n",
       "      Sex   Age  Ticket    Fare Cabin Embarked  \n",
       "630  male  80.0   27042  30.000   A23        S  \n",
       "851  male  74.0  347060   7.775   NaN        S  "
      ]
     },
     "execution_count": 40,
     "metadata": {},
     "output_type": "execute_result"
    }
   ],
   "source": [
    "# Select passengers who embarked in Southampton and were above age 70\n",
    "df.query('Embarked == \"S\" & Age > 70')"
   ]
  },
  {
   "cell_type": "markdown",
   "metadata": {},
   "source": [
    "<div class=\"alert alert-info\">\n",
    "<h3> Your turn</h3>\n",
    "Load the Titanic passenger data set <TT>data/titanic.csv</TT> and select the following subsets of data:\n",
    "<ol>\n",
    "    <li>Select all passengers with passenger IDs from 10 to 20</li>\n",
    "    <li>Select the 10th to 20th (inclusive) row of the dataframe</li>\n",
    "    <li>Using <TT>query()</TT>, select the sub-sample of female passengers aged 30 to 40. Display only the columns <TT>Name</TT>, <TT>Age</TT>, and <TT>Sex</TT> (in that order)</li>\n",
    "    <li>Repeat the last exercise without using <TT>query()</TT></li>\n",
    "    <li>Select all men who embarked in Queenstown or Cherbourg</li>\n",
    "</ol>\n",
    "</div>"
   ]
  },
  {
   "cell_type": "markdown",
   "metadata": {},
   "source": [
    "***\n",
    "## Working with time series data\n",
    "\n",
    "In economics and finance, we frequently work with time series data, i.e., observations that are associated with a particular point in time (time stamp) or a time period. pandas offers comprehensive support for such data, in particular if the time stamp or time period is used as the index of a `Series` or `DataFrame`.\n",
    "This section presents a few of the most important concepts, see the official [documentation](https://pandas.pydata.org/docs/user_guide/timeseries.html) for a comprehensive guide.\n",
    "\n",
    "To illustrate, let's construct a set of daily data for the first three months of 2024, i.e., the period 2024-01-01 to 2024-03-31 using the \n",
    "[`date_range()`](https://pandas.pydata.org/docs/reference/api/pandas.date_range.html) function\n",
    "(we use the date format `YYYY-MM-DD` in this section, but pandas also supports other date formats)."
   ]
  },
  {
   "cell_type": "code",
   "execution_count": 41,
   "metadata": {},
   "outputs": [
    {
     "data": {
      "text/plain": [
       "2024-01-01    0\n",
       "2024-01-02    1\n",
       "2024-01-03    2\n",
       "2024-01-04    3\n",
       "2024-01-05    4\n",
       "Freq: D, dtype: int64"
      ]
     },
     "execution_count": 41,
     "metadata": {},
     "output_type": "execute_result"
    }
   ],
   "source": [
    "import pandas as pd\n",
    "import numpy as np\n",
    "\n",
    "# Create sequence of dates from 2024-01-01 to 2024-03-31\n",
    "# at daily frequency\n",
    "index = pd.date_range(start=\"2024-01-01\", end=\"2024-03-31\", freq=\"D\")\n",
    "\n",
    "# Use date range as index for Series with some artificial data\n",
    "data = pd.Series(np.arange(len(index)), index=index)\n",
    "\n",
    "# Print first 5 observations\n",
    "data.head(5)"
   ]
  },
  {
   "cell_type": "markdown",
   "metadata": {},
   "source": [
    "### Indexing with date/time indices\n",
    "\n",
    "pandas implements several convenient ways to select observations associated with a particular date or a set of dates. For example, if we want to select one specific date, we can pass it as a string to `.loc[]`:"
   ]
  },
  {
   "cell_type": "code",
   "execution_count": 42,
   "metadata": {},
   "outputs": [
    {
     "data": {
      "text/plain": [
       "np.int64(0)"
      ]
     },
     "execution_count": 42,
     "metadata": {},
     "output_type": "execute_result"
    }
   ],
   "source": [
    "# Select single observation by date\n",
    "data.loc[\"2024-01-01\"]"
   ]
  },
  {
   "cell_type": "markdown",
   "metadata": {},
   "source": [
    "It is also possible to select a time period by passing a start and end point (where the end point is included, as usual with label-based indexing in pandas):"
   ]
  },
  {
   "cell_type": "code",
   "execution_count": 43,
   "metadata": {},
   "outputs": [
    {
     "data": {
      "text/plain": [
       "2024-01-01    0\n",
       "2024-01-02    1\n",
       "2024-01-03    2\n",
       "2024-01-04    3\n",
       "2024-01-05    4\n",
       "Freq: D, dtype: int64"
      ]
     },
     "execution_count": 43,
     "metadata": {},
     "output_type": "execute_result"
    }
   ],
   "source": [
    "# Select first 5 days\n",
    "data.loc[\"2024-01-01\":\"2024-01-05\"]"
   ]
  },
  {
   "cell_type": "markdown",
   "metadata": {},
   "source": [
    "A particularly useful way to index time periods is a to pass a partial index. For example, if we want to select all observations from January 2024, we could use the range `'2024-01-01':'2024-01-31'`, but it is much easier to specify the partial index `'2024-01'` instead which includes all observations from January."
   ]
  },
  {
   "cell_type": "code",
   "execution_count": 44,
   "metadata": {},
   "outputs": [
    {
     "data": {
      "text/plain": [
       "2024-01-01     0\n",
       "2024-01-02     1\n",
       "2024-01-03     2\n",
       "2024-01-04     3\n",
       "2024-01-05     4\n",
       "              ..\n",
       "2024-01-27    26\n",
       "2024-01-28    27\n",
       "2024-01-29    28\n",
       "2024-01-30    29\n",
       "2024-01-31    30\n",
       "Freq: D, Length: 31, dtype: int64"
      ]
     },
     "execution_count": 44,
     "metadata": {},
     "output_type": "execute_result"
    }
   ],
   "source": [
    "# Select all observations from January 2024\n",
    "data.loc[\"2024-01\"]"
   ]
  },
  {
   "cell_type": "markdown",
   "metadata": {},
   "source": [
    "### Lags, differences, and other useful transformations\n",
    "\n",
    "When working with time series data, we often need to create lags or leads of a variable (e.g., if we want to include lagged values in a regression model). In pandas, this is done using \n",
    "[`shift()`](https://pandas.pydata.org/pandas-docs/stable/reference/api/pandas.DataFrame.shift.html)\n",
    "which shifts the index by the desired number of periods (default: 1). For example, invoking\n",
    "`shift(1)` creates lagged observations of each column in the `DataFrame`:"
   ]
  },
  {
   "cell_type": "code",
   "execution_count": 45,
   "metadata": {},
   "outputs": [
    {
     "data": {
      "text/plain": [
       "2024-01-01    NaN\n",
       "2024-01-02    0.0\n",
       "2024-01-03    1.0\n",
       "2024-01-04    2.0\n",
       "2024-01-05    3.0\n",
       "Freq: D, dtype: float64"
      ]
     },
     "execution_count": 45,
     "metadata": {},
     "output_type": "execute_result"
    }
   ],
   "source": [
    "# Lag observations by 1 period\n",
    "data.shift(1).head(5)"
   ]
  },
  {
   "cell_type": "markdown",
   "metadata": {},
   "source": [
    "We can use the \n",
    "[`diff()`](https://pandas.pydata.org/docs/reference/api/pandas.DataFrame.diff.html)\n",
    "method to compute differences over a given number of periods:"
   ]
  },
  {
   "cell_type": "code",
   "execution_count": 46,
   "metadata": {},
   "outputs": [
    {
     "data": {
      "text/plain": [
       "2024-01-01    NaN\n",
       "2024-01-02    1.0\n",
       "2024-01-03    1.0\n",
       "2024-01-04    1.0\n",
       "2024-01-05    1.0\n",
       "Freq: D, dtype: float64"
      ]
     },
     "execution_count": 46,
     "metadata": {},
     "output_type": "execute_result"
    }
   ],
   "source": [
    "# Compute difference between consecutive observations\n",
    "data.diff(1).head(5)"
   ]
  },
  {
   "cell_type": "markdown",
   "metadata": {},
   "source": [
    "Note that `diff()` is identical to manually computing the difference with the lagged value like this:\n",
    "\n",
    "```python\n",
    "data - data.shift()\n",
    "```"
   ]
  },
  {
   "cell_type": "markdown",
   "metadata": {},
   "source": [
    "Additionally, we can use \n",
    "[`pct_change()`](https://pandas.pydata.org/pandas-docs/stable/reference/api/pandas.DataFrame.pct_change.html)\n",
    "which computes the percentage change (the relative difference) over a given number of periods (default: 1)."
   ]
  },
  {
   "cell_type": "code",
   "execution_count": 47,
   "metadata": {},
   "outputs": [
    {
     "data": {
      "text/plain": [
       "2024-01-01         NaN\n",
       "2024-01-02         inf\n",
       "2024-01-03    1.000000\n",
       "2024-01-04    0.500000\n",
       "2024-01-05    0.333333\n",
       "Freq: D, dtype: float64"
      ]
     },
     "execution_count": 47,
     "metadata": {},
     "output_type": "execute_result"
    }
   ],
   "source": [
    "# Compute percentage change vs. previous period\n",
    "data.pct_change().head(5)"
   ]
  },
  {
   "cell_type": "markdown",
   "metadata": {},
   "source": [
    "Again, this is just a convenience method that is a short-cut for manually computing the percentage change:\n",
    "\n",
    "```python\n",
    "(data - data.shift()) / data.shift()\n",
    "```"
   ]
  },
  {
   "cell_type": "markdown",
   "metadata": {},
   "source": [
    "<div class=\"alert alert-info\">\n",
    "<h3> Your turn</h3>\n",
    "Use the data from the <TT>data/FRED</TT> folder to perform the following task:\n",
    "<ol>\n",
    "    <li>Read in the file <TT>FRED_annual.csv</TT> and set the column <TT>Year</TT> as the index.</li>\n",
    "    <li>Compute annual inflation as the percentage change of the consumer price index (column <tt>CPI</tt>).</li>\n",
    "</ol>\n",
    "</div>"
   ]
  },
  {
   "cell_type": "markdown",
   "metadata": {},
   "source": [
    "***\n",
    "## List of functions used in this lecture\n",
    "\n",
    "The following list contains the central functions covered in this lecture. Each function name is linked to the official API documentation which you can consult for more details regarding function arguments and return values. The [[go to section]]() links to the relevant section in this notebook."
   ]
  },
  {
   "cell_type": "markdown",
   "metadata": {},
   "source": [
    "\n",
    "### Creating pandas containers from existing data\n",
    "\n",
    "-   [`pd.Series()`](https://pandas.pydata.org/docs/reference/series.html) —\n",
    "    create a series containing observations of one variable [[go to section]](#creating-pandas-data-structures)\n",
    "-  [`pd.DataFrame()`](https://pandas.pydata.org/docs/reference/frame.html) —\n",
    "    create a DataFrame containing observations of multiple variables [[go to section]](#creating-pandas-data-structures)"
   ]
  },
  {
   "cell_type": "markdown",
   "metadata": {},
   "source": [
    "### Loading existing data\n",
    "\n",
    "-   [`pd.read_csv()`](https://pandas.pydata.org/pandas-docs/stable/reference/api/pandas.read_csv.html) —\n",
    "    read CSV text file [[go to section]](#loading-data-with-pandas)\n",
    "-   [`pd.read_excel()`](https://pandas.pydata.org/pandas-docs/stable/reference/api/pandas.read_excel.html) —\n",
    "    read Excel file [[go to section]](#loading-data-with-pandas)"
   ]
  },
  {
   "cell_type": "markdown",
   "metadata": {},
   "source": [
    "### Inspecting data\n",
    "\n",
    "- [`info()`](https://pandas.pydata.org/docs/reference/api/pandas.DataFrame.info.html) — \n",
    "    print information about observation count, columns, and data types [[go to section]](#viewing-data)\n",
    "- [`head()`](https://pandas.pydata.org/docs/reference/api/pandas.DataFrame.head.html) — \n",
    "    print first few rows [[go to section]](#viewing-data)\n",
    "- [`tail()`](https://pandas.pydata.org/docs/reference/api/pandas.DataFrame.tail.html) — \n",
    "    print last few rows [[go to section]](#viewing-data)\n",
    "- [`describe()`](https://pandas.pydata.org/docs/reference/api/pandas.DataFrame.describe.html) — \n",
    "    print summary statistics for *numerical* data [[go to section]](#viewing-data)\n",
    "- [`value_counts()`](https://pandas.pydata.org/docs/reference/api/pandas.DataFrame.value_counts.html) — \n",
    "    tabulate observation counts for categorical data [[go to section]](#viewing-data)\n"
   ]
  },
  {
   "cell_type": "markdown",
   "metadata": {},
   "source": [
    "### Manipulating the index\n",
    "\n",
    "-   [`pd.Series(..., index=...)`](https://pandas.pydata.org/docs/reference/series.html) —\n",
    "    create Series with a custom index [[go to section]](#creating-custom-indices)\n",
    "-   [`pd.DataFrame(..., index=...)`](https://pandas.pydata.org/docs/reference/frame.html) —\n",
    "    create DataFrame with a custom index [[go to section]](#creating-custom-indices)\n",
    "-   [`set_index()`](https://pandas.pydata.org/docs/reference/api/pandas.DataFrame.set_index.html) —\n",
    "    set existing columns as the index [[go to section]](#manipulating-indices)\n",
    "-   [`reset_index()`](https://pandas.pydata.org/docs/reference/api/pandas.DataFrame.reset_index.html) —\n",
    "    reset index to default value [[go to section]](#manipulating-indices)\n",
    "\n",
    "\n"
   ]
  },
  {
   "cell_type": "markdown",
   "metadata": {},
   "source": [
    "### Selecting observations\n",
    "\n",
    "-   [`loc[]`](https://pandas.pydata.org/docs/reference/api/pandas.DataFrame.loc.html) —\n",
    "    select elements by *label* (values of the index) [[go to section]](#selection-by-label)\n",
    "-   [`iloc[]`](https://pandas.pydata.org/docs/reference/api/pandas.DataFrame.iloc.html) —\n",
    "    select elements by *position* [[go to section]](#selection-by-position)\n",
    "-   [`isin()`](https://pandas.pydata.org/docs/reference/api/pandas.DataFrame.isin.html) —\n",
    "    return whether elements are contained in a set of values [[go to section]](#boolean-indexing)\n",
    "-   [`query()`](https://pandas.pydata.org/docs/reference/api/pandas.DataFrame.query.html) —\n",
    "    select subset of observations according to some criteria [[go to section]](#boolean-indexing)"
   ]
  },
  {
   "cell_type": "markdown",
   "metadata": {},
   "source": [
    "### Time series\n",
    "\n",
    "-   [`date_range()`](https://pandas.pydata.org/docs/reference/api/pandas.date_range.html) —\n",
    "    create sequence of dates [[go to section]](#working-with-time-series-data)\n",
    "-   [`shift()`](https://pandas.pydata.org/pandas-docs/stable/reference/api/pandas.DataFrame.shift.html) —\n",
    "    shift the index by desired number of observations or time periods [[go to section]](#lags-differences-and-other-useful-transformations)\n",
    "-   [`diff()`](https://pandas.pydata.org/docs/reference/api/pandas.DataFrame.diff.html) —\n",
    "    calculate *absolute* difference vs. a previous/next element [[go to section]](#lags-differences-and-other-useful-transformations)\n",
    "-   [`pct_change()`](https://pandas.pydata.org/pandas-docs/stable/reference/api/pandas.DataFrame.pct_change.html) —\n",
    "    calculate *relative* difference vs. a previous/next element [[go to section]](#lags-differences-and-other-useful-transformations)"
   ]
  }
 ],
 "metadata": {
  "kernelspec": {
   "display_name": "TECH2",
   "language": "python",
   "name": "python3"
  },
  "language_info": {
   "codemirror_mode": {
    "name": "ipython",
    "version": 3
   },
   "file_extension": ".py",
   "mimetype": "text/x-python",
   "name": "python",
   "nbconvert_exporter": "python",
   "pygments_lexer": "ipython3",
   "version": "3.13.5"
  }
 },
 "nbformat": 4,
 "nbformat_minor": 0
}
