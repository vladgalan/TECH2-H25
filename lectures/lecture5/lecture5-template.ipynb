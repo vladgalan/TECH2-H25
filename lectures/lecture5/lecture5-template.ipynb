{
 "cells": [
  {
   "cell_type": "markdown",
   "metadata": {},
   "source": [
    "***\n",
    "# Concatenating and merging data\n",
    "\n",
    "Combine several `Series` or `DataFrame` objects:\n",
    "\n",
    "1. [`pd.concat()`](https://pandas.pydata.org/docs/reference/api/pandas.concat.html): combine multiple Series/DataFrames by appending observations (rows) or columns.\n",
    "2. [`pd.merge()`](https://pandas.pydata.org/docs/reference/api/pandas.merge.html): match observations from one Series/DataFrame with observations from another Series/DataFrame and combine these into a _merged_ DataFrame."
   ]
  },
  {
   "cell_type": "markdown",
   "metadata": {},
   "source": [
    "***\n",
    "## Concatenation"
   ]
  },
  {
   "cell_type": "markdown",
   "metadata": {},
   "source": [
    "### Concatenating Series"
   ]
  },
  {
   "cell_type": "code",
   "execution_count": null,
   "metadata": {},
   "outputs": [],
   "source": [
    "# Create demo series\n",
    "import pandas as pd \n",
    "\n",
    "a = pd.Series(['A1', 'A2', 'A3'])\n",
    "b = pd.Series([f'B{i}' for i in range(5)])"
   ]
  },
  {
   "cell_type": "markdown",
   "metadata": {},
   "source": [
    "*Example: Concatenating two Series along the row axis*\n",
    "\n",
    "-   Use [`pd.concat()`](https://pandas.pydata.org/docs/reference/api/pandas.concat.html)\n",
    "-   Optionally specify `axis=0` (the default)\n",
    "-   Might need to reset index of result object\n",
    "-   Index can be reset automatically by specifying `ignore_index=True`"
   ]
  },
  {
   "cell_type": "markdown",
   "metadata": {},
   "source": [
    "*Example: Concatenating along the column axis*\n",
    "\n",
    "-   Need to specify `axis=1` argument\n",
    "-   Use `keys` to specify column names"
   ]
  },
  {
   "cell_type": "markdown",
   "metadata": {},
   "source": [
    "<div class=\"alert alert-info\">\n",
    "<h3> Your turn</h3>\n",
    "<ol>\n",
    "    <li>Create a new <TT>Series</TT> with observations <TT>['C1', 'C2']</TT>.</li>\n",
    "    <li>Using the previously created <TT>Series</TT> <TT>a</TT> and <TT>b</TT>, concatenate all three objects along the row axis and create a new (unique) index.</li>\n",
    "    <li>Repeat the previous step, but now concatenate along the column axis. Assign the column names <TT>'Column1'</TT>, <TT>'Column2'</TT>, and <TT>'Column3'</TT>.</li>\n",
    "</ol>\n",
    "</div>"
   ]
  },
  {
   "cell_type": "markdown",
   "metadata": {},
   "source": [
    "### Concatenating DataFrames"
   ]
  },
  {
   "cell_type": "code",
   "execution_count": null,
   "metadata": {},
   "outputs": [],
   "source": [
    "# Create demo DataFrames\n",
    "\n",
    "import pandas as pd\n",
    "import numpy as np\n",
    "\n",
    "# Create 2 x 2 DataFrame of string data\n",
    "df_a = pd.DataFrame(np.array([f'A{i}' for i in range(4)]).reshape((2, 2)))\n",
    "\n",
    "# Create 2 x 3 DataFrame of string data\n",
    "df_b = pd.DataFrame(np.array([f'B{i}' for i in range(6)]).reshape((2, 3)))"
   ]
  },
  {
   "cell_type": "markdown",
   "metadata": {},
   "source": [
    "#### Concatenating along the column axis"
   ]
  },
  {
   "cell_type": "markdown",
   "metadata": {},
   "source": [
    "*Example: Concatenating two DataFrames along the column axis*"
   ]
  },
  {
   "cell_type": "markdown",
   "metadata": {},
   "source": [
    "-   Might need to reset non-unique column index (or specify `ignore_index=True`)\n",
    "-   Use `keys` argument to `concat()` to add outer level to column index"
   ]
  },
  {
   "cell_type": "markdown",
   "metadata": {},
   "source": [
    "#### Concatenating along the row axis"
   ]
  },
  {
   "cell_type": "markdown",
   "metadata": {},
   "source": [
    "*Example: Concatenating rows with identical columns*"
   ]
  },
  {
   "cell_type": "markdown",
   "metadata": {},
   "source": [
    "*Example: Concatenating rows with different columns*"
   ]
  },
  {
   "cell_type": "markdown",
   "metadata": {},
   "source": [
    "<div class=\"alert alert-info\">\n",
    "<h3> Your turn</h3>\n",
    "Use the data files located in the folder <TT>../../data/FRED</TT> to perform the following tasks:\n",
    "<ol>\n",
    "    <li>Load the data in <TT>FRED_monthly_1950.csv</TT> and <TT>FRED_monthly_1960.csv</TT> into two different DataFrames.\n",
    "        The files contain monthly macroeconomic time series for the 1950s and 1960s, respectively.\n",
    "        <p>\n",
    "        <i>Hint:</i> Use <TT>pd.read_csv(..., parse_dates=['DATE'])</TT> to automatically parse strings stored in the <TT>DATE</TT> column as dates.\n",
    "        </p>\n",
    "        </li>\n",
    "    <li>Concatenate these DataFrames along the row dimension to get a total of 240 observations.</li>\n",
    "    <li>Set the column <TT>DATE</TT> as index for the newly created DataFrame.</li>\n",
    "</ol>\n",
    "</div>"
   ]
  },
  {
   "cell_type": "code",
   "execution_count": null,
   "metadata": {},
   "outputs": [],
   "source": [
    "# Read in data used for mini-exercise\n",
    "\n",
    "# Relative path to data directory\n",
    "DATA_PATH = '../../data'\n",
    "\n",
    "# Read in FRED data for 1950s and 1960s\n",
    "df_1950 = pd.read_csv(f'{DATA_PATH}/FRED/FRED_monthly_1950.csv', parse_dates=['DATE'])\n",
    "df_1960 = pd.read_csv(f'{DATA_PATH}/FRED/FRED_monthly_1960.csv', parse_dates=['DATE'])"
   ]
  },
  {
   "cell_type": "markdown",
   "metadata": {},
   "source": [
    "***\n",
    "## Merging and joining data sets"
   ]
  },
  {
   "cell_type": "markdown",
   "metadata": {},
   "source": [
    "### Types of merges\n",
    "\n",
    "We can merge DataFrames `A` and `B` in various ways:\n",
    "\n",
    "1.  *one-to-one*: Unique keys in `A` and `B`\n",
    "2.  *many-to-one*: Unique keys in `A`, mapped to multiple keys in `B`\n",
    "3.  *many-to-many*: Multiple keys in both `A` mapping to multiple keys in `B` (avoid this)"
   ]
  },
  {
   "cell_type": "markdown",
   "metadata": {},
   "source": [
    "### Implementation in pandas\n",
    "\n",
    "1.  [`pd.merge()`](https://pandas.pydata.org/docs/reference/api/pandas.merge.html): function that takes as argument the *two* DataFrames to be merged,\n",
    "    e.g.,\n",
    "    \n",
    "    ```python\n",
    "    result = pd.merge(df_A, df_B)\n",
    "    ```\n",
    "2.  [`df.merge()`](https://pandas.pydata.org/docs/reference/api/pandas.DataFrame.merge.html): method of a specific `DataFrame` object, takes the other `DataFrame` as argument, e.g.,\n",
    "    \n",
    "    ```python\n",
    "    result = df_A.merge(df_B)\n",
    "    ```\n"
   ]
  },
  {
   "cell_type": "markdown",
   "metadata": {},
   "source": [
    "### Controlling the resulting data set\n",
    "\n",
    "Merge methods (controlled by `how` argument to `merge()`):\n",
    "\n",
    "1.  `how='inner'` (_inner join_): _intersection_ of keys that are present in _both_ data sets\n",
    "2.  `how='outer'` (_outer join_): _union_ of keys present in either of the data sets\n",
    "3.  `how='left'` (_left join_): all identifiers from the _left_ data set are in the result\n",
    "4.  `how='right'` (_right join_): all identifiers from the _right_ data set are in the result\n",
    "\n",
    "Illustration: Each circle represents the keys present in the left (`df1`) or right (`df2`) DataFrames. The merge method controls which subset of keys is retained in the merge result."
   ]
  },
  {
   "cell_type": "markdown",
   "metadata": {},
   "source": [
    "![Join types](join-methods.png)"
   ]
  },
  {
   "cell_type": "markdown",
   "metadata": {},
   "source": [
    "***\n",
    "### Merging with `merge()`"
   ]
  },
  {
   "cell_type": "markdown",
   "metadata": {},
   "source": [
    "#### One-to-one merges"
   ]
  },
  {
   "cell_type": "code",
   "execution_count": null,
   "metadata": {},
   "outputs": [],
   "source": [
    "# Create first DataFrame with 2 rows\n",
    "df_a = pd.DataFrame({'key': [0, 1], 'value_a': ['A0', 'A1']})\n",
    "\n",
    "# Create second DataFrame with 2 rows\n",
    "df_b = pd.DataFrame({'key': [1, 2], 'value_b': ['B1', 'B2']})"
   ]
  },
  {
   "cell_type": "markdown",
   "metadata": {},
   "source": [
    "*Example: inner join*\n",
    "\n",
    "-   By default, `pd.merge()` performs inner join on all overlapping columns\n",
    "-   Argument `on` controls on which columns to match (default: use all overlapping columns)\n",
    "-   Argument `how` controls which rows to keep in result\n"
   ]
  },
  {
   "cell_type": "markdown",
   "metadata": {},
   "source": [
    "*Example: outer, left, and right join*\n",
    "\n",
    "-   Specify `how='outer'`, `how='left'`, `how='right'`"
   ]
  },
  {
   "cell_type": "markdown",
   "metadata": {},
   "source": [
    "<div class=\"alert alert-info\">\n",
    "<h3> Your turn</h3>\n",
    "Use the data files located in the folder <TT>../../data/FRED</TT> to perform the following tasks:\n",
    "<ol>\n",
    "    <li>Load the data in <TT>CPI.csv</TT> and <TT>GDP.csv</TT> into two different DataFrames.\n",
    "        The files contain monthly data for the Consumer Price Index (CPI) and quarterly data for GDP, respectively.\n",
    "        <p>\n",
    "        <i>Hint:</i> Use <TT>pd.read_csv(..., parse_dates=['DATE'])</TT> to automatically parse strings stored in the <TT>DATE</TT> column as dates.\n",
    "        </p>\n",
    "    </li>\n",
    "    <li>Merge the CPI and the GDP time series with \n",
    "    <a href=\"https://pandas.pydata.org/docs/reference/api/pandas.merge.html\"><TT>pd.merge()</TT></a> \n",
    "    without specifying the <TT>how=</TT> argument.</li>\n",
    "    <li>Merge the CPI and the GDP time series with <TT>pd.merge()</TT>\n",
    "    using a left join (<TT>how='left'</TT>).</li>\n",
    "    <li>Merge the CPI and the GDP time series with <TT>pd.merge()</TT> using an inner join (<TT>how='inner'</TT>).</li>\n",
    "</ol>\n",
    "How do the results differ depending on the value of the <TT>how</TT> argument?\n",
    "</div>"
   ]
  },
  {
   "cell_type": "code",
   "execution_count": null,
   "metadata": {},
   "outputs": [],
   "source": [
    "# Data used for mini-exercise\n",
    "df_cpi = pd.read_csv(f'{DATA_PATH}/FRED/CPI.csv', parse_dates=['DATE'])\n",
    "df_gdp = pd.read_csv(f'{DATA_PATH}/FRED/GDP.csv', parse_dates=['DATE'])"
   ]
  },
  {
   "cell_type": "markdown",
   "metadata": {},
   "source": [
    "#### Many-to-one merges"
   ]
  },
  {
   "cell_type": "markdown",
   "metadata": {},
   "source": [
    "*Example: merge unique values in `df_b` to multiple values in `df_a`*"
   ]
  },
  {
   "cell_type": "code",
   "execution_count": null,
   "metadata": {},
   "outputs": [],
   "source": [
    "# Create first DataFrame with 4 rows, non-unique key\n",
    "df_a = pd.DataFrame({'key': [0, 1, 0, 1], 'value_a': ['A0', 'A1', 'A2', 'A3']})\n",
    "\n",
    "# Create second DataFrame with 2 rows, unique key\n",
    "df_b = pd.DataFrame({'key': [0, 1], 'value_b': ['B0', 'B1']})"
   ]
  },
  {
   "cell_type": "markdown",
   "metadata": {},
   "source": [
    "***\n",
    "### Merging with `DataFrame.merge()`\n",
    "\n",
    "-   Equivalent to `pd.merge()`"
   ]
  },
  {
   "cell_type": "markdown",
   "metadata": {},
   "source": [
    "*Example: repeat one-to-one merges from above*"
   ]
  },
  {
   "cell_type": "code",
   "execution_count": null,
   "metadata": {},
   "outputs": [],
   "source": [
    "# Create first DataFrame with 2 rows\n",
    "df_a = pd.DataFrame({'key': [0, 1], 'value_a': ['A0', 'A1']})\n",
    "\n",
    "# Create second DataFrame with 2 rows\n",
    "df_b = pd.DataFrame({'key': [1, 2], 'value_b': ['B1', 'B2']})"
   ]
  },
  {
   "cell_type": "markdown",
   "metadata": {},
   "source": [
    "*Example: Merging with overlapping column names*"
   ]
  },
  {
   "cell_type": "code",
   "execution_count": null,
   "metadata": {},
   "outputs": [],
   "source": [
    "# Rename columns to common name 'value'\n",
    "df_a = df_a.rename(columns={'value_a': 'value'})\n",
    "df_b = df_b.rename(columns={'value_b': 'value'})"
   ]
  },
  {
   "cell_type": "markdown",
   "metadata": {},
   "source": [
    "<div class=\"alert alert-info\">\n",
    "<h3> Your turn</h3>\n",
    "Repeat the previous exercise, but use the <a href=\"https://pandas.pydata.org/docs/reference/api/pandas.DataFrame.merge.html\"><TT>DataFrame.merge()</TT></a> \n",
    "method to perform the merge.\n",
    "<ol>\n",
    "    <li>Load the data in <TT>CPI.csv</TT> and <TT>GDP.csv</TT> into two different DataFrames.\n",
    "        The files contain monthly data for the Consumer Price Index (CPI) and quarterly data for GDP, respectively.\n",
    "        <p>\n",
    "        <i>Hint:</i> Use <TT>pd.read_csv(..., parse_dates=['DATE'])</TT> to automatically parse strings stored in the <TT>DATE</TT> column as dates.\n",
    "        </p>\n",
    "    </li>\n",
    "    <li>Merge the DataFrame containing the CPI with the DataFrame containing GDP without specifying the <TT>how=</TT> argument.</li>\n",
    "    <li>Merge the DataFrame containing the CPI with the DataFrame containing GDP using a <i>left</i> join.</li>\n",
    "    <li>Merge the DataFrame containing the CPI with the DataFrame containing GDP using an <i>inner</i> join.</li>\n",
    "</ol>\n",
    "How do the results differ depending on the value of the <TT>how</TT> argument?\n",
    "</div>"
   ]
  },
  {
   "cell_type": "code",
   "execution_count": null,
   "metadata": {},
   "outputs": [],
   "source": [
    "# Data used for mini-exercise\n",
    "df_cpi = pd.read_csv(f'{DATA_PATH}/FRED/CPI.csv', parse_dates=['DATE'])\n",
    "df_gdp = pd.read_csv(f'{DATA_PATH}/FRED/GDP.csv', parse_dates=['DATE'])"
   ]
  },
  {
   "cell_type": "markdown",
   "metadata": {},
   "source": [
    "***\n",
    "### Joining with `join()`\n",
    "\n",
    "The `DataFrame` method \n",
    "[`join()`](https://pandas.pydata.org/docs/reference/api/pandas.DataFrame.join.html) \n",
    "is a convenience wrapper around \n",
    "[`pd.merge()`](https://pandas.pydata.org/docs/reference/api/pandas.merge.html):\n",
    "\n",
    "1.  `join()` can be called _only_ directly on the `DataFrame` object\n",
    "2.  `join()` always operates on the _index_ of the other `DataFrame`\n",
    "3.  `join()` by default performs a `left` join, whereas `merge()` performs an `inner` join\n",
    "\n",
    "Use `join()` if you want to join DataFrames which have a similar index."
   ]
  },
  {
   "cell_type": "markdown",
   "metadata": {},
   "source": [
    "*Example: joining DataFrames*"
   ]
  },
  {
   "cell_type": "code",
   "execution_count": null,
   "metadata": {},
   "outputs": [],
   "source": [
    "# Create first DataFrame with 2 rows\n",
    "df_a = pd.DataFrame(['A0', 'A1'], columns=['value_a'], index=[0, 1])\n",
    "\n",
    "# Create second DataFrame with 2 rows\n",
    "df_b = pd.DataFrame(['B1', 'B2'], columns=['value_b'], index=[1, 2])"
   ]
  },
  {
   "cell_type": "markdown",
   "metadata": {},
   "source": [
    "<div class=\"alert alert-info\">\n",
    "<h3> Your turn</h3>\n",
    "Use the data files located in the folder <TT>../../data/FRED</TT> to perform the following tasks:\n",
    "<ol>\n",
    "    <li>Load the data in <TT>CPI.csv</TT> and <TT>GDP.csv</TT> into two different DataFrames.\n",
    "        The files contain monthly data for the Consumer Price Index (CPI) and quarterly data for GDP, respectively.\n",
    "        <br/>\n",
    "        <i>Hint:</i> Use <TT>pd.read_csv(..., parse_dates=['DATE'])</TT> to automatically parse strings stored in the <TT>DATE</TT> column as dates.\n",
    "        </li>\n",
    "    <li>Set the <TT>DATE</TT> column as the index for each of the two DataFrames.</li>\n",
    "    <li>Merge the CPI with the GDP time series with \n",
    "    <a href=\"https://pandas.pydata.org/docs/reference/api/pandas.DataFrame.join.html\"><TT>join()</TT></a>. \n",
    "    Do this with both a left and an inner join.</li>\n",
    "</ol>\n",
    "</div>"
   ]
  },
  {
   "cell_type": "code",
   "execution_count": null,
   "metadata": {},
   "outputs": [],
   "source": [
    "# Data used for mini-exercise\n",
    "df_cpi = pd.read_csv(f'{DATA_PATH}/FRED/CPI.csv', parse_dates=['DATE'])\n",
    "df_gdp = pd.read_csv(f'{DATA_PATH}/FRED/GDP.csv', parse_dates=['DATE'])"
   ]
  },
  {
   "cell_type": "markdown",
   "metadata": {},
   "source": [
    "***\n",
    "# Dealing with missing values\n",
    "\n",
    "-   Often created as result of `pd.merge()` or `pd.concat()` if operands don't have the same row or column index"
   ]
  },
  {
   "cell_type": "code",
   "execution_count": null,
   "metadata": {},
   "outputs": [],
   "source": [
    "# Create two DataFrames with partially overlapping keys\n",
    "df_a = pd.DataFrame({'key': [0, 1], 'value_a': ['A0', 'A1']})\n",
    "df_b = pd.DataFrame({'key': [1, 2], 'value_b': ['B1', 'B2']})\n",
    "\n",
    "# Merge with outer join, thus creating missing values\n",
    "pd.merge(df_a, df_b, on='key', how='outer')"
   ]
  },
  {
   "cell_type": "markdown",
   "metadata": {},
   "source": [
    "## Dropping missing values\n",
    "\n",
    "Missing values can be dropped by either\n",
    "\n",
    "1.  Using [`dropna()`](https://pandas.pydata.org/docs/reference/api/pandas.DataFrame.dropna.html)\n",
    "2.  Selecting a subset of observations with a boolean operation such as \n",
    "    [`notna()`](https://pandas.pydata.org/docs/reference/api/pandas.DataFrame.notna.html) or \n",
    "    [`isna()`](https://pandas.pydata.org/docs/reference/api/pandas.DataFrame.isna.html).\n",
    "2. Avoiding the missing values in the first place, e.g., by using `merge(..., how='inner')`."
   ]
  },
  {
   "cell_type": "markdown",
   "metadata": {},
   "source": [
    "*Example: Dropping missing values*\n",
    "\n",
    "- Use _outer/left/right join_ and drop missing data with `dropna()`"
   ]
  },
  {
   "cell_type": "markdown",
   "metadata": {},
   "source": [
    "<div class=\"alert alert-info\">\n",
    "<h3> Your turn</h3>\n",
    "Instead of using <TT>dropna()</TT>, drop the missing observations using either <TT>notna()</TT> or <TT>isna()</TT>.\n",
    "<ol>\n",
    "    <li>Drop all rows with any missing observations.</li>\n",
    "    <li>Drop all rows with missing observations in column <TT>value_a</TT>.</li>\n",
    "</ol>\n",
    "</div>"
   ]
  },
  {
   "cell_type": "markdown",
   "metadata": {},
   "source": [
    "*Example: Avoiding missing values in the first place*\n",
    "\n",
    "- E.g., use _inner join_ when merging data sets"
   ]
  },
  {
   "cell_type": "markdown",
   "metadata": {},
   "source": [
    "## Filling missing values\n",
    "\n",
    "Instead of dropping data, we can impute missing values in various ways:\n",
    "\n",
    "1.  [`fillna()`](https://pandas.pydata.org/docs/reference/api/pandas.DataFrame.fillna.html): replace missing data with user-specified values\n",
    "2.  [`ffill()`](https://pandas.pydata.org/docs/reference/api/pandas.DataFrame.ffill.html) and \n",
    "    [`bfill()`](https://pandas.pydata.org/docs/reference/api/pandas.DataFrame.bfill.html): fill missing values\n",
    "    forward or backward from adjacent non-missing observations\n",
    "3.  [`interpolate()`](https://pandas.pydata.org/docs/reference/api/pandas.DataFrame.interpolate.html): interpolate missing values based on non-missing ones"
   ]
  },
  {
   "cell_type": "markdown",
   "metadata": {},
   "source": [
    "*Example: Replacing missing values with `fillna()`*\n",
    "\n",
    "- Specify one value for _entire_ `DataFrame`\n",
    "- Specify different value for each column using a dictionary"
   ]
  },
  {
   "cell_type": "markdown",
   "metadata": {},
   "source": [
    "*Example: forward- or backward-filling missing values*\n",
    "\n",
    "- Use [`ffill()`](https://pandas.pydata.org/docs/reference/api/pandas.DataFrame.ffill.html) to forward-fill\n",
    "- Use [`bfill()`](https://pandas.pydata.org/docs/reference/api/pandas.DataFrame.bfill.html) to backward-fill"
   ]
  },
  {
   "cell_type": "markdown",
   "metadata": {},
   "source": [
    "*Example: linear interpolation*\n",
    "\n",
    "- Use [`interpolate()`](https://pandas.pydata.org/docs/reference/api/pandas.Series.interpolate.html) to interpolate missing _numerical_ data (e.g., `method='linear'`)"
   ]
  },
  {
   "cell_type": "code",
   "execution_count": null,
   "metadata": {},
   "outputs": [],
   "source": [
    "s = pd.Series([1.0, 2.0, 3.0, np.nan, 5.0])"
   ]
  },
  {
   "cell_type": "markdown",
   "metadata": {},
   "source": [
    "<div class=\"alert alert-info\">\n",
    "<h3> Your turn</h3>\n",
    "Use the data files located in the folder <TT>../../data/FRED</TT> to perform the following tasks:\n",
    "<ol>\n",
    "    <li>Load the data in <TT>CPI.csv</TT> and <TT>GDP.csv</TT> into two different DataFrames.\n",
    "        The files contain monthly data for the Consumer Price Index (CPI) and quarterly data for GDP, respectively.\n",
    "        <br/>\n",
    "        <i>Hint:</i> Use <TT>pd.read_csv(..., parse_dates=['DATE'])</TT> to automatically parse strings stored in the <TT>DATE</TT> column as dates.\n",
    "        </li>\n",
    "    <li>Merge the CPI with the GDP time series with <TT>merge()</TT> using a left join. This creates missing values in the <TT>GDP</TT>\n",
    "    column.</li>\n",
    "    <li>Impute the missing GDP values using <a href=\"https://pandas.pydata.org/docs/reference/api/pandas.Series.interpolate.html\"><TT>interpolate()</TT></a> \n",
    "    and replace the missing values in column <TT>GDP</TT>.</li>\n",
    "</ol>\n",
    "</div>"
   ]
  }
 ],
 "metadata": {
  "kernelspec": {
   "display_name": "TECH2",
   "language": "python",
   "name": "python3"
  },
  "language_info": {
   "codemirror_mode": {
    "name": "ipython",
    "version": 3
   },
   "file_extension": ".py",
   "mimetype": "text/x-python",
   "name": "python",
   "nbconvert_exporter": "python",
   "pygments_lexer": "ipython3",
   "version": "3.13.5"
  }
 },
 "nbformat": 4,
 "nbformat_minor": 0
}
