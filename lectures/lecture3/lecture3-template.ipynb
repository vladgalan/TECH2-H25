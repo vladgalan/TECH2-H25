{
 "cells": [
  {
   "attachments": {},
   "cell_type": "markdown",
   "metadata": {
    "collapsed": true,
    "pycharm": {
     "name": "#%% md\n"
    }
   },
   "source": [
    "***\n",
    "# Plotting with Matplotlib\n",
    "\n",
    "- Matplotlib is the standard plotting library for Python\n",
    "- Not part of core Python, needs to be installed (e.g., via Anaconda) and imported:\n",
    "\n",
    "    ```python\n",
    "    import matplotlib.pyplot as plt\n",
    "    ```\n",
    "- Higher-level alternative: [seaborn](https://seaborn.pydata.org/)"
   ]
  },
  {
   "attachments": {},
   "cell_type": "markdown",
   "metadata": {
    "pycharm": {
     "name": "#%% md\n"
    }
   },
   "source": [
    "***\n",
    "## Line plots\n",
    "\n",
    "### Plot single lines\n",
    "\n",
    "- Use [`plot()`](https://matplotlib.org/stable/api/_as_gen/matplotlib.pyplot.plot.html)"
   ]
  },
  {
   "cell_type": "markdown",
   "metadata": {},
   "source": [
    "*Example: plotting a single line*"
   ]
  },
  {
   "cell_type": "markdown",
   "metadata": {},
   "source": [
    "<div class=\"alert alert-info\">\n",
    "<h3> Your turn</h3>\n",
    "\n",
    "Plot the quadratic function <i>y = x<sup>2</sup></i> on the interval [-1, 1]:\n",
    "<ol>\n",
    "    <li>Create a grid of 50 <i>x</i>-values using <a href=\"https://numpy.org/doc/stable/reference/generated/numpy.linspace.html\"><tt>np.linspace()</tt></a>.</li>\n",
    "    <li>Compute the corresponding <i>y</i>-values and plot them.</li>\n",
    "</ol>\n",
    "</div>"
   ]
  },
  {
   "cell_type": "markdown",
   "metadata": {},
   "source": [
    "### Ploting multiple lines & plot styles"
   ]
  },
  {
   "attachments": {},
   "cell_type": "markdown",
   "metadata": {
    "pycharm": {
     "name": "#%% md\n"
    }
   },
   "source": [
    "*Main colors*\n",
    "(see [here](https://matplotlib.org/stable/tutorials/colors/colors.html) for details,\n",
    "    see [here](https://matplotlib.org/stable/gallery/color/named_colors.html#base-colors) for list of named colors):\n",
    "\n",
    "- `b`: blue\n",
    "- `g`: green\n",
    "- `r`: red\n",
    "- `c`: cyan\n",
    "- `m`: magenta\n",
    "- `y`: yellow\n",
    "- `k`: black\n",
    "- `w`: white\n",
    "\n",
    "*Line styles:*\n",
    "\n",
    "-   `-` solid line\n",
    "-   `--` dashed line\n",
    "-   `-.` dash-dotted line\n",
    "-   `:` dotted line\n",
    "\n",
    "*Marker styles ([complete list](https://matplotlib.org/stable/api/markers_api.html)):*\n",
    "\n",
    "- `o`: circle\n",
    "- `s`: square\n",
    "- `*`: star\n",
    "- `x`: x\n",
    "- `d`: (thin) diamond"
   ]
  },
  {
   "cell_type": "markdown",
   "metadata": {},
   "source": [
    "*Example: Multiple lines in single plot()*"
   ]
  },
  {
   "cell_type": "markdown",
   "metadata": {},
   "source": [
    "*Example: Multiple plot() calls*"
   ]
  },
  {
   "cell_type": "markdown",
   "metadata": {},
   "source": [
    "*Example: styling with keyword arguments*\n",
    "\n",
    "-   See section on _Other Parameters_ in [`plot()`](https://matplotlib.org/stable/api/_as_gen/matplotlib.pyplot.plot.html)\n",
    "-   Keyword arguments can be abbreviated:\n",
    "\n",
    "    - `c` or `color`\n",
    "    - `ls` or `linestyle`\n",
    "    - `lw` or `linewidth`\n",
    "    - `ms` or `markersize`"
   ]
  },
  {
   "cell_type": "markdown",
   "metadata": {},
   "source": [
    "<div class=\"alert alert-info\">\n",
    "<h3> Your turn</h3>\n",
    "Use the data files located in the folder <TT>../../data/FRED</TT> to perform the following tasks:\n",
    "<ol>\n",
    "    <li>Load the data from <TT>FRED_annual.csv</TT>. The file contains annual observations\n",
    "        on selected macroeconomic variables for the US.\n",
    "    </li>\n",
    "    <li>Plot the unemployment rate (column <TT>UNRATE</TT>) using a blue dashed line with line width 0.5 and the inflation rate (column <TT>INFLATION</TT>) using an orange line with line width 0.75 in the <i>same</i> figure.</li>\n",
    "</ol>\n",
    "</div>"
   ]
  },
  {
   "attachments": {},
   "cell_type": "markdown",
   "metadata": {},
   "source": [
    "***\n",
    "## Scatter plots"
   ]
  },
  {
   "cell_type": "markdown",
   "metadata": {},
   "source": [
    "- Use [`scatter()`](https://matplotlib.org/stable/api/_as_gen/matplotlib.pyplot.scatter.html) "
   ]
  },
  {
   "cell_type": "markdown",
   "metadata": {},
   "source": [
    "*Example: Scatter y-values randomly drawn from [0, 1)*"
   ]
  },
  {
   "cell_type": "code",
   "execution_count": null,
   "metadata": {},
   "outputs": [],
   "source": [
    "import matplotlib.pyplot as plt\n",
    "import numpy as np\n",
    "\n",
    "# Number of points\n",
    "N = 50\n",
    "\n",
    "# Create 50 uniformly-spaced values on the unit interval\n",
    "xvalues = np.linspace(0.0, 1.0, N)\n",
    "# Draw random numbers from interval [0, 1)\n",
    "yvalues = np.random.default_rng(seed=123).random(N)"
   ]
  },
  {
   "cell_type": "markdown",
   "metadata": {},
   "source": [
    "*Example: Scatter with marker sizes randomly drawn from [0, 150)*"
   ]
  },
  {
   "cell_type": "code",
   "execution_count": null,
   "metadata": {},
   "outputs": [],
   "source": [
    "# Draw random marker sizes\n",
    "size = np.random.default_rng(seed=456).random(N) * 150.0"
   ]
  },
  {
   "cell_type": "markdown",
   "metadata": {},
   "source": [
    "<div class=\"alert alert-info\">\n",
    "<h3> Your turn</h3>\n",
    "Use the data files located in the folder <TT>../../data/FRED</TT> to perform the following tasks:\n",
    "<ol>\n",
    "    <li>Load the data in <TT>FRED_monthly.csv</TT>. The file contains monthly observations\n",
    "        on selected macroeconomic variables for the US.    \n",
    "    </li>\n",
    "    <li>Create a scatter plot of the real interest rate (column <TT>REALRATE</TT>) on the y-axis against the Federal Funds rate (column <TT>FEDFUNDS</TT>) on the x-axis.\n",
    "    Specify the arguments <TT>edgecolors='blue'</TT> and <TT>color='none'</TT> to plot the data as blue rings.\n",
    "    </li>\n",
    "</ol>\n",
    "</div>"
   ]
  },
  {
   "cell_type": "markdown",
   "metadata": {},
   "source": [
    "***\n",
    "\n",
    "## Histograms\n",
    "\n",
    "- Use [`hist()`](https://matplotlib.org/stable/api/_as_gen/matplotlib.pyplot.hist.html)"
   ]
  },
  {
   "cell_type": "markdown",
   "metadata": {},
   "source": [
    "*Example: Histogram of normal draws*\n",
    "\n",
    "- Draw 100 points from normal distribution and plot as histogram"
   ]
  },
  {
   "cell_type": "code",
   "execution_count": null,
   "metadata": {},
   "outputs": [],
   "source": [
    "import matplotlib.pyplot as plt\n",
    "import numpy as np\n",
    "\n",
    "# Draw 10,000 standard-normal numbers\n",
    "x = np.random.default_rng(seed=1234).normal(size=10_000)"
   ]
  },
  {
   "attachments": {},
   "cell_type": "markdown",
   "metadata": {
    "pycharm": {
     "name": "#%% md\n"
    }
   },
   "source": [
    "***\n",
    "## Plotting categorical data\n",
    "\n",
    "- Create bar charts with [`bar()`](https://matplotlib.org/stable/api/_as_gen/matplotlib.pyplot.bar.html)"
   ]
  },
  {
   "cell_type": "markdown",
   "metadata": {},
   "source": [
    "*Example: Population sizes by municipality*"
   ]
  },
  {
   "cell_type": "code",
   "execution_count": null,
   "metadata": {},
   "outputs": [],
   "source": [
    "import numpy as np\n",
    "\n",
    "# Define category labels\n",
    "municipality = ['Oslo', 'Bergen', 'Trondheim', 'Stavanger']\n",
    "# Population in thousand\n",
    "population = np.array([717710, 291940,  214565, 149048]) / 1000"
   ]
  },
  {
   "cell_type": "markdown",
   "metadata": {},
   "source": [
    "*Example: Horizontal bar charts*\n",
    "\n",
    "- Use [`barh()`](https://matplotlib.org/stable/api/_as_gen/matplotlib.pyplot.barh.html)"
   ]
  },
  {
   "attachments": {},
   "cell_type": "markdown",
   "metadata": {
    "pycharm": {
     "name": "#%% md\n"
    }
   },
   "source": [
    "***\n",
    "## Adding labels and annotations\n",
    "\n",
    "-   Titles: [`title()`](https://matplotlib.org/stable/api/_as_gen/matplotlib.pyplot.title.html) \n",
    "    and [`suptitle()`](https://matplotlib.org/stable/api/_as_gen/matplotlib.pyplot.suptitle.html) \n",
    "-   Axes labels:\n",
    "    [`xlabel()`](https://matplotlib.org/stable/api/_as_gen/matplotlib.pyplot.xlabel.html) \n",
    "    and [`ylabel()`](https://matplotlib.org/stable/api/_as_gen/matplotlib.pyplot.ylabel.html)\n",
    "-   Legend: \n",
    "    [`legend()`](https://matplotlib.org/stable/api/_as_gen/matplotlib.pyplot.legend.html)\n",
    "-   Add text at arbitrary position: [`text()`](https://matplotlib.org/stable/api/_as_gen/matplotlib.pyplot.text.html)"
   ]
  },
  {
   "cell_type": "markdown",
   "metadata": {},
   "source": [
    "*Example: Create graph with titles, axes labels, legend, and text*"
   ]
  },
  {
   "cell_type": "code",
   "execution_count": null,
   "metadata": {},
   "outputs": [],
   "source": [
    "# Demo data used for plotting\n",
    "xvalues = [0, 1, 2, 3]\n",
    "yvalues = [1, 4, 2, 3]\n",
    "yvalues2 = [2.0, 1.0, 3.0, 0.0]"
   ]
  },
  {
   "attachments": {},
   "cell_type": "markdown",
   "metadata": {
    "pycharm": {
     "name": "#%% md\n"
    }
   },
   "source": [
    "***\n",
    "## Plot limits, ticks and tick labels\n",
    "\n",
    "-   Plot limits:\n",
    "    [`xlim()`](https://matplotlib.org/stable/api/_as_gen/matplotlib.pyplot.xlim.html) and \n",
    "    [`ylim()`](https://matplotlib.org/stable/api/_as_gen/matplotlib.pyplot.ylim.html)\n",
    "-   Ticks and tick labels:\n",
    "    [`xticks()`](https://matplotlib.org/stable/api/_as_gen/matplotlib.pyplot.xticks.html) \n",
    "    and [`yticks()`](https://matplotlib.org/stable/api/_as_gen/matplotlib.pyplot.yticks.html)\n"
   ]
  },
  {
   "cell_type": "markdown",
   "metadata": {},
   "source": [
    "*Example: sine function plotted on $[0, 2\\pi]$*\n",
    "\n",
    "-   Add $x$-ticks at positions 0, $\\pi$, and $2\\pi$"
   ]
  },
  {
   "cell_type": "code",
   "execution_count": null,
   "metadata": {},
   "outputs": [],
   "source": [
    "import numpy as np\n",
    "\n",
    "# Create data using the sine function\n",
    "xvalues = np.linspace(0.0, 2*np.pi, 50)\n",
    "yvalues = np.sin(xvalues)\n",
    "\n",
    "# Define tick positions\n",
    "xticks = [0.0, np.pi, 2*np.pi]\n",
    "# Define tick labels (can use LaTeX code!)\n",
    "xtick_labels = ['0', r'$\\pi$', r'$2\\pi$']"
   ]
  },
  {
   "attachments": {},
   "cell_type": "markdown",
   "metadata": {},
   "source": [
    "***\n",
    "\n",
    "## Adding straight lines\n",
    "\n",
    "- Horizontal lines: [`axhline()`](https://matplotlib.org/stable/api/_as_gen/matplotlib.pyplot.axhline.html)\n",
    "- Vertical lines: [`axvline()`](https://matplotlib.org/stable/api/_as_gen/matplotlib.pyplot.axvline.html)\n",
    "- Other: [`axline()`](https://matplotlib.org/stable/api/_as_gen/matplotlib.pyplot.axline.html#matplotlib.pyplot.axline)"
   ]
  },
  {
   "attachments": {},
   "cell_type": "markdown",
   "metadata": {},
   "source": [
    "*Example: Adding horizontal and vertical lines*\n",
    "\n",
    "- Add horizontal line at 0, vertical lines at $\\left[\\frac{1}{2}\\pi, \\frac{3}{2}\\pi\\right]$ to previous sine function plot"
   ]
  },
  {
   "cell_type": "markdown",
   "metadata": {},
   "source": [
    "<div class=\"alert alert-info\">\n",
    "<h3> Your turn</h3>\n",
    "Plot the function <i>y=(x-1)<sup>2</sup></i> on the interval [0, 2]:\n",
    "<ol>\n",
    "    <li>Create a grid of 50 <i>x</i>-values using <a href=\"https://numpy.org/doc/stable/reference/generated/numpy.linspace.html\"><tt>np.linspace()</tt></a>.</li>\n",
    "    <li>Compute and plot the <i>y</i>-values.</li>\n",
    "    <li>Label the <i>x</i>- and <i>y</i>-axes with <i>\"x\"</i> and <i>\"y\"</i>.</li>\n",
    "    <li>Add the title <i>\"y = (x-1)^2\"</i>.</li>\n",
    "    <li>Add a vertical line at <i>x=1</i> using a dashed line style.</li>\n",
    "</ol>\n",
    "\n",
    "</div>"
   ]
  },
  {
   "attachments": {},
   "cell_type": "markdown",
   "metadata": {},
   "source": [
    "***\n",
    "## Object-oriented interface\n",
    "\n",
    "- Useful for figures with multiple sub-plots\n",
    "- Cleaner interface\n",
    "- Operate on instances of [`Figure`](https://matplotlib.org/stable/api/figure_api.html) \n",
    "    and [`Axes`](https://matplotlib.org/stable/api/axes_api.html) objects\n",
    "- Objects are created with [`subplots()`](https://matplotlib.org/stable/api/_as_gen/matplotlib.pyplot.subplots.html) function:\n",
    "    ```python\n",
    "    fig, ax = plt.subplots()\n",
    "    ```"
   ]
  },
  {
   "cell_type": "markdown",
   "metadata": {},
   "source": [
    "### Example: annotations in pyplot vs. object-oriented interface\n",
    "\n",
    "#### pyplot interface\n",
    "\n",
    "-   This repeats the annotations example from above"
   ]
  },
  {
   "cell_type": "code",
   "execution_count": null,
   "metadata": {},
   "outputs": [
    {
     "data": {
      "text/plain": [
       "Text(0.05, 0.05, 'More text')"
      ]
     },
     "metadata": {},
     "output_type": "display_data"
    },
    {
     "data": {
      "application/pdf": "[encoded data removed]",
      "image/png": "[encoded data removed]",
      "text/plain": [
       "<Figure size 400x300 with 1 Axes>"
      ]
     },
     "metadata": {},
     "output_type": "display_data"
    }
   ],
   "source": [
    "import matplotlib.pyplot as plt\n",
    "\n",
    "# Demo data used for plotting\n",
    "xvalues = [0, 1, 2, 3]\n",
    "yvalues = [1, 4, 2, 3]\n",
    "yvalues2 = [2.0, 1.0, 3.0, 0.0]\n",
    "\n",
    "plt.plot(xvalues, yvalues, color='red')\n",
    "plt.plot(xvalues, yvalues2, color='blue')\n",
    "\n",
    "# Add titles, labels, legend, and text\n",
    "plt.suptitle('Figure title')\n",
    "plt.title('Axes-specific title')\n",
    "plt.xlabel('Label for x-axis')\n",
    "plt.ylabel('Label for y-axis')\n",
    "plt.legend(['Red line', 'Blue line'])\n",
    "# Adds text at data coordinates (0.05, 0.05)\n",
    "plt.text(0.05, 0.05, 'More text')"
   ]
  },
  {
   "cell_type": "markdown",
   "metadata": {},
   "source": [
    "#### Object-oriented interface"
   ]
  },
  {
   "cell_type": "code",
   "execution_count": null,
   "metadata": {},
   "outputs": [
    {
     "data": {
      "text/plain": [
       "Text(0.05, 0.05, 'More text')"
      ]
     },
     "metadata": {},
     "output_type": "display_data"
    },
    {
     "data": {
      "application/pdf": "[encoded data removed]",
      "image/png": "[encoded data removed]",
      "text/plain": [
       "<Figure size 400x300 with 1 Axes>"
      ]
     },
     "metadata": {},
     "output_type": "display_data"
    }
   ],
   "source": [
    "import matplotlib.pyplot as plt\n",
    "\n",
    "# Create Figure and Axes objects\n",
    "fig, ax = plt.subplots()\n",
    "\n",
    "ax.plot(xvalues, yvalues, color='red', label='Red line')\n",
    "ax.plot(xvalues, yvalues2, color='blue', label='Blue line')\n",
    "\n",
    "# Add titles, labels, legend, and text\n",
    "fig.suptitle('Figure title')                        # Alternative: plt.suptitle()\n",
    "ax.set_title('Axes-specific title')                 # Alternative: plt.title()\n",
    "ax.set_xlabel('Label for x-axis')                   # Alternative: plt.xlabel()\n",
    "ax.set_ylabel('Label for y-axis')                   # Alternative: plt.ylabel()\n",
    "ax.legend(['Red line', 'Blue line'])                # Alternative: plt.legend()\n",
    "# Adds text at data coordinates (0.05, 0.05)\n",
    "ax.text(0.05, 0.05, 'More text')                    # Alternative: plt.text()\n"
   ]
  },
  {
   "attachments": {},
   "cell_type": "markdown",
   "metadata": {
    "pycharm": {
     "name": "#%% md\n"
    }
   },
   "source": [
    "***\n",
    "## Working with multiple plots (axes)\n",
    "\n",
    "- Use [`subplots()`](https://matplotlib.org/stable/api/_as_gen/matplotlib.pyplot.subplots.html) to obtain multiple sub-plots (axes)"
   ]
  },
  {
   "attachments": {},
   "cell_type": "markdown",
   "metadata": {},
   "source": [
    "*Example: Create a plot with 2 panels*\n",
    "\n",
    "- Plot 1st and 2nd-degree polynomials"
   ]
  },
  {
   "attachments": {},
   "cell_type": "markdown",
   "metadata": {
    "pycharm": {
     "name": "#%% md\n"
    }
   },
   "source": [
    "*Example: Create a figure with 2 rows and 2 columns*\n",
    "\n",
    "- Plot polynomials of degrees 1 to 4\n",
    "- Use `sharex` and `sharey` to enforce identical axes limits"
   ]
  },
  {
   "cell_type": "markdown",
   "metadata": {},
   "source": [
    "<div class=\"alert alert-info\">\n",
    "<h3> Your turn</h3>\n",
    "Create a figure with 3 columns (on a single row) and plot the following functions\n",
    "on the interval [0, 6]:\n",
    "<ol>\n",
    "    <li>Subplot 1: <i>y = sin(x)</i></li>\n",
    "    <li>Subplot 2: <i>y = sin(2*x)</i></li>\n",
    "    <li>Subplot 3: <i>y = sin(4*x)</i></li>\n",
    "</ol>\n",
    "\n",
    "<i>Hint:</i> The sine function can be imported from NumPy as <TT>np.sin()</T>.\n",
    "</div>"
   ]
  },
  {
   "cell_type": "markdown",
   "metadata": {},
   "source": [
    "***\n",
    "# Plotting with pandas\n",
    "\n",
    " - Pandas provides convenience functions for plotting\n"
   ]
  },
  {
   "cell_type": "markdown",
   "metadata": {},
   "source": [
    "## Bar charts with pandas\n",
    "\n",
    "- Use pandas's [`plot.bar()`](https://pandas.pydata.org/docs/reference/api/pandas.DataFrame.plot.bar.html):"
   ]
  },
  {
   "cell_type": "markdown",
   "metadata": {},
   "source": [
    "*Example: Plot population of 15 largest municipalities in Norway*"
   ]
  },
  {
   "cell_type": "code",
   "execution_count": null,
   "metadata": {},
   "outputs": [],
   "source": [
    "import pandas as pd\n",
    "\n",
    "# Path to local data/ folder\n",
    "DATA_PATH = '../../data'\n",
    "\n",
    "# Path to CSV file\n",
    "filepath = f'{DATA_PATH}/population_norway.csv'\n",
    "\n",
    "# Read in population data for Norwegian municipalities\n",
    "df = pd.read_csv(filepath)"
   ]
  },
  {
   "cell_type": "markdown",
   "metadata": {},
   "source": [
    "***\n",
    "## Plotting time series data\n",
    "\n",
    "- Use\n",
    "[`DataFrame.plot()`](https://pandas.pydata.org/docs/reference/api/pandas.DataFrame.plot.html) "
   ]
  },
  {
   "cell_type": "markdown",
   "metadata": {},
   "source": [
    "*Example: Plot US unemployment rate*"
   ]
  },
  {
   "cell_type": "code",
   "execution_count": null,
   "metadata": {},
   "outputs": [],
   "source": [
    "# Path to annual FRED data; DATA_PATH variable was defined above!\n",
    "filepath = f'{DATA_PATH}/FRED/FRED_annual.csv'\n",
    "\n",
    "# Read CSV data\n",
    "df = pd.read_csv(filepath, sep=',')"
   ]
  },
  {
   "cell_type": "markdown",
   "metadata": {},
   "source": [
    "<div class=\"alert alert-info\">\n",
    "<h3> Your turn</h3>\n",
    "Use the data files located in the folder <TT>../../data/FRED</TT> to perform the following tasks:\n",
    "<ol>\n",
    "    <li>Load the macroeconomic time series data from <TT>FRED_monthly_all.csv</TT>.\n",
    "        <br/>\n",
    "        <i>Hint:</i> Use <TT>pd.read_csv(..., parse_dates=['DATE'], index_col='DATE')</TT> to automatically parse strings stored in the <TT>DATE</TT> column as dates and set <TT>DATE</TT> as the index.\n",
    "        </li>\n",
    "    <li>Create a line plot, showing both the unemployment rate <TT>UNRATE</TT>\n",
    "        and the inflation rate <TT>INFLATION</TT> in a single graph.\n",
    "    </li>\n",
    "</ol>\n",
    "</div>"
   ]
  },
  {
   "cell_type": "markdown",
   "metadata": {},
   "source": [
    "***\n",
    "## Scatter plots with pandas\n",
    "\n",
    "### Bivariate scatter plots\n",
    "\n",
    "- Use [`DataFrame.plot.scatter()`](https://pandas.pydata.org/docs/reference/api/pandas.DataFrame.plot.scatter.html)"
   ]
  },
  {
   "cell_type": "markdown",
   "metadata": {},
   "source": [
    "*Example: Plot inflation vs. unemployment rate*"
   ]
  },
  {
   "cell_type": "code",
   "execution_count": null,
   "metadata": {},
   "outputs": [],
   "source": [
    "# Path to annual FRED data; DATA_PATH variable was defined above!\n",
    "filepath = f'{DATA_PATH}/FRED/FRED_annual.csv'\n",
    "\n",
    "# Read CSV data\n",
    "df = pd.read_csv(filepath, sep=',')"
   ]
  },
  {
   "cell_type": "markdown",
   "metadata": {},
   "source": [
    "### Scatter plots of more than two variables"
   ]
  },
  {
   "cell_type": "markdown",
   "metadata": {},
   "source": [
    "- Use [`scatter_matrix()`](https://pandas.pydata.org/docs/reference/api/pandas.plotting.scatter_matrix.html)\n"
   ]
  },
  {
   "cell_type": "markdown",
   "metadata": {},
   "source": [
    "*Example: plot unemployment rate vs. inflation vs. Fed Funds Rate*"
   ]
  },
  {
   "cell_type": "code",
   "execution_count": null,
   "metadata": {},
   "outputs": [],
   "source": [
    "from pandas.plotting import scatter_matrix\n",
    "\n",
    "# Columns to include in plot\n",
    "columns = ['UNRATE', 'INFLATION', 'FEDFUNDS']"
   ]
  },
  {
   "cell_type": "markdown",
   "metadata": {},
   "source": [
    "***\n",
    "## Box plots with pandas\n",
    "\n",
    "- Use\n",
    "[`DataFrame.plot.box()`](https://pandas.pydata.org/docs/reference/api/pandas.DataFrame.plot.box.html)\n",
    "- Shows median, interquartile range (25th to 75th percentile) and outliers"
   ]
  },
  {
   "cell_type": "markdown",
   "metadata": {},
   "source": [
    "*Example: Unemployment rate, inflation, and Fed Funds Rate*"
   ]
  },
  {
   "cell_type": "code",
   "execution_count": null,
   "metadata": {},
   "outputs": [],
   "source": [
    "# Path to annual FRED data; DATA_PATH variable was defined above!\n",
    "filepath = f'{DATA_PATH}/FRED/FRED_annual.csv'\n",
    "\n",
    "# Read CSV data\n",
    "df = pd.read_csv(filepath, sep=',')"
   ]
  }
 ],
 "metadata": {
  "kernelspec": {
   "display_name": "FIE463",
   "language": "python",
   "name": "python3"
  },
  "language_info": {
   "codemirror_mode": {
    "name": "ipython",
    "version": 3
   },
   "file_extension": ".py",
   "mimetype": "text/x-python",
   "name": "python",
   "nbconvert_exporter": "python",
   "pygments_lexer": "ipython3",
   "version": "3.12.8"
  }
 },
 "nbformat": 4,
 "nbformat_minor": 1
}
