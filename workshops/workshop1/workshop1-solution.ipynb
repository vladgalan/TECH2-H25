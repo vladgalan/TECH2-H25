{
 "cells": [
  {
   "cell_type": "markdown",
   "metadata": {},
   "source": [
    "# Exercise 1: Summing lists and arrays\n",
    "\n",
    "In this exercise, we investigate another difference between built-in lists and NumPy arrays: performance.\n",
    "We do this by comparing the execution time of different implementations of the `sum()` function.\n",
    "\n",
    "1. Create a list `lst` and a NumPy array `arr`, each of them containing the sequence \n",
    "   of ten values `0, 1, 2, ..., 9`.\n",
    "\n",
    "   *Hint*: You can use the list constructor [`list()`](https://www.w3schools.com/python/ref_func_list.asp)\n",
    "   and combine it with the [`range()`](https://docs.python.org/3/library/functions.html#func-range)\n",
    "   function which returns an objecting representing a range of integers.\n",
    "\n",
    "   *Hint:* You should create the NumPy array using \n",
    "   [`np.arange()`](https://numpy.org/doc/stable/reference/generated/numpy.arange.html).\n",
    "\n",
    "2. We want to compute the sum of integers contained in `lst` and `arr`. Use \n",
    "   the built-in function [`sum()`](https://www.w3schools.com/python/ref_func_sum.asp)\n",
    "   to sum elements of a list.\n",
    "   For the NumPy array, use the NumPy function \n",
    "   [`np.sum()`](https://numpy.org/doc/stable/reference/generated/numpy.sum.html).\n",
    "\n",
    "3. You are interested in benchmarking which summing function is faster.\n",
    "    Repeat the steps from above, but use the cell magic \n",
    "    [`%timeit`](https://ipython.readthedocs.io/en/stable/interactive/magics.html#magic-timeit)\n",
    "    to time the execution of a statement as follows:\n",
    "\n",
    "    ```python\n",
    "    %timeit statement\n",
    "    ```\n",
    "\n",
    "4.  Recreate the list and array to contain 100 integers starting from 0,\n",
    "    and rerun the benchmark.\n",
    "\n",
    "5.  Recreate the list and array to contain 10,000 integers starting from 0,\n",
    "    and rerun the benchmark.\n",
    "\n",
    "\n",
    "What do you conclude about the relative performance of built-in lists \n",
    "vs. NumPy arrays?"
   ]
  },
  {
   "cell_type": "markdown",
   "metadata": {},
   "source": [
    "### Solution"
   ]
  },
  {
   "cell_type": "markdown",
   "metadata": {},
   "source": [
    "#### Part 1: Creating a list and a NumPy array"
   ]
  },
  {
   "cell_type": "code",
   "execution_count": 1,
   "metadata": {},
   "outputs": [],
   "source": [
    "# create list with 10 elements 0,1,...,9\n",
    "lst = list(range(10))"
   ]
  },
  {
   "cell_type": "code",
   "execution_count": 2,
   "metadata": {},
   "outputs": [],
   "source": [
    "import numpy as np\n",
    "# create array with 10 elements 0,1,...,9\n",
    "arr = np.arange(10)"
   ]
  },
  {
   "cell_type": "markdown",
   "metadata": {},
   "source": [
    "#### Part 2: Computing the sum of elements"
   ]
  },
  {
   "cell_type": "code",
   "execution_count": 3,
   "metadata": {},
   "outputs": [
    {
     "data": {
      "text/plain": [
       "45"
      ]
     },
     "execution_count": 3,
     "metadata": {},
     "output_type": "execute_result"
    }
   ],
   "source": [
    "# sum the list using the built-in function sum()\n",
    "sum(lst)"
   ]
  },
  {
   "cell_type": "code",
   "execution_count": 4,
   "metadata": {},
   "outputs": [
    {
     "data": {
      "text/plain": [
       "np.int64(45)"
      ]
     },
     "execution_count": 4,
     "metadata": {},
     "output_type": "execute_result"
    }
   ],
   "source": [
    "# sum the NumPy array using NumPy's sum() function\n",
    "np.sum(arr)"
   ]
  },
  {
   "cell_type": "markdown",
   "metadata": {},
   "source": [
    "#### Part 3: Benchmarking with 10 values"
   ]
  },
  {
   "cell_type": "code",
   "execution_count": 5,
   "metadata": {},
   "outputs": [
    {
     "name": "stdout",
     "output_type": "stream",
     "text": [
      "59.4 ns ± 0.196 ns per loop (mean ± std. dev. of 7 runs, 10,000,000 loops each)\n"
     ]
    }
   ],
   "source": [
    "# benchmark summing list using built-in sum()\n",
    "%timeit sum(lst)"
   ]
  },
  {
   "cell_type": "code",
   "execution_count": 6,
   "metadata": {},
   "outputs": [
    {
     "name": "stdout",
     "output_type": "stream",
     "text": [
      "1.64 μs ± 27.2 ns per loop (mean ± std. dev. of 7 runs, 1,000,000 loops each)\n"
     ]
    }
   ],
   "source": [
    "# Benchmark summing array using NumPy's sum()\n",
    "%timeit np.sum(arr)"
   ]
  },
  {
   "cell_type": "markdown",
   "metadata": {},
   "source": [
    "As you can see, for a short list the built-in `sum()` was faster by a factor of about 25 (the exact difference varies depending on your hardware and platform)."
   ]
  },
  {
   "cell_type": "markdown",
   "metadata": {},
   "source": [
    "#### Part 4: Benchmarking with 100 values"
   ]
  },
  {
   "cell_type": "code",
   "execution_count": 7,
   "metadata": {},
   "outputs": [],
   "source": [
    "# Recreate list and array to contain 100 integers starting at 0\n",
    "N = 100\n",
    "lst = list(range(N))\n",
    "arr = np.arange(N)"
   ]
  },
  {
   "cell_type": "code",
   "execution_count": 8,
   "metadata": {},
   "outputs": [
    {
     "name": "stdout",
     "output_type": "stream",
     "text": [
      "316 ns ± 2.29 ns per loop (mean ± std. dev. of 7 runs, 1,000,000 loops each)\n"
     ]
    }
   ],
   "source": [
    "# benchmark built-in sum() with 100 elements\n",
    "%timeit sum(lst)"
   ]
  },
  {
   "cell_type": "code",
   "execution_count": 9,
   "metadata": {},
   "outputs": [
    {
     "name": "stdout",
     "output_type": "stream",
     "text": [
      "1.66 μs ± 29.2 ns per loop (mean ± std. dev. of 7 runs, 1,000,000 loops each)\n"
     ]
    }
   ],
   "source": [
    "# benchmark NumPy's sum() with 100 elements\n",
    "%timeit np.sum(arr)"
   ]
  },
  {
   "cell_type": "markdown",
   "metadata": {},
   "source": [
    "For 100 elements, the built-in `sum()` is still faster, but only by a factor of 4 (again, the exact values depend on your platform). Note that the execution time for `np.sum()` remained almost unchanged, which suggest that the function call has a high fixed cost, but scales much better with the number of elements to be summed."
   ]
  },
  {
   "cell_type": "markdown",
   "metadata": {},
   "source": [
    "#### Part 5: Benchmarking with 10,000 values"
   ]
  },
  {
   "cell_type": "code",
   "execution_count": 10,
   "metadata": {},
   "outputs": [],
   "source": [
    "# Recreate list and array to contain 10,000 integers starting at 0\n",
    "N = 10_000\n",
    "lst = list(range(N))\n",
    "arr = np.arange(N)"
   ]
  },
  {
   "cell_type": "code",
   "execution_count": 11,
   "metadata": {},
   "outputs": [
    {
     "name": "stdout",
     "output_type": "stream",
     "text": [
      "54.5 μs ± 26.3 ns per loop (mean ± std. dev. of 7 runs, 10,000 loops each)\n"
     ]
    }
   ],
   "source": [
    "# benchmark built-in sum() with 10000 elements\n",
    "%timeit sum(lst)"
   ]
  },
  {
   "cell_type": "code",
   "execution_count": 12,
   "metadata": {},
   "outputs": [
    {
     "name": "stdout",
     "output_type": "stream",
     "text": [
      "2.4 μs ± 1.87 ns per loop (mean ± std. dev. of 7 runs, 100,000 loops each)\n"
     ]
    }
   ],
   "source": [
    "# benchmark NumPy's sum() with 10000 elements\n",
    "%timeit np.sum(arr)"
   ]
  },
  {
   "cell_type": "markdown",
   "metadata": {},
   "source": [
    "Lastly, for 10,000 elements `np.sum()` is substantially faster by a factor about 20. You should conclude that for large arrays, you can expect much better performance from NumPy's functions, but this may not be true for small data sets."
   ]
  },
  {
   "cell_type": "markdown",
   "metadata": {},
   "source": [
    "***\n",
    "# Exercise 2: Maximizing quadratic utility"
   ]
  },
  {
   "cell_type": "markdown",
   "metadata": {},
   "source": [
    "Assume that an individual derives utility from consuming $c$ items according to the following\n",
    "utility function $u(\\bullet)$:\n",
    "$$\n",
    "u(c) = - A (c - B)^2 + C\n",
    "$$\n",
    "\n",
    "where $A > 0$, $B > 0$ and $C$ are parameters, and $c$ is the consumption level.\n",
    "\n",
    "In this exercise, you are asked to locate the consumption level which delivers the maximum utility.\n",
    "\n",
    "1.  Define a function called `util()` which takes as arguments the consumption level `c` and \n",
    "    three additional arguments `A`, `B`, and `C` which are the parameters of $u(\\bullet)$ define above. The function should return the utility associated \n",
    "    with the given consumption level `c`.\n",
    "\n",
    "2.  Write a function `find_max_cons()` which takes as arguments a sequence of candidate consumption levels and the three parameters\n",
    "    `A`, `B`, and `C`, and returns the maximum utility as well as the consumption level at which utility is maximized.\n",
    "    The function definition should look like this:\n",
    "    ```python\n",
    "    def find_max_cons(candidates, A, B, C):\n",
    "        \"\"\"\n",
    "        Find the consumption level that maximizes utility from a \n",
    "        list of candidates.\n",
    "\n",
    "        Parameters\n",
    "        ----------\n",
    "        candidates : list or array-like\n",
    "            List of candidate consumption levels to evaluate.\n",
    "        A, B, C : float\n",
    "            Parameters of the utility function.\n",
    "\n",
    "        Returns\n",
    "        -------\n",
    "        u_max\n",
    "            Maximized utility\n",
    "        cons_max\n",
    "            Consumption at which utility is maximized\n",
    "        \"\"\"\n",
    "    ```\n",
    "\n",
    "    Your algorithm should perform the following steps:\n",
    "\n",
    "    1.  Define the variable `u_max = -np.inf` (negative infinity) as the initial value.\n",
    "    2.  Loop through all candidate consumption levels, and compute the associated utility. \n",
    "        If this utility is larger than the previous maximum value `u_max`, update `u_max` and store the associated consumption level `cons_max`.\n",
    "    3. Return `u_max` and `cons_max` after the loop terminates.\n",
    "\n",
    "1. Find the maximum:\n",
    "    1.  Create an array `cons` of 51 candidate consumption levels which are uniformly spaced on \n",
    "        the  interval $[0, 4]$.\n",
    "\n",
    "        *Hint:* Use [`np.linspace()`](https://numpy.org/doc/stable/reference/generated/numpy.linspace.html)\n",
    "        for this task.\n",
    "\n",
    "    2.  Use the parameters $A = 1$, $B=2$, and $C=10$.\n",
    "    3.  Use the function `find_max_cons()` to compute the maximum utility and the associated optimal \n",
    "        consumption level, and print the results.\n",
    "\n",
    "2. Repeat the exercise, but instead use vectorized operations from NumPy:\n",
    "    1. Compute and store the utility levels for *all* elements in `cons` at once (simply apply the formula to the whole array).\n",
    "    2. Locate the index of the maximum utility level using \n",
    "       [`np.argmax()`](https://numpy.org/doc/stable/reference/generated/numpy.argmax.html).\n",
    "    3. Use the index returned by `np.argmax()` to retrieve the maximum utility and the \n",
    "        corresponding consumption level, and print the results.\n",
    "\n"
   ]
  },
  {
   "cell_type": "markdown",
   "metadata": {},
   "source": [
    "### Solution"
   ]
  },
  {
   "cell_type": "markdown",
   "metadata": {},
   "source": [
    "#### Part 1: Define the utility function"
   ]
  },
  {
   "cell_type": "code",
   "execution_count": 13,
   "metadata": {},
   "outputs": [],
   "source": [
    "def util(c, A=1.0, B=2.0, C=10.0):\n",
    "    \"\"\"\n",
    "    Evaluate utility for a given level of consumption c.\n",
    "    \"\"\"\n",
    "    u = - A * (c - B)**2.0 + C\n",
    "    return u"
   ]
  },
  {
   "cell_type": "markdown",
   "metadata": {},
   "source": [
    "#### Part 2: Define a function to locate the maximum"
   ]
  },
  {
   "cell_type": "code",
   "execution_count": 14,
   "metadata": {},
   "outputs": [],
   "source": [
    "import numpy as np\n",
    "\n",
    "def find_max_cons(candidates, A=1.0, B=2.0, C=10.0):\n",
    "    \"\"\"\n",
    "    Find the consumption level that maximizes utility from a \n",
    "    list of candidates.\n",
    "\n",
    "    Parameters\n",
    "    ----------\n",
    "    candidates : list or array-like\n",
    "        List of candidate consumption levels to evaluate.\n",
    "    A, B, C : float\n",
    "        Parameters of the utility function.\n",
    "\n",
    "    Returns\n",
    "    -------\n",
    "    u_max\n",
    "        Maximized utility\n",
    "    cons_max\n",
    "        Consumption at which utility is maximized\n",
    "    \"\"\"\n",
    "    \n",
    "    # Initialize max. utility level at the lowest possible value\n",
    "    u_max = -np.inf\n",
    "\n",
    "    # Consumption level at which utility is maximized\n",
    "    cons_max = None\n",
    "\n",
    "    for c in candidates:\n",
    "        # Evaluate utility at candidate consumption level\n",
    "        u = util(c, A, B, C)\n",
    "        \n",
    "        if u > u_max:\n",
    "            # New maximum found, update utility and optimal consumption\n",
    "            u_max = u\n",
    "            cons_max = c\n",
    "\n",
    "    return u_max, cons_max"
   ]
  },
  {
   "cell_type": "markdown",
   "metadata": {},
   "source": [
    "#### Part 3: Find the maximum"
   ]
  },
  {
   "cell_type": "code",
   "execution_count": 15,
   "metadata": {},
   "outputs": [],
   "source": [
    "# Candidate consumption levels\n",
    "cons = np.linspace(0.0, 4.0, 51)\n",
    "\n",
    "# Parameters\n",
    "A = 1.0\n",
    "B = 2.0\n",
    "C = 10.0"
   ]
  },
  {
   "cell_type": "code",
   "execution_count": 16,
   "metadata": {},
   "outputs": [
    {
     "name": "stdout",
     "output_type": "stream",
     "text": [
      "Utility is maximized at c=2.0 with u=10.0\n"
     ]
    }
   ],
   "source": [
    "# Use function to find maximum\n",
    "u_max, cons_max = find_max_cons(cons, A, B, C)\n",
    "\n",
    "# Print maximum and maximizer\n",
    "print(f'Utility is maximized at c={cons_max} with u={u_max}')"
   ]
  },
  {
   "cell_type": "markdown",
   "metadata": {},
   "source": [
    "#### Part 2: Using vectorization with NumPy"
   ]
  },
  {
   "cell_type": "code",
   "execution_count": null,
   "metadata": {},
   "outputs": [
    {
     "data": {
      "text/plain": [
       "array([ 6.    ,  6.3136,  6.6144,  6.9024,  7.1776,  7.44  ,  7.6896,\n",
       "        7.9264,  8.1504,  8.3616,  8.56  ,  8.7456,  8.9184,  9.0784,\n",
       "        9.2256,  9.36  ,  9.4816,  9.5904,  9.6864,  9.7696,  9.84  ,\n",
       "        9.8976,  9.9424,  9.9744,  9.9936, 10.    ,  9.9936,  9.9744,\n",
       "        9.9424,  9.8976,  9.84  ,  9.7696,  9.6864,  9.5904,  9.4816,\n",
       "        9.36  ,  9.2256,  9.0784,  8.9184,  8.7456,  8.56  ,  8.3616,\n",
       "        8.1504,  7.9264,  7.6896,  7.44  ,  7.1776,  6.9024,  6.6144,\n",
       "        6.3136,  6.    ])"
      ]
     },
     "execution_count": 17,
     "metadata": {},
     "output_type": "execute_result"
    }
   ],
   "source": [
    "# Evaluate all utilities at once using vectorized NumPy operations\n",
    "u = util(cons, A, B, C)\n",
    "\n",
    "# Print utility levels\n",
    "u"
   ]
  },
  {
   "cell_type": "code",
   "execution_count": 18,
   "metadata": {},
   "outputs": [
    {
     "name": "stdout",
     "output_type": "stream",
     "text": [
      "Utility is maximized at c=2.0 with u=10.0\n"
     ]
    }
   ],
   "source": [
    "# Locate the index of the maximum\n",
    "imax = np.argmax(u)\n",
    "\n",
    "# Recover the utility and the consumption level at the maximum\n",
    "u_max = u[imax]\n",
    "cons_max = cons[imax]\n",
    "\n",
    "print(f'Utility is maximized at c={cons_max} with u={u_max}')"
   ]
  }
 ],
 "metadata": {
  "kernelspec": {
   "display_name": "TECH2",
   "language": "python",
   "name": "python3"
  },
  "language_info": {
   "codemirror_mode": {
    "name": "ipython",
    "version": 3
   },
   "file_extension": ".py",
   "mimetype": "text/x-python",
   "name": "python",
   "nbconvert_exporter": "python",
   "pygments_lexer": "ipython3",
   "version": "3.13.5"
  }
 },
 "nbformat": 4,
 "nbformat_minor": 2
}
