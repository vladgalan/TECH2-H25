{
 "cells": [
  {
   "cell_type": "markdown",
   "metadata": {},
   "source": [
    "# Exercise 1: Data cleaning\n",
    "\n",
    "Before doing actual data analysis, we usually first need to clean the data. \n",
    "This might involve steps such as dealing with missing values and encoding categorical variables as integers.\n",
    "In this exercise, you will perform such steps based on the Titanic passenger data.\n",
    "\n",
    "1. Load the Titanic data set in `titanic.csv` located in the `data/` folder.\n",
    "2. Report the number of observations with missing `Age`, for example using [`isna()`](https://pandas.pydata.org/docs/reference/api/pandas.isna.html).\n",
    "3. Compute the average age in the data set. Use the following approaches and compare your results:\n",
    "    1.  Use pandas's [`mean()`](https://pandas.pydata.org/docs/reference/api/pandas.DataFrame.mean.html) method.\n",
    "    2.  Convert the `Age` column to a NumPy array using [`to_numpy()`](https://pandas.pydata.org/docs/reference/api/pandas.DataFrame.to_numpy.html). Experiment with NumPy's [`np.mean()`](https://numpy.org/doc/2.0/reference/generated/numpy.mean.html) and [`np.nanmean()`](https://numpy.org/doc/2.0/reference/generated/numpy.nanmean.html) to see if you obtain the same results.\n",
    "4. Replace the all missing ages with the mean age you computed above, rounded to the nearest integer.\n",
    "   Note that in \"real\" applications, replacing missing values with sample means is usually not a good idea.\n",
    "5. Convert this updated `Age` column to integer type using [`astype()`](https://pandas.pydata.org/docs/reference/api/pandas.DataFrame.astype.html).\n",
    "6. Generate a new column `Female` which takes on the value one if `Sex` is equal to `\"female\"` and zero otherwise. \n",
    "   This is called an _indicator_ or _dummy_ variable, and is preferrable to storing such categorical data as strings.\n",
    "   Delete the original column `Sex`.\n",
    "7. Save your cleaned data set as `titanic-clean.csv` using [`to_csv()`](https://pandas.pydata.org/docs/reference/api/pandas.DataFrame.to_csv.html) with `,` as the field separator.\n",
    "   Tell `to_csv()` to *not* write the `DataFrame` index to the CSV file as it's not needed in this example."
   ]
  },
  {
   "cell_type": "markdown",
   "metadata": {},
   "source": [
    "### Solution"
   ]
  },
  {
   "cell_type": "markdown",
   "metadata": {},
   "source": [
    "#### Part 1: Loading the data"
   ]
  },
  {
   "cell_type": "code",
   "execution_count": 1,
   "metadata": {},
   "outputs": [],
   "source": [
    "import pandas as pd\n",
    "\n",
    "# Relative path to data directory\n",
    "DATA_PATH = '../../data'\n",
    "\n",
    "# Path to Titanic CSV file\n",
    "fn = f'{DATA_PATH}/titanic.csv'\n",
    "\n",
    "# Read in the CSV file, use default separator (comma)\n",
    "df = pd.read_csv(fn)"
   ]
  },
  {
   "cell_type": "markdown",
   "metadata": {},
   "source": [
    "#### Part 2: Number of missing values\n",
    "\n",
    "We can count the number of missing values directly by summing the return values of `isna()` which returns `True` whenever an observation is missing:"
   ]
  },
  {
   "cell_type": "code",
   "execution_count": 2,
   "metadata": {},
   "outputs": [
    {
     "data": {
      "text/plain": [
       "np.int64(177)"
      ]
     },
     "execution_count": 2,
     "metadata": {},
     "output_type": "execute_result"
    }
   ],
   "source": [
    "# Number of missing age observations\n",
    "df['Age'].isna().sum()"
   ]
  },
  {
   "cell_type": "markdown",
   "metadata": {},
   "source": [
    "\n",
    "Alternatively, the number of non-missing values can be displayed using the `info()` method. For larger DataFrames, pandas does not automatically report \n",
    "the number of nonmissing (\"Non-Null\") observations, so we might need to request this explicitly by passing the `show_counts=True` argument."
   ]
  },
  {
   "cell_type": "code",
   "execution_count": 3,
   "metadata": {},
   "outputs": [
    {
     "name": "stdout",
     "output_type": "stream",
     "text": [
      "<class 'pandas.core.frame.DataFrame'>\n",
      "RangeIndex: 891 entries, 0 to 890\n",
      "Data columns (total 10 columns):\n",
      " #   Column       Non-Null Count  Dtype  \n",
      "---  ------       --------------  -----  \n",
      " 0   PassengerId  891 non-null    int64  \n",
      " 1   Survived     891 non-null    int64  \n",
      " 2   Pclass       891 non-null    int64  \n",
      " 3   Name         891 non-null    object \n",
      " 4   Sex          891 non-null    object \n",
      " 5   Age          714 non-null    float64\n",
      " 6   Ticket       891 non-null    object \n",
      " 7   Fare         891 non-null    float64\n",
      " 8   Cabin        204 non-null    object \n",
      " 9   Embarked     889 non-null    object \n",
      "dtypes: float64(2), int64(3), object(5)\n",
      "memory usage: 69.7+ KB\n"
     ]
    }
   ],
   "source": [
    "# Display missing counts for each column\n",
    "df.info(show_counts=True)"
   ]
  },
  {
   "cell_type": "markdown",
   "metadata": {},
   "source": [
    "#### Part 3: Compute mean age\n",
    "\n",
    "We compute the mean age using the three different methods. As you can see, `np.mean()` cannot deal with missing values and returns `NaN` (_\"not a number\"_)."
   ]
  },
  {
   "cell_type": "code",
   "execution_count": 4,
   "metadata": {},
   "outputs": [
    {
     "name": "stdout",
     "output_type": "stream",
     "text": [
      "Mean age using pandas:       29.699\n",
      "Mean age using np.mean():    nan\n",
      "Mean age using np.nanmean(): 29.699\n"
     ]
    }
   ],
   "source": [
    "import numpy as np\n",
    "\n",
    "# Compute mean age using the DataFrame.mean() method\n",
    "mean_age = df['Age'].mean()\n",
    "\n",
    "# Convert Age column to NumPy array\n",
    "age_array = df['Age'].to_numpy()\n",
    "\n",
    "# Compute mean using np.mean()\n",
    "mean_age_np = np.mean(age_array)\n",
    "\n",
    "# Compute mean using np.nanmean()\n",
    "mean_age_np_nan = np.nanmean(age_array)\n",
    "\n",
    "print(f'Mean age using pandas:       {mean_age:.3f}')\n",
    "print(f'Mean age using np.mean():    {mean_age_np:.3f}')\n",
    "print(f'Mean age using np.nanmean(): {mean_age_np_nan:.3f}')\n"
   ]
  },
  {
   "cell_type": "markdown",
   "metadata": {},
   "source": [
    "#### Part 4: Replace missing values\n",
    "\n",
    "There are several ways to replace missing values. First, we can \"manually\"\n",
    "identify these using boolean indexing and assign a new value to such observations. "
   ]
  },
  {
   "cell_type": "code",
   "execution_count": 5,
   "metadata": {},
   "outputs": [],
   "source": [
    "# Round average age\n",
    "mean_age = np.round(mean_age)\n",
    "\n",
    "# boolean arrays to select missing observations\n",
    "is_missing = df['Age'].isna()\n",
    "\n",
    "# Update missing observations with rounded mean age\n",
    "df.loc[is_missing, 'Age'] = mean_age"
   ]
  },
  {
   "cell_type": "markdown",
   "metadata": {},
   "source": [
    "There is also the convenience routine [`fillna()`](https://pandas.pydata.org/docs/reference/api/pandas.DataFrame.fillna.html)\n",
    "which automates this step. \n",
    "To illustrate, we need to reload the original data as we have just replaced all missing values."
   ]
  },
  {
   "cell_type": "code",
   "execution_count": 6,
   "metadata": {},
   "outputs": [],
   "source": [
    "# Re-load data to get the original missing values\n",
    "df = pd.read_csv(fn)\n",
    "\n",
    "df['Age'] = df['Age'].fillna(value=mean_age)"
   ]
  },
  {
   "cell_type": "markdown",
   "metadata": {},
   "source": [
    "#### Part 5: Convert age column to integer type\n",
    "\n",
    "Since age is usually recorded as an integer, there is no reason to store it as a `float` once we have dealt with the missing values."
   ]
  },
  {
   "cell_type": "code",
   "execution_count": 7,
   "metadata": {},
   "outputs": [],
   "source": [
    "df['Age'] = df['Age'].astype(int)"
   ]
  },
  {
   "cell_type": "markdown",
   "metadata": {},
   "source": [
    "#### Part 6: Generate Female indicator\n",
    "\n",
    "An indicator variable can be obtained as a result of a logical operation (`==`, `!=`, etc.). This value contains `True` or `False` values, which we can convert to 1 or 0 by changing the data type to integer."
   ]
  },
  {
   "cell_type": "code",
   "execution_count": 8,
   "metadata": {},
   "outputs": [],
   "source": [
    "# Generate boolean array (True/False) whether passenger is female\n",
    "is_female = (df['Sex'] == 'female')\n",
    "\n",
    "# Add Female dummy variable, converted to integer\n",
    "df['Female'] = is_female.astype(int)\n",
    "\n",
    "# Delete original Sex column, no longer needed\n",
    "del df['Sex']\n",
    "\n",
    "# Alternatively, you can use\n",
    "# df = df.drop(columns=['Sex'])"
   ]
  },
  {
   "cell_type": "markdown",
   "metadata": {},
   "source": [
    "#### Part 7: Save cleaned file\n",
    "\n",
    "We can use `info()` again to confirm that `Age` has no missing values and all columns are of the desired data type:"
   ]
  },
  {
   "cell_type": "code",
   "execution_count": 9,
   "metadata": {},
   "outputs": [
    {
     "name": "stdout",
     "output_type": "stream",
     "text": [
      "<class 'pandas.core.frame.DataFrame'>\n",
      "RangeIndex: 891 entries, 0 to 890\n",
      "Data columns (total 10 columns):\n",
      " #   Column       Non-Null Count  Dtype  \n",
      "---  ------       --------------  -----  \n",
      " 0   PassengerId  891 non-null    int64  \n",
      " 1   Survived     891 non-null    int64  \n",
      " 2   Pclass       891 non-null    int64  \n",
      " 3   Name         891 non-null    object \n",
      " 4   Age          891 non-null    int64  \n",
      " 5   Ticket       891 non-null    object \n",
      " 6   Fare         891 non-null    float64\n",
      " 7   Cabin        204 non-null    object \n",
      " 8   Embarked     889 non-null    object \n",
      " 9   Female       891 non-null    int64  \n",
      "dtypes: float64(1), int64(5), object(4)\n",
      "memory usage: 69.7+ KB\n"
     ]
    }
   ],
   "source": [
    "df.info(show_counts=True)"
   ]
  },
  {
   "cell_type": "code",
   "execution_count": 10,
   "metadata": {},
   "outputs": [],
   "source": [
    "# Save cleaned file\n",
    "fn_clean = f'{DATA_PATH}/titanic-cleaned.csv'\n",
    "\n",
    "df.to_csv(fn_clean, sep=',', index=False)"
   ]
  },
  {
   "cell_type": "markdown",
   "metadata": {},
   "source": [
    "***\n",
    "# Exercise 2: Selecting subsets of data\n",
    "\n",
    "In this exercise, you are asked to select subsets of macroeconomic data for the United States based on some criteria.\n",
    "\n",
    "1.  Load the annual data from FRED which are located in `FRED_annual.xlsx` \n",
    "    in the `data/FRED` folder.\n",
    "\n",
    "2.  Print the list of columns and the number of non-missing observations.\n",
    "\n",
    "3.  Since we are dealing with time series data, set the column `Year` as the DataFrame index.\n",
    "\n",
    "4.  Print all observations for the 1960s decade using at least two different methods.\n",
    "\n",
    "5.  Using the data in the column `GDP`, compute the annual GDP growth in percent and store it in the column `GDP_growth`. Select the years in which\n",
    "\n",
    "    1.  GDP growth was above 5%.\n",
    "    2.  GDP growth was negative, but inflation as still above 5% (such episodes are called \"stagflation\" since usually negative GDP growth is associated with low inflation).\n",
    "        \n",
    "        Use at least two methods to select such years.\n",
    "\n",
    "    *Hint:* You can compute changes relative to the previous observation using the \n",
    "    [`pct_change()`](https://pandas.pydata.org/docs/reference/api/pandas.DataFrame.pct_change.html) method.\n"
   ]
  },
  {
   "cell_type": "markdown",
   "metadata": {},
   "source": [
    "### Solution"
   ]
  },
  {
   "cell_type": "markdown",
   "metadata": {},
   "source": [
    "#### Part 1: Loading the data"
   ]
  },
  {
   "cell_type": "code",
   "execution_count": 11,
   "metadata": {},
   "outputs": [],
   "source": [
    "# Relative path to data directory\n",
    "DATA_PATH = '../../data'\n",
    "\n",
    "# Path to annual FRED data in Excel format\n",
    "fn = f'{DATA_PATH}/FRED/FRED_annual.xlsx'\n",
    "\n",
    "# Read in data\n",
    "df = pd.read_excel(fn)\n"
   ]
  },
  {
   "cell_type": "markdown",
   "metadata": {},
   "source": [
    "#### Part 2: Reporting columns and observation count\n",
    "\n",
    "We print the columns and their corresponding number of observations using the `info()` method. This data set is small enough so that pandas automatically reports the number of observations, but we can still pass `show_counts=True` if we want."
   ]
  },
  {
   "cell_type": "code",
   "execution_count": 12,
   "metadata": {},
   "outputs": [
    {
     "name": "stdout",
     "output_type": "stream",
     "text": [
      "<class 'pandas.core.frame.DataFrame'>\n",
      "RangeIndex: 70 entries, 0 to 69\n",
      "Data columns (total 6 columns):\n",
      " #   Column     Non-Null Count  Dtype  \n",
      "---  ------     --------------  -----  \n",
      " 0   Year       70 non-null     int64  \n",
      " 1   GDP        70 non-null     float64\n",
      " 2   CPI        70 non-null     float64\n",
      " 3   UNRATE     70 non-null     float64\n",
      " 4   FEDFUNDS   70 non-null     float64\n",
      " 5   INFLATION  69 non-null     float64\n",
      "dtypes: float64(5), int64(1)\n",
      "memory usage: 3.4 KB\n"
     ]
    }
   ],
   "source": [
    "# List columns, force pandas to show number of observations\n",
    "df.info(show_counts=True)"
   ]
  },
  {
   "cell_type": "markdown",
   "metadata": {},
   "source": [
    "In this case, the result is the same if you call `info()` without additional arguments, but that might not be the case for larger DataFrames, depending on your local configuration settings:"
   ]
  },
  {
   "cell_type": "code",
   "execution_count": 13,
   "metadata": {},
   "outputs": [
    {
     "name": "stdout",
     "output_type": "stream",
     "text": [
      "<class 'pandas.core.frame.DataFrame'>\n",
      "RangeIndex: 70 entries, 0 to 69\n",
      "Data columns (total 6 columns):\n",
      " #   Column     Non-Null Count  Dtype  \n",
      "---  ------     --------------  -----  \n",
      " 0   Year       70 non-null     int64  \n",
      " 1   GDP        70 non-null     float64\n",
      " 2   CPI        70 non-null     float64\n",
      " 3   UNRATE     70 non-null     float64\n",
      " 4   FEDFUNDS   70 non-null     float64\n",
      " 5   INFLATION  69 non-null     float64\n",
      "dtypes: float64(5), int64(1)\n",
      "memory usage: 3.4 KB\n"
     ]
    }
   ],
   "source": [
    "df.info()"
   ]
  },
  {
   "cell_type": "markdown",
   "metadata": {},
   "source": [
    "#### Part 3: Set `Year` as the index"
   ]
  },
  {
   "cell_type": "code",
   "execution_count": 14,
   "metadata": {},
   "outputs": [],
   "source": [
    "# Set Year as index, discard previous (default) index\n",
    "df = df.set_index('Year')"
   ]
  },
  {
   "cell_type": "markdown",
   "metadata": {},
   "source": [
    "#### Part 4: Select data from the 1960s"
   ]
  },
  {
   "cell_type": "markdown",
   "metadata": {},
   "source": [
    "There are various ways to select all observations for the 1960s. Since we have set the `Year` as an index, we can use `.loc[]` to select by label:"
   ]
  },
  {
   "cell_type": "code",
   "execution_count": 15,
   "metadata": {},
   "outputs": [
    {
     "data": {
      "text/html": [
       "<div>\n",
       "<style scoped>\n",
       "    .dataframe tbody tr th:only-of-type {\n",
       "        vertical-align: middle;\n",
       "    }\n",
       "\n",
       "    .dataframe tbody tr th {\n",
       "        vertical-align: top;\n",
       "    }\n",
       "\n",
       "    .dataframe thead th {\n",
       "        text-align: right;\n",
       "    }\n",
       "</style>\n",
       "<table border=\"1\" class=\"dataframe\">\n",
       "  <thead>\n",
       "    <tr style=\"text-align: right;\">\n",
       "      <th></th>\n",
       "      <th>GDP</th>\n",
       "      <th>CPI</th>\n",
       "      <th>UNRATE</th>\n",
       "      <th>FEDFUNDS</th>\n",
       "      <th>INFLATION</th>\n",
       "    </tr>\n",
       "    <tr>\n",
       "      <th>Year</th>\n",
       "      <th></th>\n",
       "      <th></th>\n",
       "      <th></th>\n",
       "      <th></th>\n",
       "      <th></th>\n",
       "    </tr>\n",
       "  </thead>\n",
       "  <tbody>\n",
       "    <tr>\n",
       "      <th>1960</th>\n",
       "      <td>3500.3</td>\n",
       "      <td>29.6</td>\n",
       "      <td>5.5</td>\n",
       "      <td>3.2</td>\n",
       "      <td>1.369863</td>\n",
       "    </tr>\n",
       "    <tr>\n",
       "      <th>1961</th>\n",
       "      <td>3590.1</td>\n",
       "      <td>29.9</td>\n",
       "      <td>6.7</td>\n",
       "      <td>2.0</td>\n",
       "      <td>1.013514</td>\n",
       "    </tr>\n",
       "    <tr>\n",
       "      <th>1962</th>\n",
       "      <td>3810.1</td>\n",
       "      <td>30.3</td>\n",
       "      <td>5.6</td>\n",
       "      <td>2.7</td>\n",
       "      <td>1.337793</td>\n",
       "    </tr>\n",
       "    <tr>\n",
       "      <th>1963</th>\n",
       "      <td>3976.1</td>\n",
       "      <td>30.6</td>\n",
       "      <td>5.6</td>\n",
       "      <td>3.2</td>\n",
       "      <td>0.990099</td>\n",
       "    </tr>\n",
       "    <tr>\n",
       "      <th>1964</th>\n",
       "      <td>4205.3</td>\n",
       "      <td>31.0</td>\n",
       "      <td>5.2</td>\n",
       "      <td>3.5</td>\n",
       "      <td>1.307190</td>\n",
       "    </tr>\n",
       "    <tr>\n",
       "      <th>1965</th>\n",
       "      <td>4478.6</td>\n",
       "      <td>31.5</td>\n",
       "      <td>4.5</td>\n",
       "      <td>4.1</td>\n",
       "      <td>1.612903</td>\n",
       "    </tr>\n",
       "    <tr>\n",
       "      <th>1966</th>\n",
       "      <td>4773.9</td>\n",
       "      <td>32.5</td>\n",
       "      <td>3.8</td>\n",
       "      <td>5.1</td>\n",
       "      <td>3.174603</td>\n",
       "    </tr>\n",
       "    <tr>\n",
       "      <th>1967</th>\n",
       "      <td>4904.9</td>\n",
       "      <td>33.4</td>\n",
       "      <td>3.8</td>\n",
       "      <td>4.2</td>\n",
       "      <td>2.769231</td>\n",
       "    </tr>\n",
       "    <tr>\n",
       "      <th>1968</th>\n",
       "      <td>5145.9</td>\n",
       "      <td>34.8</td>\n",
       "      <td>3.6</td>\n",
       "      <td>5.7</td>\n",
       "      <td>4.191617</td>\n",
       "    </tr>\n",
       "    <tr>\n",
       "      <th>1969</th>\n",
       "      <td>5306.6</td>\n",
       "      <td>36.7</td>\n",
       "      <td>3.5</td>\n",
       "      <td>8.2</td>\n",
       "      <td>5.459770</td>\n",
       "    </tr>\n",
       "  </tbody>\n",
       "</table>\n",
       "</div>"
      ],
      "text/plain": [
       "         GDP   CPI  UNRATE  FEDFUNDS  INFLATION\n",
       "Year                                           \n",
       "1960  3500.3  29.6     5.5       3.2   1.369863\n",
       "1961  3590.1  29.9     6.7       2.0   1.013514\n",
       "1962  3810.1  30.3     5.6       2.7   1.337793\n",
       "1963  3976.1  30.6     5.6       3.2   0.990099\n",
       "1964  4205.3  31.0     5.2       3.5   1.307190\n",
       "1965  4478.6  31.5     4.5       4.1   1.612903\n",
       "1966  4773.9  32.5     3.8       5.1   3.174603\n",
       "1967  4904.9  33.4     3.8       4.2   2.769231\n",
       "1968  5145.9  34.8     3.6       5.7   4.191617\n",
       "1969  5306.6  36.7     3.5       8.2   5.459770"
      ]
     },
     "execution_count": 15,
     "metadata": {},
     "output_type": "execute_result"
    }
   ],
   "source": [
    "df.loc[1960:1969]"
   ]
  },
  {
   "cell_type": "markdown",
   "metadata": {},
   "source": [
    "Alternatively, we can use the \n",
    "[`query()`](https://pandas.pydata.org/docs/reference/api/pandas.DataFrame.query.html) \n",
    "method which allows us to select observations not only based on column values, but also based on values of the index (`Year` in this case):"
   ]
  },
  {
   "cell_type": "code",
   "execution_count": 16,
   "metadata": {},
   "outputs": [
    {
     "data": {
      "text/html": [
       "<div>\n",
       "<style scoped>\n",
       "    .dataframe tbody tr th:only-of-type {\n",
       "        vertical-align: middle;\n",
       "    }\n",
       "\n",
       "    .dataframe tbody tr th {\n",
       "        vertical-align: top;\n",
       "    }\n",
       "\n",
       "    .dataframe thead th {\n",
       "        text-align: right;\n",
       "    }\n",
       "</style>\n",
       "<table border=\"1\" class=\"dataframe\">\n",
       "  <thead>\n",
       "    <tr style=\"text-align: right;\">\n",
       "      <th></th>\n",
       "      <th>GDP</th>\n",
       "      <th>CPI</th>\n",
       "      <th>UNRATE</th>\n",
       "      <th>FEDFUNDS</th>\n",
       "      <th>INFLATION</th>\n",
       "    </tr>\n",
       "    <tr>\n",
       "      <th>Year</th>\n",
       "      <th></th>\n",
       "      <th></th>\n",
       "      <th></th>\n",
       "      <th></th>\n",
       "      <th></th>\n",
       "    </tr>\n",
       "  </thead>\n",
       "  <tbody>\n",
       "    <tr>\n",
       "      <th>1960</th>\n",
       "      <td>3500.3</td>\n",
       "      <td>29.6</td>\n",
       "      <td>5.5</td>\n",
       "      <td>3.2</td>\n",
       "      <td>1.369863</td>\n",
       "    </tr>\n",
       "    <tr>\n",
       "      <th>1961</th>\n",
       "      <td>3590.1</td>\n",
       "      <td>29.9</td>\n",
       "      <td>6.7</td>\n",
       "      <td>2.0</td>\n",
       "      <td>1.013514</td>\n",
       "    </tr>\n",
       "    <tr>\n",
       "      <th>1962</th>\n",
       "      <td>3810.1</td>\n",
       "      <td>30.3</td>\n",
       "      <td>5.6</td>\n",
       "      <td>2.7</td>\n",
       "      <td>1.337793</td>\n",
       "    </tr>\n",
       "    <tr>\n",
       "      <th>1963</th>\n",
       "      <td>3976.1</td>\n",
       "      <td>30.6</td>\n",
       "      <td>5.6</td>\n",
       "      <td>3.2</td>\n",
       "      <td>0.990099</td>\n",
       "    </tr>\n",
       "    <tr>\n",
       "      <th>1964</th>\n",
       "      <td>4205.3</td>\n",
       "      <td>31.0</td>\n",
       "      <td>5.2</td>\n",
       "      <td>3.5</td>\n",
       "      <td>1.307190</td>\n",
       "    </tr>\n",
       "    <tr>\n",
       "      <th>1965</th>\n",
       "      <td>4478.6</td>\n",
       "      <td>31.5</td>\n",
       "      <td>4.5</td>\n",
       "      <td>4.1</td>\n",
       "      <td>1.612903</td>\n",
       "    </tr>\n",
       "    <tr>\n",
       "      <th>1966</th>\n",
       "      <td>4773.9</td>\n",
       "      <td>32.5</td>\n",
       "      <td>3.8</td>\n",
       "      <td>5.1</td>\n",
       "      <td>3.174603</td>\n",
       "    </tr>\n",
       "    <tr>\n",
       "      <th>1967</th>\n",
       "      <td>4904.9</td>\n",
       "      <td>33.4</td>\n",
       "      <td>3.8</td>\n",
       "      <td>4.2</td>\n",
       "      <td>2.769231</td>\n",
       "    </tr>\n",
       "    <tr>\n",
       "      <th>1968</th>\n",
       "      <td>5145.9</td>\n",
       "      <td>34.8</td>\n",
       "      <td>3.6</td>\n",
       "      <td>5.7</td>\n",
       "      <td>4.191617</td>\n",
       "    </tr>\n",
       "    <tr>\n",
       "      <th>1969</th>\n",
       "      <td>5306.6</td>\n",
       "      <td>36.7</td>\n",
       "      <td>3.5</td>\n",
       "      <td>8.2</td>\n",
       "      <td>5.459770</td>\n",
       "    </tr>\n",
       "  </tbody>\n",
       "</table>\n",
       "</div>"
      ],
      "text/plain": [
       "         GDP   CPI  UNRATE  FEDFUNDS  INFLATION\n",
       "Year                                           \n",
       "1960  3500.3  29.6     5.5       3.2   1.369863\n",
       "1961  3590.1  29.9     6.7       2.0   1.013514\n",
       "1962  3810.1  30.3     5.6       2.7   1.337793\n",
       "1963  3976.1  30.6     5.6       3.2   0.990099\n",
       "1964  4205.3  31.0     5.2       3.5   1.307190\n",
       "1965  4478.6  31.5     4.5       4.1   1.612903\n",
       "1966  4773.9  32.5     3.8       5.1   3.174603\n",
       "1967  4904.9  33.4     3.8       4.2   2.769231\n",
       "1968  5145.9  34.8     3.6       5.7   4.191617\n",
       "1969  5306.6  36.7     3.5       8.2   5.459770"
      ]
     },
     "execution_count": 16,
     "metadata": {},
     "output_type": "execute_result"
    }
   ],
   "source": [
    "df.query('Year >= 1960 & Year <= 1969')"
   ]
  },
  {
   "cell_type": "markdown",
   "metadata": {},
   "source": [
    "#### Part 5: GDP growth\n",
    "\n",
    "We can use the `pct_change()` method to compute changes relative to the previous year. To convert these changes to percent, we need to multiply the values returned by this method by 100."
   ]
  },
  {
   "cell_type": "code",
   "execution_count": 17,
   "metadata": {},
   "outputs": [],
   "source": [
    "# Compute GDP growth as percentage change in GDP vs. the previous year\n",
    "df['GDP_growth'] = df['GDP'].pct_change() * 100"
   ]
  },
  {
   "cell_type": "markdown",
   "metadata": {},
   "source": [
    "We can now use this column select episodes when GDP growth was above 5%, for example by using the `query()` method."
   ]
  },
  {
   "cell_type": "code",
   "execution_count": 18,
   "metadata": {},
   "outputs": [
    {
     "data": {
      "text/html": [
       "<div>\n",
       "<style scoped>\n",
       "    .dataframe tbody tr th:only-of-type {\n",
       "        vertical-align: middle;\n",
       "    }\n",
       "\n",
       "    .dataframe tbody tr th {\n",
       "        vertical-align: top;\n",
       "    }\n",
       "\n",
       "    .dataframe thead th {\n",
       "        text-align: right;\n",
       "    }\n",
       "</style>\n",
       "<table border=\"1\" class=\"dataframe\">\n",
       "  <thead>\n",
       "    <tr style=\"text-align: right;\">\n",
       "      <th></th>\n",
       "      <th>GDP</th>\n",
       "      <th>CPI</th>\n",
       "      <th>UNRATE</th>\n",
       "      <th>FEDFUNDS</th>\n",
       "      <th>INFLATION</th>\n",
       "      <th>GDP_growth</th>\n",
       "    </tr>\n",
       "    <tr>\n",
       "      <th>Year</th>\n",
       "      <th></th>\n",
       "      <th></th>\n",
       "      <th></th>\n",
       "      <th></th>\n",
       "      <th></th>\n",
       "      <th></th>\n",
       "    </tr>\n",
       "  </thead>\n",
       "  <tbody>\n",
       "    <tr>\n",
       "      <th>1955</th>\n",
       "      <td>3083.0</td>\n",
       "      <td>26.8</td>\n",
       "      <td>4.4</td>\n",
       "      <td>1.8</td>\n",
       "      <td>-0.371747</td>\n",
       "      <td>7.134170</td>\n",
       "    </tr>\n",
       "    <tr>\n",
       "      <th>1959</th>\n",
       "      <td>3412.4</td>\n",
       "      <td>29.2</td>\n",
       "      <td>5.4</td>\n",
       "      <td>3.3</td>\n",
       "      <td>1.038062</td>\n",
       "      <td>6.931562</td>\n",
       "    </tr>\n",
       "    <tr>\n",
       "      <th>1962</th>\n",
       "      <td>3810.1</td>\n",
       "      <td>30.3</td>\n",
       "      <td>5.6</td>\n",
       "      <td>2.7</td>\n",
       "      <td>1.337793</td>\n",
       "      <td>6.127963</td>\n",
       "    </tr>\n",
       "    <tr>\n",
       "      <th>1964</th>\n",
       "      <td>4205.3</td>\n",
       "      <td>31.0</td>\n",
       "      <td>5.2</td>\n",
       "      <td>3.5</td>\n",
       "      <td>1.307190</td>\n",
       "      <td>5.764443</td>\n",
       "    </tr>\n",
       "    <tr>\n",
       "      <th>1965</th>\n",
       "      <td>4478.6</td>\n",
       "      <td>31.5</td>\n",
       "      <td>4.5</td>\n",
       "      <td>4.1</td>\n",
       "      <td>1.612903</td>\n",
       "      <td>6.498942</td>\n",
       "    </tr>\n",
       "    <tr>\n",
       "      <th>1966</th>\n",
       "      <td>4773.9</td>\n",
       "      <td>32.5</td>\n",
       "      <td>3.8</td>\n",
       "      <td>5.1</td>\n",
       "      <td>3.174603</td>\n",
       "      <td>6.593578</td>\n",
       "    </tr>\n",
       "    <tr>\n",
       "      <th>1972</th>\n",
       "      <td>5780.0</td>\n",
       "      <td>41.8</td>\n",
       "      <td>5.6</td>\n",
       "      <td>4.4</td>\n",
       "      <td>3.209877</td>\n",
       "      <td>5.255490</td>\n",
       "    </tr>\n",
       "    <tr>\n",
       "      <th>1973</th>\n",
       "      <td>6106.4</td>\n",
       "      <td>44.4</td>\n",
       "      <td>4.9</td>\n",
       "      <td>8.7</td>\n",
       "      <td>6.220096</td>\n",
       "      <td>5.647059</td>\n",
       "    </tr>\n",
       "    <tr>\n",
       "      <th>1976</th>\n",
       "      <td>6387.4</td>\n",
       "      <td>56.9</td>\n",
       "      <td>7.7</td>\n",
       "      <td>5.0</td>\n",
       "      <td>5.762082</td>\n",
       "      <td>5.386989</td>\n",
       "    </tr>\n",
       "    <tr>\n",
       "      <th>1978</th>\n",
       "      <td>7052.7</td>\n",
       "      <td>65.2</td>\n",
       "      <td>6.1</td>\n",
       "      <td>7.9</td>\n",
       "      <td>7.590759</td>\n",
       "      <td>5.535105</td>\n",
       "    </tr>\n",
       "    <tr>\n",
       "      <th>1984</th>\n",
       "      <td>8195.3</td>\n",
       "      <td>103.9</td>\n",
       "      <td>7.5</td>\n",
       "      <td>10.2</td>\n",
       "      <td>4.317269</td>\n",
       "      <td>7.236042</td>\n",
       "    </tr>\n",
       "    <tr>\n",
       "      <th>2021</th>\n",
       "      <td>21494.8</td>\n",
       "      <td>271.0</td>\n",
       "      <td>5.4</td>\n",
       "      <td>0.1</td>\n",
       "      <td>4.714065</td>\n",
       "      <td>6.054984</td>\n",
       "    </tr>\n",
       "  </tbody>\n",
       "</table>\n",
       "</div>"
      ],
      "text/plain": [
       "          GDP    CPI  UNRATE  FEDFUNDS  INFLATION  GDP_growth\n",
       "Year                                                         \n",
       "1955   3083.0   26.8     4.4       1.8  -0.371747    7.134170\n",
       "1959   3412.4   29.2     5.4       3.3   1.038062    6.931562\n",
       "1962   3810.1   30.3     5.6       2.7   1.337793    6.127963\n",
       "1964   4205.3   31.0     5.2       3.5   1.307190    5.764443\n",
       "1965   4478.6   31.5     4.5       4.1   1.612903    6.498942\n",
       "1966   4773.9   32.5     3.8       5.1   3.174603    6.593578\n",
       "1972   5780.0   41.8     5.6       4.4   3.209877    5.255490\n",
       "1973   6106.4   44.4     4.9       8.7   6.220096    5.647059\n",
       "1976   6387.4   56.9     7.7       5.0   5.762082    5.386989\n",
       "1978   7052.7   65.2     6.1       7.9   7.590759    5.535105\n",
       "1984   8195.3  103.9     7.5      10.2   4.317269    7.236042\n",
       "2021  21494.8  271.0     5.4       0.1   4.714065    6.054984"
      ]
     },
     "execution_count": 18,
     "metadata": {},
     "output_type": "execute_result"
    }
   ],
   "source": [
    "# Select high growth episodes using query()\n",
    "df.query('GDP_growth > 5')"
   ]
  },
  {
   "cell_type": "markdown",
   "metadata": {},
   "source": [
    "Next, we want to select stagflationary periods where the US economy stagnated (GDP growth below 0%), but inflation was nevertheless high (above 5%). We can achieve this by using `query()` with a boolean *and* operator, `&`:"
   ]
  },
  {
   "cell_type": "code",
   "execution_count": 19,
   "metadata": {},
   "outputs": [
    {
     "data": {
      "text/html": [
       "<div>\n",
       "<style scoped>\n",
       "    .dataframe tbody tr th:only-of-type {\n",
       "        vertical-align: middle;\n",
       "    }\n",
       "\n",
       "    .dataframe tbody tr th {\n",
       "        vertical-align: top;\n",
       "    }\n",
       "\n",
       "    .dataframe thead th {\n",
       "        text-align: right;\n",
       "    }\n",
       "</style>\n",
       "<table border=\"1\" class=\"dataframe\">\n",
       "  <thead>\n",
       "    <tr style=\"text-align: right;\">\n",
       "      <th></th>\n",
       "      <th>GDP</th>\n",
       "      <th>CPI</th>\n",
       "      <th>UNRATE</th>\n",
       "      <th>FEDFUNDS</th>\n",
       "      <th>INFLATION</th>\n",
       "      <th>GDP_growth</th>\n",
       "    </tr>\n",
       "    <tr>\n",
       "      <th>Year</th>\n",
       "      <th></th>\n",
       "      <th></th>\n",
       "      <th></th>\n",
       "      <th></th>\n",
       "      <th></th>\n",
       "      <th></th>\n",
       "    </tr>\n",
       "  </thead>\n",
       "  <tbody>\n",
       "    <tr>\n",
       "      <th>1974</th>\n",
       "      <td>6073.4</td>\n",
       "      <td>49.3</td>\n",
       "      <td>5.6</td>\n",
       "      <td>10.5</td>\n",
       "      <td>11.036036</td>\n",
       "      <td>-0.540417</td>\n",
       "    </tr>\n",
       "    <tr>\n",
       "      <th>1975</th>\n",
       "      <td>6060.9</td>\n",
       "      <td>53.8</td>\n",
       "      <td>8.5</td>\n",
       "      <td>5.8</td>\n",
       "      <td>9.127789</td>\n",
       "      <td>-0.205816</td>\n",
       "    </tr>\n",
       "    <tr>\n",
       "      <th>1980</th>\n",
       "      <td>7257.3</td>\n",
       "      <td>82.4</td>\n",
       "      <td>7.2</td>\n",
       "      <td>13.4</td>\n",
       "      <td>13.498623</td>\n",
       "      <td>-0.257009</td>\n",
       "    </tr>\n",
       "    <tr>\n",
       "      <th>1982</th>\n",
       "      <td>7307.3</td>\n",
       "      <td>96.5</td>\n",
       "      <td>9.7</td>\n",
       "      <td>12.3</td>\n",
       "      <td>6.160616</td>\n",
       "      <td>-1.803400</td>\n",
       "    </tr>\n",
       "  </tbody>\n",
       "</table>\n",
       "</div>"
      ],
      "text/plain": [
       "         GDP   CPI  UNRATE  FEDFUNDS  INFLATION  GDP_growth\n",
       "Year                                                       \n",
       "1974  6073.4  49.3     5.6      10.5  11.036036   -0.540417\n",
       "1975  6060.9  53.8     8.5       5.8   9.127789   -0.205816\n",
       "1980  7257.3  82.4     7.2      13.4  13.498623   -0.257009\n",
       "1982  7307.3  96.5     9.7      12.3   6.160616   -1.803400"
      ]
     },
     "execution_count": 19,
     "metadata": {},
     "output_type": "execute_result"
    }
   ],
   "source": [
    "df.query('GDP_growth < 0 & INFLATION > 5')"
   ]
  },
  {
   "cell_type": "markdown",
   "metadata": {},
   "source": [
    "Alternatively, we can combine two individual boolean Series, one for each condition, and use this to select the relevant years."
   ]
  },
  {
   "cell_type": "code",
   "execution_count": 20,
   "metadata": {},
   "outputs": [
    {
     "data": {
      "text/html": [
       "<div>\n",
       "<style scoped>\n",
       "    .dataframe tbody tr th:only-of-type {\n",
       "        vertical-align: middle;\n",
       "    }\n",
       "\n",
       "    .dataframe tbody tr th {\n",
       "        vertical-align: top;\n",
       "    }\n",
       "\n",
       "    .dataframe thead th {\n",
       "        text-align: right;\n",
       "    }\n",
       "</style>\n",
       "<table border=\"1\" class=\"dataframe\">\n",
       "  <thead>\n",
       "    <tr style=\"text-align: right;\">\n",
       "      <th></th>\n",
       "      <th>GDP</th>\n",
       "      <th>CPI</th>\n",
       "      <th>UNRATE</th>\n",
       "      <th>FEDFUNDS</th>\n",
       "      <th>INFLATION</th>\n",
       "      <th>GDP_growth</th>\n",
       "    </tr>\n",
       "    <tr>\n",
       "      <th>Year</th>\n",
       "      <th></th>\n",
       "      <th></th>\n",
       "      <th></th>\n",
       "      <th></th>\n",
       "      <th></th>\n",
       "      <th></th>\n",
       "    </tr>\n",
       "  </thead>\n",
       "  <tbody>\n",
       "    <tr>\n",
       "      <th>1974</th>\n",
       "      <td>6073.4</td>\n",
       "      <td>49.3</td>\n",
       "      <td>5.6</td>\n",
       "      <td>10.5</td>\n",
       "      <td>11.036036</td>\n",
       "      <td>-0.540417</td>\n",
       "    </tr>\n",
       "    <tr>\n",
       "      <th>1975</th>\n",
       "      <td>6060.9</td>\n",
       "      <td>53.8</td>\n",
       "      <td>8.5</td>\n",
       "      <td>5.8</td>\n",
       "      <td>9.127789</td>\n",
       "      <td>-0.205816</td>\n",
       "    </tr>\n",
       "    <tr>\n",
       "      <th>1980</th>\n",
       "      <td>7257.3</td>\n",
       "      <td>82.4</td>\n",
       "      <td>7.2</td>\n",
       "      <td>13.4</td>\n",
       "      <td>13.498623</td>\n",
       "      <td>-0.257009</td>\n",
       "    </tr>\n",
       "    <tr>\n",
       "      <th>1982</th>\n",
       "      <td>7307.3</td>\n",
       "      <td>96.5</td>\n",
       "      <td>9.7</td>\n",
       "      <td>12.3</td>\n",
       "      <td>6.160616</td>\n",
       "      <td>-1.803400</td>\n",
       "    </tr>\n",
       "  </tbody>\n",
       "</table>\n",
       "</div>"
      ],
      "text/plain": [
       "         GDP   CPI  UNRATE  FEDFUNDS  INFLATION  GDP_growth\n",
       "Year                                                       \n",
       "1974  6073.4  49.3     5.6      10.5  11.036036   -0.540417\n",
       "1975  6060.9  53.8     8.5       5.8   9.127789   -0.205816\n",
       "1980  7257.3  82.4     7.2      13.4  13.498623   -0.257009\n",
       "1982  7307.3  96.5     9.7      12.3   6.160616   -1.803400"
      ]
     },
     "execution_count": 20,
     "metadata": {},
     "output_type": "execute_result"
    }
   ],
   "source": [
    "condition = (df['GDP_growth'] < 0) & (df['INFLATION'] > 5)\n",
    "df[condition]"
   ]
  },
  {
   "cell_type": "markdown",
   "metadata": {},
   "source": [
    "***\n",
    "# Exercise 3: Labor market statistics for the US\n",
    "\n",
    "In this exercise, you are asked to compute some descriptive statistics for the unemployment rate \n",
    "and the labor force participation (the fraction of the working-age population in the labor force, i.e., individuals who are either employed or unemployed) for the United States.\n",
    "\n",
    "1.  Load the monthly time series from FRED which are located in `FRED_monthly.csv` \n",
    "    in the `data/FRED` folder.\n",
    "\n",
    "    *Hint:* You can use `pd.read_csv(..., parse_dates=['DATE'])` to automatically\n",
    "    parse strings stored in the `DATE` column as dates.\n",
    "\n",
    "2.  Print the list of columns and the number of non-missing observations.\n",
    "\n",
    "3.  Since we are dealing with time series data, set the column `DATE` as the DataFrame index. Using the date index, select all observations from the first three months\n",
    "    of the year 2020.\n",
    "\n",
    "4.  For the columns `UNRATE` (unemployment rate) and `LFPART` (labor force participation), compute and report \n",
    "    the mean, minimum and maximum values for the whole sample. Round your results \n",
    "    to one decimal digit.\n",
    "\n",
    "    *Hint:* You can use the DataFrame methods \n",
    "    [`mean()`](https://pandas.pydata.org/docs/reference/api/pandas.DataFrame.mean.html),\n",
    "    [`min()`](https://pandas.pydata.org/docs/reference/api/pandas.DataFrame.min.html), and \n",
    "    [`max()`](https://pandas.pydata.org/docs/reference/api/pandas.DataFrame.max.html)\n",
    "    to compute the desired statistics.\n",
    "\n",
    "    *Hint:* You can use the DataFrame method\n",
    "    [`round()`](https://pandas.pydata.org/docs/reference/api/pandas.DataFrame.round.html)\n",
    "    to truncate the number of decimal digits.\n",
    "\n",
    "5.  You are interested in how the average unemployment rate evolved over the last \n",
    "    few decades. \n",
    "\n",
    "    -   Add a new column `Decade` to the DataFrame which contains the \n",
    "        starting year for each decade (e.g., this value should be 1950\n",
    "        for the years 1950-1959, and so on).\n",
    "\n",
    "        *Hint:* The decade can be computed from the column `Year` using \n",
    "        truncated integer division:\n",
    "        ```python\n",
    "        df['Year'] // 10 * 10\n",
    "        ```\n",
    "\n",
    "    -   Write a loop to compute and report the average unemployment rate (column `UNRATE`) \n",
    "        for each decade.\n",
    "\n",
    "        Include only the decades from 1950 to 2010 for which you have all\n",
    "        observations. "
   ]
  },
  {
   "cell_type": "markdown",
   "metadata": {},
   "source": [
    "### Solution"
   ]
  },
  {
   "cell_type": "markdown",
   "metadata": {},
   "source": [
    "#### Part 1: Loading the data"
   ]
  },
  {
   "cell_type": "markdown",
   "metadata": {},
   "source": [
    "When reading CSV files, we can use the `parse_dates` argument to tell pandas which columns should be interpreted as dates and pandas will automatically parse them as date objects. While this is not strictly needed for this exercise, it is good practice to automatically parse dates, in particular if we want to use the date column as the index."
   ]
  },
  {
   "cell_type": "code",
   "execution_count": 21,
   "metadata": {},
   "outputs": [],
   "source": [
    "import pandas as pd\n",
    "\n",
    "# Relative path to data directory\n",
    "DATA_PATH = '../../data'\n",
    "\n",
    "# Path to monthly FRED CSV file\n",
    "fn = f'{DATA_PATH}/FRED/FRED_monthly.csv'\n",
    "\n",
    "# Read the CSV file, setting the 'DATE' column as the index and parsing it as a date \n",
    "df = pd.read_csv(fn, parse_dates=['DATE'])"
   ]
  },
  {
   "cell_type": "markdown",
   "metadata": {},
   "source": [
    "#### Part 2: Reporting columns and observation count"
   ]
  },
  {
   "cell_type": "markdown",
   "metadata": {},
   "source": [
    "We print the columns and their corresponding number of observations using the `info()` method. For larger DataFrames, pandas does not automatically report \n",
    "the number of nonmissing (\"Non-Null\") observations, so we might need to request this explicitly by passing the `show_counts=True` argument.\n",
    "\n",
    "As you can see, not all variables have the same number of observations, as for example the real interest rate (`REALRATE`) and the Federal Funds Rate (`FEDFUNDS`) are only available for the later years."
   ]
  },
  {
   "cell_type": "code",
   "execution_count": 22,
   "metadata": {},
   "outputs": [
    {
     "name": "stdout",
     "output_type": "stream",
     "text": [
      "<class 'pandas.core.frame.DataFrame'>\n",
      "RangeIndex: 924 entries, 0 to 923\n",
      "Data columns (total 8 columns):\n",
      " #   Column    Non-Null Count  Dtype         \n",
      "---  ------    --------------  -----         \n",
      " 0   DATE      924 non-null    datetime64[ns]\n",
      " 1   Year      924 non-null    int64         \n",
      " 2   Month     924 non-null    int64         \n",
      " 3   CPI       924 non-null    float64       \n",
      " 4   UNRATE    924 non-null    float64       \n",
      " 5   FEDFUNDS  846 non-null    float64       \n",
      " 6   REALRATE  516 non-null    float64       \n",
      " 7   LFPART    924 non-null    float64       \n",
      "dtypes: datetime64[ns](1), float64(5), int64(2)\n",
      "memory usage: 57.9 KB\n"
     ]
    }
   ],
   "source": [
    "# List columns and number of non-missing observations\n",
    "df.info(show_counts=True)"
   ]
  },
  {
   "cell_type": "markdown",
   "metadata": {},
   "source": [
    "#### Part 3: Settings `DATE` as the index"
   ]
  },
  {
   "cell_type": "code",
   "execution_count": 23,
   "metadata": {},
   "outputs": [],
   "source": [
    "# Set the column DATE as the index, discarding the previous (default) index\n",
    "df = df.set_index('DATE')"
   ]
  },
  {
   "cell_type": "markdown",
   "metadata": {},
   "source": [
    "Using the date as the index is particularly convenient for time series data. For example, we can select the observations for a specific date or period (such as the first three  months of 2020) by directly specifying that date in `.loc[]`."
   ]
  },
  {
   "cell_type": "code",
   "execution_count": 24,
   "metadata": {},
   "outputs": [
    {
     "data": {
      "text/html": [
       "<div>\n",
       "<style scoped>\n",
       "    .dataframe tbody tr th:only-of-type {\n",
       "        vertical-align: middle;\n",
       "    }\n",
       "\n",
       "    .dataframe tbody tr th {\n",
       "        vertical-align: top;\n",
       "    }\n",
       "\n",
       "    .dataframe thead th {\n",
       "        text-align: right;\n",
       "    }\n",
       "</style>\n",
       "<table border=\"1\" class=\"dataframe\">\n",
       "  <thead>\n",
       "    <tr style=\"text-align: right;\">\n",
       "      <th></th>\n",
       "      <th>Year</th>\n",
       "      <th>Month</th>\n",
       "      <th>CPI</th>\n",
       "      <th>UNRATE</th>\n",
       "      <th>FEDFUNDS</th>\n",
       "      <th>REALRATE</th>\n",
       "      <th>LFPART</th>\n",
       "    </tr>\n",
       "    <tr>\n",
       "      <th>DATE</th>\n",
       "      <th></th>\n",
       "      <th></th>\n",
       "      <th></th>\n",
       "      <th></th>\n",
       "      <th></th>\n",
       "      <th></th>\n",
       "      <th></th>\n",
       "    </tr>\n",
       "  </thead>\n",
       "  <tbody>\n",
       "    <tr>\n",
       "      <th>2020-01-01</th>\n",
       "      <td>2020</td>\n",
       "      <td>1</td>\n",
       "      <td>259.1</td>\n",
       "      <td>3.6</td>\n",
       "      <td>1.6</td>\n",
       "      <td>-0.6</td>\n",
       "      <td>63.3</td>\n",
       "    </tr>\n",
       "    <tr>\n",
       "      <th>2020-02-01</th>\n",
       "      <td>2020</td>\n",
       "      <td>2</td>\n",
       "      <td>259.2</td>\n",
       "      <td>3.5</td>\n",
       "      <td>1.6</td>\n",
       "      <td>-0.5</td>\n",
       "      <td>63.3</td>\n",
       "    </tr>\n",
       "    <tr>\n",
       "      <th>2020-03-01</th>\n",
       "      <td>2020</td>\n",
       "      <td>3</td>\n",
       "      <td>258.1</td>\n",
       "      <td>4.4</td>\n",
       "      <td>0.6</td>\n",
       "      <td>3.4</td>\n",
       "      <td>62.6</td>\n",
       "    </tr>\n",
       "  </tbody>\n",
       "</table>\n",
       "</div>"
      ],
      "text/plain": [
       "            Year  Month    CPI  UNRATE  FEDFUNDS  REALRATE  LFPART\n",
       "DATE                                                              \n",
       "2020-01-01  2020      1  259.1     3.6       1.6      -0.6    63.3\n",
       "2020-02-01  2020      2  259.2     3.5       1.6      -0.5    63.3\n",
       "2020-03-01  2020      3  258.1     4.4       0.6       3.4    62.6"
      ]
     },
     "execution_count": 24,
     "metadata": {},
     "output_type": "execute_result"
    }
   ],
   "source": [
    "df.loc['2020-01':'2020-03']"
   ]
  },
  {
   "cell_type": "markdown",
   "metadata": {},
   "source": [
    "#### Part 4: Labor market statistics for whole sample\n",
    "\n",
    "There are various ways to solve this part. One approach is to select the columns `UNRATE` and `LFPART` and compute the desired statistics (mean, min, max), and round the result to one decimal digit:"
   ]
  },
  {
   "cell_type": "code",
   "execution_count": 25,
   "metadata": {},
   "outputs": [
    {
     "name": "stdout",
     "output_type": "stream",
     "text": [
      "Average:\n",
      "UNRATE     5.7\n",
      "LFPART    62.8\n",
      "dtype: float64\n"
     ]
    }
   ],
   "source": [
    "print(\"Average:\")\n",
    "print(df[['UNRATE', 'LFPART']].mean().round(1))"
   ]
  },
  {
   "cell_type": "code",
   "execution_count": 26,
   "metadata": {},
   "outputs": [
    {
     "name": "stdout",
     "output_type": "stream",
     "text": [
      "Minimum:\n",
      "UNRATE     2.5\n",
      "LFPART    58.1\n",
      "dtype: float64\n"
     ]
    }
   ],
   "source": [
    "print(\"Minimum:\")\n",
    "print(df[['UNRATE', 'LFPART']].min().round(1))"
   ]
  },
  {
   "cell_type": "code",
   "execution_count": 27,
   "metadata": {},
   "outputs": [
    {
     "name": "stdout",
     "output_type": "stream",
     "text": [
      "Maximum:\n",
      "UNRATE    14.8\n",
      "LFPART    67.3\n",
      "dtype: float64\n"
     ]
    }
   ],
   "source": [
    "print(\"Maximum:\")\n",
    "print(df[['UNRATE', 'LFPART']].max().round(1))"
   ]
  },
  {
   "cell_type": "markdown",
   "metadata": {},
   "source": [
    "Alternatively, we can perform this task in a single line leveraging to \n",
    "[`describe()`](pandas.pydata.org/docs/reference/api/pandas.DataFrame.describe.html) \n",
    "method. Recall that `describe()` computes various summary statistics for each column:"
   ]
  },
  {
   "cell_type": "code",
   "execution_count": 28,
   "metadata": {},
   "outputs": [
    {
     "data": {
      "text/html": [
       "<div>\n",
       "<style scoped>\n",
       "    .dataframe tbody tr th:only-of-type {\n",
       "        vertical-align: middle;\n",
       "    }\n",
       "\n",
       "    .dataframe tbody tr th {\n",
       "        vertical-align: top;\n",
       "    }\n",
       "\n",
       "    .dataframe thead th {\n",
       "        text-align: right;\n",
       "    }\n",
       "</style>\n",
       "<table border=\"1\" class=\"dataframe\">\n",
       "  <thead>\n",
       "    <tr style=\"text-align: right;\">\n",
       "      <th></th>\n",
       "      <th>UNRATE</th>\n",
       "      <th>LFPART</th>\n",
       "    </tr>\n",
       "  </thead>\n",
       "  <tbody>\n",
       "    <tr>\n",
       "      <th>count</th>\n",
       "      <td>924.000000</td>\n",
       "      <td>924.000000</td>\n",
       "    </tr>\n",
       "    <tr>\n",
       "      <th>mean</th>\n",
       "      <td>5.683442</td>\n",
       "      <td>62.837013</td>\n",
       "    </tr>\n",
       "    <tr>\n",
       "      <th>std</th>\n",
       "      <td>1.708977</td>\n",
       "      <td>2.902365</td>\n",
       "    </tr>\n",
       "    <tr>\n",
       "      <th>min</th>\n",
       "      <td>2.500000</td>\n",
       "      <td>58.100000</td>\n",
       "    </tr>\n",
       "    <tr>\n",
       "      <th>25%</th>\n",
       "      <td>4.400000</td>\n",
       "      <td>59.800000</td>\n",
       "    </tr>\n",
       "    <tr>\n",
       "      <th>50%</th>\n",
       "      <td>5.500000</td>\n",
       "      <td>62.900000</td>\n",
       "    </tr>\n",
       "    <tr>\n",
       "      <th>75%</th>\n",
       "      <td>6.700000</td>\n",
       "      <td>65.900000</td>\n",
       "    </tr>\n",
       "    <tr>\n",
       "      <th>max</th>\n",
       "      <td>14.800000</td>\n",
       "      <td>67.300000</td>\n",
       "    </tr>\n",
       "  </tbody>\n",
       "</table>\n",
       "</div>"
      ],
      "text/plain": [
       "           UNRATE      LFPART\n",
       "count  924.000000  924.000000\n",
       "mean     5.683442   62.837013\n",
       "std      1.708977    2.902365\n",
       "min      2.500000   58.100000\n",
       "25%      4.400000   59.800000\n",
       "50%      5.500000   62.900000\n",
       "75%      6.700000   65.900000\n",
       "max     14.800000   67.300000"
      ]
     },
     "execution_count": 28,
     "metadata": {},
     "output_type": "execute_result"
    }
   ],
   "source": [
    "df[['UNRATE', 'LFPART']].describe()"
   ]
  },
  {
   "cell_type": "markdown",
   "metadata": {},
   "source": [
    "The output contains statistics we are not interested in, but we can use `loc[]` to select only the desired rows and round them to one decimal digit:"
   ]
  },
  {
   "cell_type": "code",
   "execution_count": 29,
   "metadata": {},
   "outputs": [
    {
     "data": {
      "text/html": [
       "<div>\n",
       "<style scoped>\n",
       "    .dataframe tbody tr th:only-of-type {\n",
       "        vertical-align: middle;\n",
       "    }\n",
       "\n",
       "    .dataframe tbody tr th {\n",
       "        vertical-align: top;\n",
       "    }\n",
       "\n",
       "    .dataframe thead th {\n",
       "        text-align: right;\n",
       "    }\n",
       "</style>\n",
       "<table border=\"1\" class=\"dataframe\">\n",
       "  <thead>\n",
       "    <tr style=\"text-align: right;\">\n",
       "      <th></th>\n",
       "      <th>UNRATE</th>\n",
       "      <th>LFPART</th>\n",
       "    </tr>\n",
       "  </thead>\n",
       "  <tbody>\n",
       "    <tr>\n",
       "      <th>mean</th>\n",
       "      <td>5.7</td>\n",
       "      <td>62.8</td>\n",
       "    </tr>\n",
       "    <tr>\n",
       "      <th>min</th>\n",
       "      <td>2.5</td>\n",
       "      <td>58.1</td>\n",
       "    </tr>\n",
       "    <tr>\n",
       "      <th>max</th>\n",
       "      <td>14.8</td>\n",
       "      <td>67.3</td>\n",
       "    </tr>\n",
       "  </tbody>\n",
       "</table>\n",
       "</div>"
      ],
      "text/plain": [
       "      UNRATE  LFPART\n",
       "mean     5.7    62.8\n",
       "min      2.5    58.1\n",
       "max     14.8    67.3"
      ]
     },
     "execution_count": 29,
     "metadata": {},
     "output_type": "execute_result"
    }
   ],
   "source": [
    "df[['UNRATE', 'LFPART']].describe().loc[['mean', 'min', 'max']].round(1)"
   ]
  },
  {
   "cell_type": "markdown",
   "metadata": {},
   "source": [
    "#### Part 5: Labor market statistics by decade"
   ]
  },
  {
   "cell_type": "markdown",
   "metadata": {},
   "source": [
    "First, we add a new column `Decade` which contains the starting year of each decade corresponding to the observation date:"
   ]
  },
  {
   "cell_type": "code",
   "execution_count": 30,
   "metadata": {},
   "outputs": [],
   "source": [
    "df['Decade'] = df['Year'] // 10 * 10"
   ]
  },
  {
   "cell_type": "markdown",
   "metadata": {},
   "source": [
    "The following table shows that not all decades include the full set of observations:"
   ]
  },
  {
   "cell_type": "code",
   "execution_count": 31,
   "metadata": {},
   "outputs": [
    {
     "data": {
      "text/plain": [
       "Decade\n",
       "1940     24\n",
       "1950    120\n",
       "1960    120\n",
       "1970    120\n",
       "1980    120\n",
       "1990    120\n",
       "2000    120\n",
       "2010    120\n",
       "2020     60\n",
       "Name: count, dtype: int64"
      ]
     },
     "execution_count": 31,
     "metadata": {},
     "output_type": "execute_result"
    }
   ],
   "source": [
    "df['Decade'].value_counts().sort_index()"
   ]
  },
  {
   "cell_type": "markdown",
   "metadata": {},
   "source": [
    "We therefore restrict our attention to the decades from 1950 to 2010 and compute the average unemployment rate for each decade:"
   ]
  },
  {
   "cell_type": "code",
   "execution_count": 32,
   "metadata": {},
   "outputs": [
    {
     "name": "stdout",
     "output_type": "stream",
     "text": [
      "Unemployment rate by decade:\n",
      "Decade starting in 1950:   4.5\n",
      "Decade starting in 1960:   4.8\n",
      "Decade starting in 1970:   6.2\n",
      "Decade starting in 1980:   7.3\n",
      "Decade starting in 1990:   5.8\n",
      "Decade starting in 2000:   5.5\n",
      "Decade starting in 2010:   6.2\n"
     ]
    }
   ],
   "source": [
    "decades = np.arange(1950, 2011, 10)\n",
    "\n",
    "print(\"Unemployment rate by decade:\")\n",
    "for decade in decades:\n",
    "    mean = df.loc[df['Decade'] == decade, \"UNRATE\"].mean()\n",
    "    print(f\"Decade starting in {decade}: {mean:5.1f}\")"
   ]
  },
  {
   "cell_type": "markdown",
   "metadata": {},
   "source": [
    "Note that this task can be achieved much more elegantly using grouping operations which we will study in the next lectures."
   ]
  },
  {
   "cell_type": "markdown",
   "metadata": {},
   "source": [
    "***\n",
    "# Exercise 4: Working with string data (advanced)\n",
    "\n",
    "Most of the data we deal with contain strings, i.e., text data (names, addresses, etc.). Often, such data is not in the format needed for analysis, and we have to perform additional string manipulation to extract the exact data we need. This can be achieved using the pandas [string methods](https://pandas.pydata.org/docs/user_guide/text.html#string-methods).\n",
    "\n",
    "To illustrate, we use the Titanic data set for this exercise.\n",
    "\n",
    "1.  Load the Titanic data and restrict the sample to men. (This simplifies the task. Women in this data set have much more complicated names as they contain both their husband's and their maiden name)\n",
    "2.  Print the first five observations of the `Name` column. As you can see, the data is stored in the format _\"Last name, Title First name\"_ where title is something like Mr., Rev., etc.\n",
    "3. Split the `Name` column by `,` to extract the last name and the remainder as separate columns. You can achieve this using the [`partition()`](https://pandas.pydata.org/docs/reference/api/pandas.Series.str.partition.html#pandas.Series.str.partition) string method.\n",
    "4. Split the remainder (containing the title and first name) using the space character `\" \"` as separator to obtain individual columns for the title and the first name.\n",
    "5. Store the three data series in the original `DataFrame` (using the column names `FirstName`, `LastName` and `Title`) and delete the `Name` column which is no longer needed.\n",
    "6. Finally, extract the ship deck from the values in `Cabin`. The ship deck is the first character in the string stored in `Cabin` (A, B, C, ...). You extract the first character using the \n",
    "[`get()`](https://pandas.pydata.org/docs/reference/api/pandas.Series.str.get.html#pandas.Series.str.get) string method. Store the result in the column `Deck`.\n",
    "\n",
    "*Hint*: Pandas's string methods can be accessed using the `.str` attribute. For example, to partition values in the column `Name`, you need to use\n",
    "```python\n",
    "df['Name'].str.partition()\n",
    "```\n"
   ]
  },
  {
   "cell_type": "markdown",
   "metadata": {},
   "source": [
    "### Solution"
   ]
  },
  {
   "cell_type": "markdown",
   "metadata": {},
   "source": [
    "#### Part 1: Import data and restrict to male sub-sample"
   ]
  },
  {
   "cell_type": "code",
   "execution_count": 33,
   "metadata": {},
   "outputs": [],
   "source": [
    "# Path to data directory\n",
    "DATA_PATH = '../../data'\n",
    "\n",
    "# Alternatively, load data directly from GitHub\n",
    "# DATA_PATH = 'https://raw.githubusercontent.com/richardfoltyn/TECH2-H25/main/data'"
   ]
  },
  {
   "cell_type": "code",
   "execution_count": 34,
   "metadata": {},
   "outputs": [],
   "source": [
    "import pandas as pd\n",
    "\n",
    "# Path to Titanic CSV file\n",
    "fn = f'{DATA_PATH}/titanic.csv'\n",
    "\n",
    "df = pd.read_csv(fn)"
   ]
  },
  {
   "cell_type": "markdown",
   "metadata": {},
   "source": [
    "We restrict the sample either with boolean indexing of with the `query()` method."
   ]
  },
  {
   "cell_type": "code",
   "execution_count": 35,
   "metadata": {},
   "outputs": [],
   "source": [
    "# Restrict sample to men\n",
    "df = df.loc[df['Sex'] == 'male'].copy()\n",
    "\n",
    "# Alternatively, we can do this with a query()\n",
    "df = df.query('Sex == \"male\"')"
   ]
  },
  {
   "cell_type": "markdown",
   "metadata": {},
   "source": [
    "#### Part 2: Inspect the `Name` column"
   ]
  },
  {
   "cell_type": "code",
   "execution_count": 36,
   "metadata": {},
   "outputs": [
    {
     "data": {
      "text/plain": [
       "0            Braund, Mr. Owen Harris\n",
       "4           Allen, Mr. William Henry\n",
       "5                   Moran, Mr. James\n",
       "6            McCarthy, Mr. Timothy J\n",
       "7      Palsson, Master Gosta Leonard\n",
       "12    Saundercock, Mr. William Henry\n",
       "13       Andersson, Mr. Anders Johan\n",
       "16               Rice, Master Eugene\n",
       "17      Williams, Mr. Charles Eugene\n",
       "20              Fynney, Mr. Joseph J\n",
       "Name: Name, dtype: object"
      ]
     },
     "execution_count": 36,
     "metadata": {},
     "output_type": "execute_result"
    }
   ],
   "source": [
    "# Print first 10 Name observations \n",
    "df['Name'].head(10)"
   ]
  },
  {
   "cell_type": "markdown",
   "metadata": {},
   "source": [
    "#### Part 3: Split into last name and remainder\n",
    "\n",
    "Note that `partition()` returns _three_ columns, the second on containing the separator you specified. This second column can be ignored."
   ]
  },
  {
   "cell_type": "code",
   "execution_count": 37,
   "metadata": {},
   "outputs": [
    {
     "data": {
      "text/html": [
       "<div>\n",
       "<style scoped>\n",
       "    .dataframe tbody tr th:only-of-type {\n",
       "        vertical-align: middle;\n",
       "    }\n",
       "\n",
       "    .dataframe tbody tr th {\n",
       "        vertical-align: top;\n",
       "    }\n",
       "\n",
       "    .dataframe thead th {\n",
       "        text-align: right;\n",
       "    }\n",
       "</style>\n",
       "<table border=\"1\" class=\"dataframe\">\n",
       "  <thead>\n",
       "    <tr style=\"text-align: right;\">\n",
       "      <th></th>\n",
       "      <th>0</th>\n",
       "      <th>1</th>\n",
       "      <th>2</th>\n",
       "    </tr>\n",
       "  </thead>\n",
       "  <tbody>\n",
       "    <tr>\n",
       "      <th>0</th>\n",
       "      <td>Braund</td>\n",
       "      <td>,</td>\n",
       "      <td>Mr. Owen Harris</td>\n",
       "    </tr>\n",
       "    <tr>\n",
       "      <th>4</th>\n",
       "      <td>Allen</td>\n",
       "      <td>,</td>\n",
       "      <td>Mr. William Henry</td>\n",
       "    </tr>\n",
       "    <tr>\n",
       "      <th>5</th>\n",
       "      <td>Moran</td>\n",
       "      <td>,</td>\n",
       "      <td>Mr. James</td>\n",
       "    </tr>\n",
       "    <tr>\n",
       "      <th>6</th>\n",
       "      <td>McCarthy</td>\n",
       "      <td>,</td>\n",
       "      <td>Mr. Timothy J</td>\n",
       "    </tr>\n",
       "    <tr>\n",
       "      <th>7</th>\n",
       "      <td>Palsson</td>\n",
       "      <td>,</td>\n",
       "      <td>Master Gosta Leonard</td>\n",
       "    </tr>\n",
       "  </tbody>\n",
       "</table>\n",
       "</div>"
      ],
      "text/plain": [
       "          0  1                      2\n",
       "0    Braund  ,        Mr. Owen Harris\n",
       "4     Allen  ,      Mr. William Henry\n",
       "5     Moran  ,              Mr. James\n",
       "6  McCarthy  ,          Mr. Timothy J\n",
       "7   Palsson  ,   Master Gosta Leonard"
      ]
     },
     "execution_count": 37,
     "metadata": {},
     "output_type": "execute_result"
    }
   ],
   "source": [
    "# Split names by comma, create DataFrame with a column for each token\n",
    "names = df['Name'].str.partition(',')\n",
    "\n",
    "# Print first 5 rows or resulting DataFrame\n",
    "names.head(5)"
   ]
  },
  {
   "cell_type": "code",
   "execution_count": 38,
   "metadata": {},
   "outputs": [
    {
     "data": {
      "text/plain": [
       "0      Braund\n",
       "4       Allen\n",
       "5       Moran\n",
       "6    McCarthy\n",
       "7     Palsson\n",
       "Name: 0, dtype: object"
      ]
     },
     "execution_count": 38,
     "metadata": {},
     "output_type": "execute_result"
    }
   ],
   "source": [
    "# Extract last name stored in 1st column, strip any remaining white space\n",
    "last_name = names[0].str.strip()\n",
    "\n",
    "# Print first 5 observations\n",
    "last_name.head(5)"
   ]
  },
  {
   "cell_type": "markdown",
   "metadata": {},
   "source": [
    "#### Part 4: Split title and first name"
   ]
  },
  {
   "cell_type": "code",
   "execution_count": 39,
   "metadata": {},
   "outputs": [
    {
     "data": {
      "text/html": [
       "<div>\n",
       "<style scoped>\n",
       "    .dataframe tbody tr th:only-of-type {\n",
       "        vertical-align: middle;\n",
       "    }\n",
       "\n",
       "    .dataframe tbody tr th {\n",
       "        vertical-align: top;\n",
       "    }\n",
       "\n",
       "    .dataframe thead th {\n",
       "        text-align: right;\n",
       "    }\n",
       "</style>\n",
       "<table border=\"1\" class=\"dataframe\">\n",
       "  <thead>\n",
       "    <tr style=\"text-align: right;\">\n",
       "      <th></th>\n",
       "      <th>0</th>\n",
       "      <th>1</th>\n",
       "      <th>2</th>\n",
       "    </tr>\n",
       "  </thead>\n",
       "  <tbody>\n",
       "    <tr>\n",
       "      <th>0</th>\n",
       "      <td>Mr.</td>\n",
       "      <td></td>\n",
       "      <td>Owen Harris</td>\n",
       "    </tr>\n",
       "    <tr>\n",
       "      <th>4</th>\n",
       "      <td>Mr.</td>\n",
       "      <td></td>\n",
       "      <td>William Henry</td>\n",
       "    </tr>\n",
       "    <tr>\n",
       "      <th>5</th>\n",
       "      <td>Mr.</td>\n",
       "      <td></td>\n",
       "      <td>James</td>\n",
       "    </tr>\n",
       "    <tr>\n",
       "      <th>6</th>\n",
       "      <td>Mr.</td>\n",
       "      <td></td>\n",
       "      <td>Timothy J</td>\n",
       "    </tr>\n",
       "    <tr>\n",
       "      <th>7</th>\n",
       "      <td>Master</td>\n",
       "      <td></td>\n",
       "      <td>Gosta Leonard</td>\n",
       "    </tr>\n",
       "  </tbody>\n",
       "</table>\n",
       "</div>"
      ],
      "text/plain": [
       "        0  1              2\n",
       "0     Mr.       Owen Harris\n",
       "4     Mr.     William Henry\n",
       "5     Mr.             James\n",
       "6     Mr.         Timothy J\n",
       "7  Master     Gosta Leonard"
      ]
     },
     "execution_count": 39,
     "metadata": {},
     "output_type": "execute_result"
    }
   ],
   "source": [
    "# Title and first name (potentially multiple) are separated by space\n",
    "title_first = names[2].str.strip().str.partition(' ')\n",
    "\n",
    "title_first.head(5)"
   ]
  },
  {
   "cell_type": "code",
   "execution_count": 40,
   "metadata": {},
   "outputs": [
    {
     "data": {
      "text/plain": [
       "0       Mr.\n",
       "4       Mr.\n",
       "5       Mr.\n",
       "6       Mr.\n",
       "7    Master\n",
       "Name: 0, dtype: object"
      ]
     },
     "execution_count": 40,
     "metadata": {},
     "output_type": "execute_result"
    }
   ],
   "source": [
    "# Extract title from 1st column, strip any remaining white space\n",
    "title = title_first[0].str.strip()\n",
    "title.head(5)"
   ]
  },
  {
   "cell_type": "code",
   "execution_count": 41,
   "metadata": {},
   "outputs": [
    {
     "data": {
      "text/plain": [
       "0      Owen Harris\n",
       "4    William Henry\n",
       "5            James\n",
       "6        Timothy J\n",
       "7    Gosta Leonard\n",
       "Name: 2, dtype: object"
      ]
     },
     "execution_count": 41,
     "metadata": {},
     "output_type": "execute_result"
    }
   ],
   "source": [
    "# Extract first name(s) from 3rd column, strip any remaining white space\n",
    "first_name = title_first[2].str.strip()\n",
    "\n",
    "# Print first 5 observations\n",
    "first_name.head(5)"
   ]
  },
  {
   "cell_type": "markdown",
   "metadata": {},
   "source": [
    "#### Part 5: Store name components in original DataFrame"
   ]
  },
  {
   "cell_type": "code",
   "execution_count": 42,
   "metadata": {},
   "outputs": [],
   "source": [
    "# Merge all name components back into original DataFrame\n",
    "df['FirstName'] = first_name\n",
    "df['LastName'] = last_name\n",
    "df['Title'] = title\n",
    "\n",
    "# Delete Name column\n",
    "del df['Name']"
   ]
  },
  {
   "cell_type": "code",
   "execution_count": 43,
   "metadata": {},
   "outputs": [
    {
     "data": {
      "text/html": [
       "<div>\n",
       "<style scoped>\n",
       "    .dataframe tbody tr th:only-of-type {\n",
       "        vertical-align: middle;\n",
       "    }\n",
       "\n",
       "    .dataframe tbody tr th {\n",
       "        vertical-align: top;\n",
       "    }\n",
       "\n",
       "    .dataframe thead th {\n",
       "        text-align: right;\n",
       "    }\n",
       "</style>\n",
       "<table border=\"1\" class=\"dataframe\">\n",
       "  <thead>\n",
       "    <tr style=\"text-align: right;\">\n",
       "      <th></th>\n",
       "      <th>PassengerId</th>\n",
       "      <th>Survived</th>\n",
       "      <th>Pclass</th>\n",
       "      <th>Sex</th>\n",
       "      <th>Age</th>\n",
       "      <th>Ticket</th>\n",
       "      <th>Fare</th>\n",
       "      <th>Cabin</th>\n",
       "      <th>Embarked</th>\n",
       "      <th>FirstName</th>\n",
       "      <th>LastName</th>\n",
       "      <th>Title</th>\n",
       "    </tr>\n",
       "  </thead>\n",
       "  <tbody>\n",
       "    <tr>\n",
       "      <th>0</th>\n",
       "      <td>1</td>\n",
       "      <td>0</td>\n",
       "      <td>3</td>\n",
       "      <td>male</td>\n",
       "      <td>22.0</td>\n",
       "      <td>A/5 21171</td>\n",
       "      <td>7.2500</td>\n",
       "      <td>NaN</td>\n",
       "      <td>S</td>\n",
       "      <td>Owen Harris</td>\n",
       "      <td>Braund</td>\n",
       "      <td>Mr.</td>\n",
       "    </tr>\n",
       "    <tr>\n",
       "      <th>4</th>\n",
       "      <td>5</td>\n",
       "      <td>0</td>\n",
       "      <td>3</td>\n",
       "      <td>male</td>\n",
       "      <td>35.0</td>\n",
       "      <td>373450</td>\n",
       "      <td>8.0500</td>\n",
       "      <td>NaN</td>\n",
       "      <td>S</td>\n",
       "      <td>William Henry</td>\n",
       "      <td>Allen</td>\n",
       "      <td>Mr.</td>\n",
       "    </tr>\n",
       "    <tr>\n",
       "      <th>5</th>\n",
       "      <td>6</td>\n",
       "      <td>0</td>\n",
       "      <td>3</td>\n",
       "      <td>male</td>\n",
       "      <td>NaN</td>\n",
       "      <td>330877</td>\n",
       "      <td>8.4583</td>\n",
       "      <td>NaN</td>\n",
       "      <td>Q</td>\n",
       "      <td>James</td>\n",
       "      <td>Moran</td>\n",
       "      <td>Mr.</td>\n",
       "    </tr>\n",
       "    <tr>\n",
       "      <th>6</th>\n",
       "      <td>7</td>\n",
       "      <td>0</td>\n",
       "      <td>1</td>\n",
       "      <td>male</td>\n",
       "      <td>54.0</td>\n",
       "      <td>17463</td>\n",
       "      <td>51.8625</td>\n",
       "      <td>E46</td>\n",
       "      <td>S</td>\n",
       "      <td>Timothy J</td>\n",
       "      <td>McCarthy</td>\n",
       "      <td>Mr.</td>\n",
       "    </tr>\n",
       "    <tr>\n",
       "      <th>7</th>\n",
       "      <td>8</td>\n",
       "      <td>0</td>\n",
       "      <td>3</td>\n",
       "      <td>male</td>\n",
       "      <td>2.0</td>\n",
       "      <td>349909</td>\n",
       "      <td>21.0750</td>\n",
       "      <td>NaN</td>\n",
       "      <td>S</td>\n",
       "      <td>Gosta Leonard</td>\n",
       "      <td>Palsson</td>\n",
       "      <td>Master</td>\n",
       "    </tr>\n",
       "  </tbody>\n",
       "</table>\n",
       "</div>"
      ],
      "text/plain": [
       "   PassengerId  Survived  Pclass   Sex   Age     Ticket     Fare Cabin  \\\n",
       "0            1         0       3  male  22.0  A/5 21171   7.2500   NaN   \n",
       "4            5         0       3  male  35.0     373450   8.0500   NaN   \n",
       "5            6         0       3  male   NaN     330877   8.4583   NaN   \n",
       "6            7         0       1  male  54.0      17463  51.8625   E46   \n",
       "7            8         0       3  male   2.0     349909  21.0750   NaN   \n",
       "\n",
       "  Embarked      FirstName  LastName   Title  \n",
       "0        S    Owen Harris    Braund     Mr.  \n",
       "4        S  William Henry     Allen     Mr.  \n",
       "5        Q          James     Moran     Mr.  \n",
       "6        S      Timothy J  McCarthy     Mr.  \n",
       "7        S  Gosta Leonard   Palsson  Master  "
      ]
     },
     "execution_count": 43,
     "metadata": {},
     "output_type": "execute_result"
    }
   ],
   "source": [
    "df.head(5)"
   ]
  },
  {
   "cell_type": "markdown",
   "metadata": {},
   "source": [
    "#### Part 6: Extract deck\n",
    "\n",
    "We can use the `get()` string method to extract the first element of the cabin string (if present). Note that observations with a missing value for `Cabin` will also be assigned a missing value for `Deck`."
   ]
  },
  {
   "cell_type": "code",
   "execution_count": 44,
   "metadata": {},
   "outputs": [],
   "source": [
    "df['Deck'] = df['Cabin'].str.strip().str.get(0)"
   ]
  },
  {
   "cell_type": "code",
   "execution_count": 45,
   "metadata": {},
   "outputs": [
    {
     "data": {
      "text/plain": [
       "Deck\n",
       "A    14\n",
       "B    20\n",
       "C    32\n",
       "D    15\n",
       "E    17\n",
       "F     8\n",
       "T     1\n",
       "Name: count, dtype: int64"
      ]
     },
     "execution_count": 45,
     "metadata": {},
     "output_type": "execute_result"
    }
   ],
   "source": [
    "# Print histogram of the number of cabins by deck\n",
    "df['Deck'].value_counts().sort_index()"
   ]
  }
 ],
 "metadata": {
  "kernelspec": {
   "display_name": "TECH2",
   "language": "python",
   "name": "python3"
  },
  "language_info": {
   "codemirror_mode": {
    "name": "ipython",
    "version": 3
   },
   "file_extension": ".py",
   "mimetype": "text/x-python",
   "name": "python",
   "nbconvert_exporter": "python",
   "pygments_lexer": "ipython3",
   "version": "3.13.5"
  }
 },
 "nbformat": 4,
 "nbformat_minor": 2
}
